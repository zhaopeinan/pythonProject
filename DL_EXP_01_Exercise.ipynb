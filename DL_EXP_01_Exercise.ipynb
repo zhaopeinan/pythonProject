{
 "cells": [
  {
   "cell_type": "code",
   "execution_count": null,
   "metadata": {
    "collapsed": true
   },
   "outputs": [],
   "source": [
    "# 一、Pytorch基本操作考察（平台课+专业课）"
   ]
  },
  {
   "cell_type": "code",
   "execution_count": null,
   "outputs": [],
   "source": [
    "# 1.\n",
    "# 使用 𝐓𝐞𝐧𝐬𝐨𝐫 初始化一个 𝟏 × 𝟑 的矩阵 𝑴 和一个 𝟐 × 𝟏 的矩阵 𝑵，对两矩阵进行减法操作（要求实现三种不同的形式），给出结果并分析三种方式的不同（如果出现报错，分析报错的原因），同时需要指出在计算过程中发生了什么"
   ],
   "metadata": {
    "collapsed": false
   }
  },
  {
   "cell_type": "code",
   "execution_count": 2,
   "outputs": [],
   "source": [
    "import torch"
   ],
   "metadata": {
    "collapsed": false
   }
  },
  {
   "cell_type": "code",
   "execution_count": 4,
   "outputs": [
    {
     "name": "stdout",
     "output_type": "stream",
     "text": [
      "tensor([[-3, -4],\n",
      "        [-2, -3],\n",
      "        [-1, -2]])\n"
     ]
    }
   ],
   "source": [
    "M = torch.tensor([[1], [2], [3]])\n",
    "N = torch.tensor([4, 5])\n",
    "Q = M - N\n",
    "print(Q)"
   ],
   "metadata": {
    "collapsed": false
   }
  },
  {
   "cell_type": "code",
   "execution_count": 9,
   "outputs": [
    {
     "name": "stdout",
     "output_type": "stream",
     "text": [
      "tensor([[-3, -4],\n",
      "        [-2, -3],\n",
      "        [-1, -2]])\n"
     ]
    }
   ],
   "source": [
    "M_2 = torch.rand_like(M, dtype=torch.float)\n",
    "N_2 = torch.rand_like(N, dtype=torch.float)\n",
    "Q_2 = M - N\n",
    "print(Q_2)"
   ],
   "metadata": {
    "collapsed": false
   }
  },
  {
   "cell_type": "code",
   "execution_count": 10,
   "outputs": [
    {
     "name": "stdout",
     "output_type": "stream",
     "text": [
      "tensor([[0., 0., 0.],\n",
      "        [0., 0., 0.]])\n"
     ]
    }
   ],
   "source": [
    "M_3 = torch.ones(1, 3)\n",
    "N_3 = torch.ones(2, 1)\n",
    "Q_3 = M_3 - N_3\n",
    "print(Q_3)"
   ],
   "metadata": {
    "collapsed": false
   }
  },
  {
   "cell_type": "code",
   "execution_count": null,
   "outputs": [],
   "source": [
    "# 2.\n",
    "# ① 利用 𝐓𝐞𝐧𝐬𝐨𝐫 创建两个大小分别 𝟑 × 𝟐 和 𝟒 × 𝟐 的随机数矩阵 𝑷 和 𝑸 ，要求服从均值为0，标准差0.01为的正态分布"
   ],
   "metadata": {
    "collapsed": false
   }
  },
  {
   "cell_type": "code",
   "execution_count": 11,
   "outputs": [
    {
     "name": "stdout",
     "output_type": "stream",
     "text": [
      "tensor([[ 0.0015, -0.0076],\n",
      "        [ 0.0172,  0.0250],\n",
      "        [ 0.0125, -0.0004]])\n",
      "tensor([[ 0.0008,  0.0104],\n",
      "        [-0.0054, -0.0046],\n",
      "        [-0.0199,  0.0153],\n",
      "        [-0.0008, -0.0010]])\n"
     ]
    }
   ],
   "source": [
    "P = torch.normal(0, 0.01, (3, 2))\n",
    "Q = torch.normal(0, 0.01, (4, 2))\n",
    "print(P)\n",
    "print(Q)"
   ],
   "metadata": {
    "collapsed": false
   }
  },
  {
   "cell_type": "code",
   "execution_count": null,
   "outputs": [],
   "source": [
    "# ② 对第二步得到的矩阵 𝑸 进行形状变换得到 𝑸 的转置 𝑸𝑻"
   ],
   "metadata": {
    "collapsed": false
   }
  },
  {
   "cell_type": "code",
   "execution_count": 12,
   "outputs": [
    {
     "name": "stdout",
     "output_type": "stream",
     "text": [
      "tensor([[ 0.0008, -0.0054, -0.0199, -0.0008],\n",
      "        [ 0.0104, -0.0046,  0.0153, -0.0010]])\n"
     ]
    }
   ],
   "source": [
    "QT = Q.T\n",
    "print(QT)"
   ],
   "metadata": {
    "collapsed": false
   }
  },
  {
   "cell_type": "code",
   "execution_count": null,
   "outputs": [],
   "source": [
    "# ③ 对上述得到的矩阵 𝑷 和矩阵 𝑸𝑻 求矩阵相乘"
   ],
   "metadata": {
    "collapsed": false
   }
  },
  {
   "cell_type": "code",
   "execution_count": 14,
   "outputs": [
    {
     "name": "stdout",
     "output_type": "stream",
     "text": [
      "tensor([[-7.8270e-05,  2.7024e-05, -1.4622e-04,  6.4623e-06],\n",
      "        [ 2.7337e-04, -2.0765e-04,  4.1129e-05, -3.8444e-05],\n",
      "        [ 5.4841e-06, -6.5841e-05, -2.5488e-04, -9.4149e-06]])\n"
     ]
    }
   ],
   "source": [
    "PQT = torch.mm(P, QT)\n",
    "print(PQT)"
   ],
   "metadata": {
    "collapsed": false
   }
  },
  {
   "cell_type": "code",
   "execution_count": null,
   "outputs": [],
   "source": [
    "# 3.\n",
    "# 给定公式 𝑦3 = 𝑦1 + 𝑦2 = 𝑥^2 + 𝑥^3，且 𝑥 = 1。利用学习所得到的Tensor的相关知识，求𝑦3对𝑥的梯度，即𝑑𝑦3/𝑑𝑥\n",
    "# 要求在计算过程中，在计算 𝑥3 时中断梯度的追踪，观察结果并进行原因分析\n",
    "# 提示, 可使用 with torch.no_grad()， 举例:\n",
    "# with torch.no_grad():\n",
    "# y = x * 5"
   ],
   "metadata": {
    "collapsed": false
   }
  }
 ],
 "metadata": {
  "kernelspec": {
   "display_name": "Python 3",
   "language": "python",
   "name": "python3"
  },
  "language_info": {
   "codemirror_mode": {
    "name": "ipython",
    "version": 2
   },
   "file_extension": ".py",
   "mimetype": "text/x-python",
   "name": "python",
   "nbconvert_exporter": "python",
   "pygments_lexer": "ipython2",
   "version": "2.7.6"
  }
 },
 "nbformat": 4,
 "nbformat_minor": 0
}
