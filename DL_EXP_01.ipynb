{
 "cells": [
  {
   "cell_type": "code",
   "execution_count": 1,
   "metadata": {
    "collapsed": true
   },
   "outputs": [
    {
     "name": "stdout",
     "output_type": "stream",
     "text": [
      "tensor([[-1.6339e+17,  1.0870e-19, -1.6338e+17],\n",
      "        [-1.0870e-19, -1.6339e+17, -3.6990e+19]])\n"
     ]
    }
   ],
   "source": [
    "import torch\n",
    "x = torch.empty(2, 3)\n",
    "print(x)"
   ]
  },
  {
   "cell_type": "code",
   "execution_count": 2,
   "outputs": [
    {
     "name": "stdout",
     "output_type": "stream",
     "text": [
      "tensor([[0.5831, 0.6992, 0.9188],\n",
      "        [0.9686, 0.5431, 0.4877]])\n"
     ]
    }
   ],
   "source": [
    "x = torch.rand(2, 3)\n",
    "print(x)"
   ],
   "metadata": {
    "collapsed": false
   }
  },
  {
   "cell_type": "code",
   "execution_count": 3,
   "outputs": [
    {
     "name": "stdout",
     "output_type": "stream",
     "text": [
      "tensor([[0, 0, 0],\n",
      "        [0, 0, 0]])\n"
     ]
    }
   ],
   "source": [
    "x = torch.zeros(2, 3, dtype=torch.long)\n",
    "print(x)"
   ],
   "metadata": {
    "collapsed": false
   }
  },
  {
   "cell_type": "code",
   "execution_count": 5,
   "outputs": [
    {
     "name": "stdout",
     "output_type": "stream",
     "text": [
      "tensor([[5, 5, 3],\n",
      "        [2, 2, 5]])\n"
     ]
    }
   ],
   "source": [
    "x = torch.tensor([[5, 5, 3], [2, 2, 5]])\n",
    "print(x)"
   ],
   "metadata": {
    "collapsed": false
   }
  },
  {
   "cell_type": "code",
   "execution_count": 6,
   "outputs": [
    {
     "name": "stdout",
     "output_type": "stream",
     "text": [
      "tensor([[1, 1, 1],\n",
      "        [1, 1, 1]])\n"
     ]
    }
   ],
   "source": [
    "x = x.new_ones(2, 3)\n",
    "print(x)"
   ],
   "metadata": {
    "collapsed": false
   }
  },
  {
   "cell_type": "code",
   "execution_count": 7,
   "outputs": [
    {
     "name": "stdout",
     "output_type": "stream",
     "text": [
      "tensor([[0.6096, 0.8882, 0.8294],\n",
      "        [0.3682, 0.1706, 0.7608]])\n"
     ]
    }
   ],
   "source": [
    "x = torch.rand_like(x, dtype=torch.float)\n",
    "print(x)"
   ],
   "metadata": {
    "collapsed": false
   }
  },
  {
   "cell_type": "code",
   "execution_count": 10,
   "outputs": [
    {
     "name": "stdout",
     "output_type": "stream",
     "text": [
      "torch.Size([2, 3])\n",
      "torch.Size([2, 3])\n"
     ]
    }
   ],
   "source": [
    "print(x.size())\n",
    "print(x.shape)"
   ],
   "metadata": {
    "collapsed": false
   }
  },
  {
   "cell_type": "code",
   "execution_count": 12,
   "outputs": [
    {
     "name": "stdout",
     "output_type": "stream",
     "text": [
      "tensor([[0.7645, 0.6439, 0.2719],\n",
      "        [0.5941, 0.4194, 0.3230]])\n",
      "tensor([[0.8693, 0.0487, 0.9718],\n",
      "        [0.9983, 0.7449, 0.7045]])\n",
      "tensor([[1.6338, 0.6926, 1.2436],\n",
      "        [1.5924, 1.1644, 1.0275]])\n"
     ]
    }
   ],
   "source": [
    "x = torch.rand(2, 3)\n",
    "y = torch.rand(2, 3)\n",
    "print(x)\n",
    "print(y)\n",
    "print(x + y)"
   ],
   "metadata": {
    "collapsed": false
   }
  },
  {
   "cell_type": "code",
   "execution_count": 18,
   "outputs": [
    {
     "name": "stdout",
     "output_type": "stream",
     "text": [
      "tensor([[0.7645, 0.6439, 0.2719],\n",
      "        [0.5941, 0.4194, 0.3230]])\n",
      "tensor([[0.8693, 0.0487, 0.9718],\n",
      "        [0.9983, 0.7449, 0.7045]])\n",
      "tensor([[1.6338, 0.6926, 1.2436],\n",
      "        [1.5924, 1.1644, 1.0275]])\n"
     ]
    }
   ],
   "source": [
    "print(x)\n",
    "print(y)\n",
    "print(torch.add(x, y))"
   ],
   "metadata": {
    "collapsed": false
   }
  },
  {
   "cell_type": "code",
   "execution_count": 20,
   "outputs": [
    {
     "name": "stdout",
     "output_type": "stream",
     "text": [
      "tensor([[0.7645, 0.6439, 0.2719],\n",
      "        [0.5941, 0.4194, 0.3230]])\n",
      "tensor([[0.8693, 0.0487, 0.9718],\n",
      "        [0.9983, 0.7449, 0.7045]])\n",
      "tensor([[1.6338, 0.6926, 1.2436],\n",
      "        [1.5924, 1.1644, 1.0275]])\n"
     ]
    }
   ],
   "source": [
    "print(x)\n",
    "print(y)\n",
    "y.add_(x)\n",
    "print(y)"
   ],
   "metadata": {
    "collapsed": false
   }
  },
  {
   "cell_type": "code",
   "execution_count": 22,
   "outputs": [
    {
     "name": "stdout",
     "output_type": "stream",
     "text": [
      "tensor([1.7645, 1.6439, 1.2719])\n",
      "tensor([2.7645, 2.6439, 2.2719])\n",
      "tensor([2.7645, 2.6439, 2.2719])\n"
     ]
    }
   ],
   "source": [
    "y = x[0, :]\n",
    "print(y)\n",
    "y += 1\n",
    "print(y)\n",
    "print(x[0, :])"
   ],
   "metadata": {
    "collapsed": false
   }
  },
  {
   "cell_type": "code",
   "execution_count": 36,
   "outputs": [
    {
     "name": "stdout",
     "output_type": "stream",
     "text": [
      "torch.Size([2, 3]) torch.Size([6]) torch.Size([3, 2])\n",
      "tensor([[2.7645, 2.6439, 2.2719],\n",
      "        [0.5941, 0.4194, 0.3230]]) tensor([2.7645, 2.6439, 2.2719, 0.5941, 0.4194, 0.3230]) tensor([[2.7645, 2.6439],\n",
      "        [2.2719, 0.5941],\n",
      "        [0.4194, 0.3230]])\n"
     ]
    }
   ],
   "source": [
    "y = x.view(6)\n",
    "z = x.view(3, 2)\n",
    "print(x.size(), y.size(), z.size())\n",
    "print(x, y, z)"
   ],
   "metadata": {
    "collapsed": false
   }
  },
  {
   "cell_type": "code",
   "execution_count": 37,
   "outputs": [
    {
     "name": "stdout",
     "output_type": "stream",
     "text": [
      "tensor([[ 1.7645,  1.6439,  1.2719],\n",
      "        [-0.4059, -0.5806, -0.6770]])\n",
      "tensor([2.7645, 2.6439, 2.2719, 0.5941, 0.4194, 0.3230])\n"
     ]
    }
   ],
   "source": [
    "x_cp = x.clone().view(6)\n",
    "x -= 1\n",
    "print(x)\n",
    "print(x_cp)"
   ],
   "metadata": {
    "collapsed": false
   }
  },
  {
   "cell_type": "code",
   "execution_count": 42,
   "outputs": [
    {
     "name": "stdout",
     "output_type": "stream",
     "text": [
      "tensor([[1, 2]])\n",
      "tensor([[1],\n",
      "        [2],\n",
      "        [3]])\n",
      "tensor([[2, 3],\n",
      "        [3, 4],\n",
      "        [4, 5]])\n"
     ]
    }
   ],
   "source": [
    "x = torch.arange(1, 3).view(1, 2)\n",
    "print(x)\n",
    "y = torch.arange(1, 4).view(3, 1)\n",
    "print(y)\n",
    "print(x + y)"
   ],
   "metadata": {
    "collapsed": false
   }
  },
  {
   "cell_type": "code",
   "execution_count": 43,
   "outputs": [
    {
     "name": "stdout",
     "output_type": "stream",
     "text": [
      "tensor([1., 1., 1.]) [1. 1. 1.]\n"
     ]
    }
   ],
   "source": [
    "a = torch.ones(3)\n",
    "b = a.numpy()\n",
    "print(a, b)"
   ],
   "metadata": {
    "collapsed": false
   }
  },
  {
   "cell_type": "code",
   "execution_count": 45,
   "outputs": [
    {
     "name": "stdout",
     "output_type": "stream",
     "text": [
      "tensor([3., 3., 3.]) [3. 3. 3.]\n",
      "tensor([4., 4., 4.]) [4. 4. 4.]\n"
     ]
    }
   ],
   "source": [
    "a += 1\n",
    "print(a, b)\n",
    "b += 1\n",
    "print(a, b)"
   ],
   "metadata": {
    "collapsed": false
   }
  },
  {
   "cell_type": "code",
   "execution_count": 49,
   "outputs": [
    {
     "name": "stdout",
     "output_type": "stream",
     "text": [
      "[1. 1. 1.] tensor([1., 1., 1.], dtype=torch.float64)\n",
      "[2. 2. 2.] tensor([2., 2., 2.], dtype=torch.float64)\n",
      "[3. 3. 3.] tensor([3., 3., 3.], dtype=torch.float64)\n"
     ]
    }
   ],
   "source": [
    "import numpy as np\n",
    "a = np.ones(3)\n",
    "b = torch.from_numpy(a)\n",
    "print(a, b)\n",
    "\n",
    "a += 1\n",
    "print(a, b)\n",
    "b += 1\n",
    "print(a, b)"
   ],
   "metadata": {
    "collapsed": false
   }
  },
  {
   "cell_type": "code",
   "execution_count": 50,
   "outputs": [
    {
     "name": "stdout",
     "output_type": "stream",
     "text": [
      "[4. 4. 4.] tensor([3., 3., 3.], dtype=torch.float64)\n"
     ]
    }
   ],
   "source": [
    "c = torch.tensor(a)\n",
    "a += 1\n",
    "print(a, c)"
   ],
   "metadata": {
    "collapsed": false
   }
  },
  {
   "cell_type": "code",
   "execution_count": 51,
   "outputs": [
    {
     "name": "stdout",
     "output_type": "stream",
     "text": [
      "tensor([[2, 3]], device='cuda:0')\n",
      "tensor([[2., 3.]], dtype=torch.float64)\n"
     ]
    }
   ],
   "source": [
    "if torch.cuda.is_available():\n",
    "    device = torch.device(\"cuda\")\n",
    "    y = torch.ones_like(x, device=device)\n",
    "    x = x.to(device)\n",
    "    z = x + y\n",
    "    print(z)\n",
    "    print(z.to(\"cpu\", torch.double))"
   ],
   "metadata": {
    "collapsed": false
   }
  },
  {
   "cell_type": "code",
   "execution_count": 53,
   "outputs": [
    {
     "name": "stdout",
     "output_type": "stream",
     "text": [
      "tensor([[1., 1.],\n",
      "        [1., 1.]], requires_grad=True)\n",
      "None\n"
     ]
    }
   ],
   "source": [
    "x = torch.ones(2, 2, requires_grad=True)\n",
    "print(x)\n",
    "print(x.grad_fn)"
   ],
   "metadata": {
    "collapsed": false
   }
  },
  {
   "cell_type": "code",
   "execution_count": 54,
   "outputs": [
    {
     "name": "stdout",
     "output_type": "stream",
     "text": [
      "tensor([[3., 3.],\n",
      "        [3., 3.]], grad_fn=<AddBackward0>)\n",
      "<AddBackward0 object at 0x000002494CEEC220>\n"
     ]
    }
   ],
   "source": [
    "y = x + 2\n",
    "print(y)\n",
    "print(y.grad_fn)"
   ],
   "metadata": {
    "collapsed": false
   }
  },
  {
   "cell_type": "code",
   "execution_count": 55,
   "outputs": [
    {
     "name": "stdout",
     "output_type": "stream",
     "text": [
      "tensor([[27., 27.],\n",
      "        [27., 27.]], grad_fn=<MulBackward0>)\n",
      "tensor(27., grad_fn=<MeanBackward0>)\n"
     ]
    }
   ],
   "source": [
    "z = y * y * 3\n",
    "out = z.mean()\n",
    "print(z)\n",
    "print(out)"
   ],
   "metadata": {
    "collapsed": false
   }
  },
  {
   "cell_type": "code",
   "execution_count": 58,
   "outputs": [
    {
     "name": "stdout",
     "output_type": "stream",
     "text": [
      "False\n",
      "True\n",
      "<SumBackward0 object at 0x000002494E507AC0>\n"
     ]
    }
   ],
   "source": [
    "a = torch.randn(2, 2)\n",
    "a = ((a * 3) / (a - 1))\n",
    "print(a.requires_grad)\n",
    "a.requires_grad_(True)\n",
    "print(a.requires_grad)\n",
    "b = (a * a).sum()\n",
    "print(b.grad_fn)"
   ],
   "metadata": {
    "collapsed": false
   }
  },
  {
   "cell_type": "code",
   "execution_count": 60,
   "outputs": [
    {
     "name": "stdout",
     "output_type": "stream",
     "text": [
      "tensor([[4.5000, 4.5000],\n",
      "        [4.5000, 4.5000]])\n"
     ]
    }
   ],
   "source": [
    "x = torch.ones(2, 2, requires_grad=True)\n",
    "y = x + 2\n",
    "z = y * y * 3\n",
    "out = z.mean()\n",
    "out.backward()\n",
    "print(x.grad)"
   ],
   "metadata": {
    "collapsed": false
   }
  },
  {
   "cell_type": "code",
   "execution_count": 64,
   "outputs": [
    {
     "name": "stdout",
     "output_type": "stream",
     "text": [
      "tensor([[8.5000, 8.5000],\n",
      "        [8.5000, 8.5000]])\n"
     ]
    }
   ],
   "source": [
    "out2 = x.sum()\n",
    "out2.backward()\n",
    "print(x.grad)"
   ],
   "metadata": {
    "collapsed": false
   }
  },
  {
   "cell_type": "code",
   "execution_count": 68,
   "outputs": [
    {
     "name": "stdout",
     "output_type": "stream",
     "text": [
      "tensor([[1., 1.],\n",
      "        [1., 1.]])\n"
     ]
    }
   ],
   "source": [
    "out3 = x.sum()\n",
    "x.grad.data.zero_()\n",
    "out3.backward()\n",
    "print(x.grad)"
   ],
   "metadata": {
    "collapsed": false
   }
  },
  {
   "cell_type": "code",
   "execution_count": 69,
   "outputs": [
    {
     "name": "stdout",
     "output_type": "stream",
     "text": [
      "tensor([[2., 4.],\n",
      "        [6., 8.]], grad_fn=<ViewBackward0>)\n"
     ]
    }
   ],
   "source": [
    "x = torch.tensor([1.0, 2.0, 3.0, 4.0], requires_grad=True)\n",
    "y = 2 * x\n",
    "z = y.view(2, 2)\n",
    "print(z)"
   ],
   "metadata": {
    "collapsed": false
   }
  },
  {
   "cell_type": "code",
   "execution_count": 70,
   "outputs": [
    {
     "name": "stdout",
     "output_type": "stream",
     "text": [
      "tensor([2.0000, 0.2000, 0.0200, 0.0020])\n"
     ]
    }
   ],
   "source": [
    "v = torch.tensor([[1.0, 0.1], [0.01, 0.001]], dtype=torch.float)\n",
    "z.backward(v)\n",
    "print(x.grad)"
   ],
   "metadata": {
    "collapsed": false
   }
  },
  {
   "cell_type": "code",
   "execution_count": 71,
   "outputs": [],
   "source": [
    "import torch\n",
    "from IPython import display\n",
    "from matplotlib import pyplot as plt\n",
    "import numpy as np\n",
    "import random"
   ],
   "metadata": {
    "collapsed": false
   }
  },
  {
   "cell_type": "code",
   "execution_count": 73,
   "outputs": [],
   "source": [
    "num_inputs = 2\n",
    "num_examples = 1000\n",
    "true_w = [2, -3.4]\n",
    "true_b = 4.2\n",
    "features = torch.tensor(np.random.normal(0, 1, (num_examples, num_inputs)), dtype=torch.float)\n",
    "labels = true_w[0] * features[:, 0] + true_w[1] * features[:, 1] + true_b\n",
    "labels += torch.tensor(np.random.normal(0, 0.01, size=labels.size()), dtype=float)"
   ],
   "metadata": {
    "collapsed": false
   }
  },
  {
   "cell_type": "code",
   "execution_count": 135,
   "outputs": [
    {
     "data": {
      "text/plain": "<matplotlib.collections.PathCollection at 0x249642ba730>"
     },
     "execution_count": 135,
     "metadata": {},
     "output_type": "execute_result"
    },
    {
     "data": {
      "text/plain": "<Figure size 350x250 with 1 Axes>",
      "image/svg+xml": "<?xml version=\"1.0\" encoding=\"utf-8\" standalone=\"no\"?>\n<!DOCTYPE svg PUBLIC \"-//W3C//DTD SVG 1.1//EN\"\n  \"http://www.w3.org/Graphics/SVG/1.1/DTD/svg11.dtd\">\n<svg xmlns:xlink=\"http://www.w3.org/1999/xlink\" width=\"231.442187pt\" height=\"169.678125pt\" viewBox=\"0 0 231.442187 169.678125\" xmlns=\"http://www.w3.org/2000/svg\" version=\"1.1\">\n <metadata>\n  <rdf:RDF xmlns:dc=\"http://purl.org/dc/elements/1.1/\" xmlns:cc=\"http://creativecommons.org/ns#\" xmlns:rdf=\"http://www.w3.org/1999/02/22-rdf-syntax-ns#\">\n   <cc:Work>\n    <dc:type rdf:resource=\"http://purl.org/dc/dcmitype/StillImage\"/>\n    <dc:date>2023-08-24T10:16:03.131775</dc:date>\n    <dc:format>image/svg+xml</dc:format>\n    <dc:creator>\n     <cc:Agent>\n      <dc:title>Matplotlib v3.7.1, https://matplotlib.org/</dc:title>\n     </cc:Agent>\n    </dc:creator>\n   </cc:Work>\n  </rdf:RDF>\n </metadata>\n <defs>\n  <style type=\"text/css\">*{stroke-linejoin: round; stroke-linecap: butt}</style>\n </defs>\n <g id=\"figure_1\">\n  <g id=\"patch_1\">\n   <path d=\"M 0 169.678125 \nL 231.442187 169.678125 \nL 231.442187 0 \nL 0 0 \nz\n\" style=\"fill: #ffffff\"/>\n  </g>\n  <g id=\"axes_1\">\n   <g id=\"patch_2\">\n    <path d=\"M 28.942188 145.8 \nL 224.242188 145.8 \nL 224.242188 7.2 \nL 28.942188 7.2 \nz\n\" style=\"fill: #ffffff\"/>\n   </g>\n   <g id=\"PathCollection_1\">\n    <defs>\n     <path id=\"m52e6331ca8\" d=\"M 0 0.5 \nC 0.132602 0.5 0.25979 0.447317 0.353553 0.353553 \nC 0.447317 0.25979 0.5 0.132602 0.5 0 \nC 0.5 -0.132602 0.447317 -0.25979 0.353553 -0.353553 \nC 0.25979 -0.447317 0.132602 -0.5 0 -0.5 \nC -0.132602 -0.5 -0.25979 -0.447317 -0.353553 -0.353553 \nC -0.447317 -0.25979 -0.5 -0.132602 -0.5 0 \nC -0.5 0.132602 -0.447317 0.25979 -0.353553 0.353553 \nC -0.25979 0.447317 -0.132602 0.5 0 0.5 \nz\n\" style=\"stroke: #1f77b4\"/>\n    </defs>\n    <g clip-path=\"url(#pd888d2cede)\">\n     <use xlink:href=\"#m52e6331ca8\" x=\"93.155048\" y=\"42.827648\" style=\"fill: #1f77b4; stroke: #1f77b4\"/>\n     <use xlink:href=\"#m52e6331ca8\" x=\"90.83907\" y=\"58.908408\" style=\"fill: #1f77b4; stroke: #1f77b4\"/>\n     <use xlink:href=\"#m52e6331ca8\" x=\"127.068523\" y=\"83.206362\" style=\"fill: #1f77b4; stroke: #1f77b4\"/>\n     <use xlink:href=\"#m52e6331ca8\" x=\"145.811931\" y=\"82.413977\" style=\"fill: #1f77b4; stroke: #1f77b4\"/>\n     <use xlink:href=\"#m52e6331ca8\" x=\"146.541972\" y=\"77.846042\" style=\"fill: #1f77b4; stroke: #1f77b4\"/>\n     <use xlink:href=\"#m52e6331ca8\" x=\"118.132218\" y=\"64.098995\" style=\"fill: #1f77b4; stroke: #1f77b4\"/>\n     <use xlink:href=\"#m52e6331ca8\" x=\"145.904335\" y=\"82.985115\" style=\"fill: #1f77b4; stroke: #1f77b4\"/>\n     <use xlink:href=\"#m52e6331ca8\" x=\"152.935586\" y=\"96.815818\" style=\"fill: #1f77b4; stroke: #1f77b4\"/>\n     <use xlink:href=\"#m52e6331ca8\" x=\"102.665298\" y=\"62.286638\" style=\"fill: #1f77b4; stroke: #1f77b4\"/>\n     <use xlink:href=\"#m52e6331ca8\" x=\"95.975343\" y=\"81.178683\" style=\"fill: #1f77b4; stroke: #1f77b4\"/>\n     <use xlink:href=\"#m52e6331ca8\" x=\"117.082612\" y=\"70.10985\" style=\"fill: #1f77b4; stroke: #1f77b4\"/>\n     <use xlink:href=\"#m52e6331ca8\" x=\"120.275106\" y=\"59.803761\" style=\"fill: #1f77b4; stroke: #1f77b4\"/>\n     <use xlink:href=\"#m52e6331ca8\" x=\"148.111205\" y=\"94.738585\" style=\"fill: #1f77b4; stroke: #1f77b4\"/>\n     <use xlink:href=\"#m52e6331ca8\" x=\"151.648824\" y=\"81.604006\" style=\"fill: #1f77b4; stroke: #1f77b4\"/>\n     <use xlink:href=\"#m52e6331ca8\" x=\"141.543041\" y=\"77.3489\" style=\"fill: #1f77b4; stroke: #1f77b4\"/>\n     <use xlink:href=\"#m52e6331ca8\" x=\"157.917872\" y=\"95.966297\" style=\"fill: #1f77b4; stroke: #1f77b4\"/>\n     <use xlink:href=\"#m52e6331ca8\" x=\"111.275397\" y=\"67.5264\" style=\"fill: #1f77b4; stroke: #1f77b4\"/>\n     <use xlink:href=\"#m52e6331ca8\" x=\"163.092878\" y=\"103.929939\" style=\"fill: #1f77b4; stroke: #1f77b4\"/>\n     <use xlink:href=\"#m52e6331ca8\" x=\"165.592079\" y=\"84.355594\" style=\"fill: #1f77b4; stroke: #1f77b4\"/>\n     <use xlink:href=\"#m52e6331ca8\" x=\"142.293357\" y=\"78.167493\" style=\"fill: #1f77b4; stroke: #1f77b4\"/>\n     <use xlink:href=\"#m52e6331ca8\" x=\"150.325006\" y=\"99.029615\" style=\"fill: #1f77b4; stroke: #1f77b4\"/>\n     <use xlink:href=\"#m52e6331ca8\" x=\"87.782166\" y=\"61.268687\" style=\"fill: #1f77b4; stroke: #1f77b4\"/>\n     <use xlink:href=\"#m52e6331ca8\" x=\"122.779813\" y=\"70.151839\" style=\"fill: #1f77b4; stroke: #1f77b4\"/>\n     <use xlink:href=\"#m52e6331ca8\" x=\"121.662207\" y=\"67.879615\" style=\"fill: #1f77b4; stroke: #1f77b4\"/>\n     <use xlink:href=\"#m52e6331ca8\" x=\"115.758399\" y=\"81.695006\" style=\"fill: #1f77b4; stroke: #1f77b4\"/>\n     <use xlink:href=\"#m52e6331ca8\" x=\"101.347755\" y=\"62.612982\" style=\"fill: #1f77b4; stroke: #1f77b4\"/>\n     <use xlink:href=\"#m52e6331ca8\" x=\"156.358423\" y=\"94.356041\" style=\"fill: #1f77b4; stroke: #1f77b4\"/>\n     <use xlink:href=\"#m52e6331ca8\" x=\"179.870561\" y=\"113.093476\" style=\"fill: #1f77b4; stroke: #1f77b4\"/>\n     <use xlink:href=\"#m52e6331ca8\" x=\"199.083177\" y=\"108.815055\" style=\"fill: #1f77b4; stroke: #1f77b4\"/>\n     <use xlink:href=\"#m52e6331ca8\" x=\"147.37621\" y=\"64.881705\" style=\"fill: #1f77b4; stroke: #1f77b4\"/>\n     <use xlink:href=\"#m52e6331ca8\" x=\"125.68862\" y=\"92.777249\" style=\"fill: #1f77b4; stroke: #1f77b4\"/>\n     <use xlink:href=\"#m52e6331ca8\" x=\"159.874301\" y=\"76.206796\" style=\"fill: #1f77b4; stroke: #1f77b4\"/>\n     <use xlink:href=\"#m52e6331ca8\" x=\"192.314749\" y=\"126.869664\" style=\"fill: #1f77b4; stroke: #1f77b4\"/>\n     <use xlink:href=\"#m52e6331ca8\" x=\"123.072476\" y=\"70.408931\" style=\"fill: #1f77b4; stroke: #1f77b4\"/>\n     <use xlink:href=\"#m52e6331ca8\" x=\"115.037423\" y=\"66.754803\" style=\"fill: #1f77b4; stroke: #1f77b4\"/>\n     <use xlink:href=\"#m52e6331ca8\" x=\"140.665055\" y=\"84.651834\" style=\"fill: #1f77b4; stroke: #1f77b4\"/>\n     <use xlink:href=\"#m52e6331ca8\" x=\"113.31146\" y=\"64.674011\" style=\"fill: #1f77b4; stroke: #1f77b4\"/>\n     <use xlink:href=\"#m52e6331ca8\" x=\"133.98929\" y=\"72.759288\" style=\"fill: #1f77b4; stroke: #1f77b4\"/>\n     <use xlink:href=\"#m52e6331ca8\" x=\"122.769502\" y=\"65.324215\" style=\"fill: #1f77b4; stroke: #1f77b4\"/>\n     <use xlink:href=\"#m52e6331ca8\" x=\"151.176623\" y=\"85.416688\" style=\"fill: #1f77b4; stroke: #1f77b4\"/>\n     <use xlink:href=\"#m52e6331ca8\" x=\"144.877406\" y=\"75.286739\" style=\"fill: #1f77b4; stroke: #1f77b4\"/>\n     <use xlink:href=\"#m52e6331ca8\" x=\"126.410304\" y=\"81.802305\" style=\"fill: #1f77b4; stroke: #1f77b4\"/>\n     <use xlink:href=\"#m52e6331ca8\" x=\"146.493996\" y=\"82.024846\" style=\"fill: #1f77b4; stroke: #1f77b4\"/>\n     <use xlink:href=\"#m52e6331ca8\" x=\"147.337797\" y=\"84.983133\" style=\"fill: #1f77b4; stroke: #1f77b4\"/>\n     <use xlink:href=\"#m52e6331ca8\" x=\"96.891649\" y=\"42.362909\" style=\"fill: #1f77b4; stroke: #1f77b4\"/>\n     <use xlink:href=\"#m52e6331ca8\" x=\"184.152452\" y=\"103.810723\" style=\"fill: #1f77b4; stroke: #1f77b4\"/>\n     <use xlink:href=\"#m52e6331ca8\" x=\"79.845715\" y=\"42.661768\" style=\"fill: #1f77b4; stroke: #1f77b4\"/>\n     <use xlink:href=\"#m52e6331ca8\" x=\"171.716228\" y=\"104.216652\" style=\"fill: #1f77b4; stroke: #1f77b4\"/>\n     <use xlink:href=\"#m52e6331ca8\" x=\"110.623298\" y=\"69.902055\" style=\"fill: #1f77b4; stroke: #1f77b4\"/>\n     <use xlink:href=\"#m52e6331ca8\" x=\"101.013257\" y=\"83.077602\" style=\"fill: #1f77b4; stroke: #1f77b4\"/>\n     <use xlink:href=\"#m52e6331ca8\" x=\"97.046943\" y=\"54.046788\" style=\"fill: #1f77b4; stroke: #1f77b4\"/>\n     <use xlink:href=\"#m52e6331ca8\" x=\"113.009006\" y=\"84.781055\" style=\"fill: #1f77b4; stroke: #1f77b4\"/>\n     <use xlink:href=\"#m52e6331ca8\" x=\"131.493763\" y=\"72.49159\" style=\"fill: #1f77b4; stroke: #1f77b4\"/>\n     <use xlink:href=\"#m52e6331ca8\" x=\"129.734929\" y=\"59.460342\" style=\"fill: #1f77b4; stroke: #1f77b4\"/>\n     <use xlink:href=\"#m52e6331ca8\" x=\"124.281588\" y=\"90.988732\" style=\"fill: #1f77b4; stroke: #1f77b4\"/>\n     <use xlink:href=\"#m52e6331ca8\" x=\"113.659959\" y=\"74.533165\" style=\"fill: #1f77b4; stroke: #1f77b4\"/>\n     <use xlink:href=\"#m52e6331ca8\" x=\"150.037061\" y=\"78.13757\" style=\"fill: #1f77b4; stroke: #1f77b4\"/>\n     <use xlink:href=\"#m52e6331ca8\" x=\"91.064245\" y=\"48.011283\" style=\"fill: #1f77b4; stroke: #1f77b4\"/>\n     <use xlink:href=\"#m52e6331ca8\" x=\"101.705792\" y=\"57.861772\" style=\"fill: #1f77b4; stroke: #1f77b4\"/>\n     <use xlink:href=\"#m52e6331ca8\" x=\"108.431776\" y=\"68.997903\" style=\"fill: #1f77b4; stroke: #1f77b4\"/>\n     <use xlink:href=\"#m52e6331ca8\" x=\"74.538247\" y=\"43.50691\" style=\"fill: #1f77b4; stroke: #1f77b4\"/>\n     <use xlink:href=\"#m52e6331ca8\" x=\"123.439739\" y=\"75.99125\" style=\"fill: #1f77b4; stroke: #1f77b4\"/>\n     <use xlink:href=\"#m52e6331ca8\" x=\"154.97392\" y=\"86.377059\" style=\"fill: #1f77b4; stroke: #1f77b4\"/>\n     <use xlink:href=\"#m52e6331ca8\" x=\"104.02257\" y=\"52.730431\" style=\"fill: #1f77b4; stroke: #1f77b4\"/>\n     <use xlink:href=\"#m52e6331ca8\" x=\"164.984942\" y=\"103.034306\" style=\"fill: #1f77b4; stroke: #1f77b4\"/>\n     <use xlink:href=\"#m52e6331ca8\" x=\"128.306757\" y=\"61.303602\" style=\"fill: #1f77b4; stroke: #1f77b4\"/>\n     <use xlink:href=\"#m52e6331ca8\" x=\"160.319879\" y=\"100.700643\" style=\"fill: #1f77b4; stroke: #1f77b4\"/>\n     <use xlink:href=\"#m52e6331ca8\" x=\"137.080096\" y=\"99.010028\" style=\"fill: #1f77b4; stroke: #1f77b4\"/>\n     <use xlink:href=\"#m52e6331ca8\" x=\"166.220763\" y=\"122.497324\" style=\"fill: #1f77b4; stroke: #1f77b4\"/>\n     <use xlink:href=\"#m52e6331ca8\" x=\"93.717707\" y=\"57.877048\" style=\"fill: #1f77b4; stroke: #1f77b4\"/>\n     <use xlink:href=\"#m52e6331ca8\" x=\"97.577102\" y=\"68.283821\" style=\"fill: #1f77b4; stroke: #1f77b4\"/>\n     <use xlink:href=\"#m52e6331ca8\" x=\"156.19971\" y=\"88.576426\" style=\"fill: #1f77b4; stroke: #1f77b4\"/>\n     <use xlink:href=\"#m52e6331ca8\" x=\"116.880336\" y=\"81.08101\" style=\"fill: #1f77b4; stroke: #1f77b4\"/>\n     <use xlink:href=\"#m52e6331ca8\" x=\"162.158224\" y=\"90.026365\" style=\"fill: #1f77b4; stroke: #1f77b4\"/>\n     <use xlink:href=\"#m52e6331ca8\" x=\"95.577053\" y=\"57.77273\" style=\"fill: #1f77b4; stroke: #1f77b4\"/>\n     <use xlink:href=\"#m52e6331ca8\" x=\"84.589619\" y=\"54.096019\" style=\"fill: #1f77b4; stroke: #1f77b4\"/>\n     <use xlink:href=\"#m52e6331ca8\" x=\"95.506652\" y=\"57.311642\" style=\"fill: #1f77b4; stroke: #1f77b4\"/>\n     <use xlink:href=\"#m52e6331ca8\" x=\"134.934167\" y=\"89.511099\" style=\"fill: #1f77b4; stroke: #1f77b4\"/>\n     <use xlink:href=\"#m52e6331ca8\" x=\"151.050624\" y=\"97.171629\" style=\"fill: #1f77b4; stroke: #1f77b4\"/>\n     <use xlink:href=\"#m52e6331ca8\" x=\"108.225755\" y=\"45.306666\" style=\"fill: #1f77b4; stroke: #1f77b4\"/>\n     <use xlink:href=\"#m52e6331ca8\" x=\"147.32351\" y=\"85.616975\" style=\"fill: #1f77b4; stroke: #1f77b4\"/>\n     <use xlink:href=\"#m52e6331ca8\" x=\"170.059819\" y=\"104.705881\" style=\"fill: #1f77b4; stroke: #1f77b4\"/>\n     <use xlink:href=\"#m52e6331ca8\" x=\"193.949334\" y=\"114.213799\" style=\"fill: #1f77b4; stroke: #1f77b4\"/>\n     <use xlink:href=\"#m52e6331ca8\" x=\"115.980889\" y=\"79.399773\" style=\"fill: #1f77b4; stroke: #1f77b4\"/>\n     <use xlink:href=\"#m52e6331ca8\" x=\"142.64618\" y=\"90.660746\" style=\"fill: #1f77b4; stroke: #1f77b4\"/>\n     <use xlink:href=\"#m52e6331ca8\" x=\"134.598661\" y=\"86.963051\" style=\"fill: #1f77b4; stroke: #1f77b4\"/>\n     <use xlink:href=\"#m52e6331ca8\" x=\"100.077756\" y=\"70.903882\" style=\"fill: #1f77b4; stroke: #1f77b4\"/>\n     <use xlink:href=\"#m52e6331ca8\" x=\"129.375772\" y=\"93.326802\" style=\"fill: #1f77b4; stroke: #1f77b4\"/>\n     <use xlink:href=\"#m52e6331ca8\" x=\"69.290234\" y=\"59.304228\" style=\"fill: #1f77b4; stroke: #1f77b4\"/>\n     <use xlink:href=\"#m52e6331ca8\" x=\"121.767907\" y=\"77.162312\" style=\"fill: #1f77b4; stroke: #1f77b4\"/>\n     <use xlink:href=\"#m52e6331ca8\" x=\"154.461364\" y=\"88.826964\" style=\"fill: #1f77b4; stroke: #1f77b4\"/>\n     <use xlink:href=\"#m52e6331ca8\" x=\"143.7359\" y=\"109.021005\" style=\"fill: #1f77b4; stroke: #1f77b4\"/>\n     <use xlink:href=\"#m52e6331ca8\" x=\"150.800152\" y=\"97.135054\" style=\"fill: #1f77b4; stroke: #1f77b4\"/>\n     <use xlink:href=\"#m52e6331ca8\" x=\"167.124943\" y=\"111.668919\" style=\"fill: #1f77b4; stroke: #1f77b4\"/>\n     <use xlink:href=\"#m52e6331ca8\" x=\"165.429551\" y=\"103.02722\" style=\"fill: #1f77b4; stroke: #1f77b4\"/>\n     <use xlink:href=\"#m52e6331ca8\" x=\"167.16842\" y=\"107.129117\" style=\"fill: #1f77b4; stroke: #1f77b4\"/>\n     <use xlink:href=\"#m52e6331ca8\" x=\"138.672149\" y=\"75.183962\" style=\"fill: #1f77b4; stroke: #1f77b4\"/>\n     <use xlink:href=\"#m52e6331ca8\" x=\"148.163521\" y=\"87.195227\" style=\"fill: #1f77b4; stroke: #1f77b4\"/>\n     <use xlink:href=\"#m52e6331ca8\" x=\"125.394494\" y=\"73.075573\" style=\"fill: #1f77b4; stroke: #1f77b4\"/>\n     <use xlink:href=\"#m52e6331ca8\" x=\"149.70079\" y=\"87.708617\" style=\"fill: #1f77b4; stroke: #1f77b4\"/>\n     <use xlink:href=\"#m52e6331ca8\" x=\"160.368354\" y=\"92.436083\" style=\"fill: #1f77b4; stroke: #1f77b4\"/>\n     <use xlink:href=\"#m52e6331ca8\" x=\"188.615799\" y=\"102.008057\" style=\"fill: #1f77b4; stroke: #1f77b4\"/>\n     <use xlink:href=\"#m52e6331ca8\" x=\"175.086892\" y=\"109.724014\" style=\"fill: #1f77b4; stroke: #1f77b4\"/>\n     <use xlink:href=\"#m52e6331ca8\" x=\"129.794863\" y=\"65.83674\" style=\"fill: #1f77b4; stroke: #1f77b4\"/>\n     <use xlink:href=\"#m52e6331ca8\" x=\"109.503828\" y=\"65.784842\" style=\"fill: #1f77b4; stroke: #1f77b4\"/>\n     <use xlink:href=\"#m52e6331ca8\" x=\"199.132361\" y=\"135.117133\" style=\"fill: #1f77b4; stroke: #1f77b4\"/>\n     <use xlink:href=\"#m52e6331ca8\" x=\"84.452845\" y=\"58.276735\" style=\"fill: #1f77b4; stroke: #1f77b4\"/>\n     <use xlink:href=\"#m52e6331ca8\" x=\"187.639824\" y=\"108.80186\" style=\"fill: #1f77b4; stroke: #1f77b4\"/>\n     <use xlink:href=\"#m52e6331ca8\" x=\"103.219822\" y=\"53.433116\" style=\"fill: #1f77b4; stroke: #1f77b4\"/>\n     <use xlink:href=\"#m52e6331ca8\" x=\"97.928692\" y=\"69.029972\" style=\"fill: #1f77b4; stroke: #1f77b4\"/>\n     <use xlink:href=\"#m52e6331ca8\" x=\"111.04246\" y=\"57.797163\" style=\"fill: #1f77b4; stroke: #1f77b4\"/>\n     <use xlink:href=\"#m52e6331ca8\" x=\"115.214487\" y=\"78.044276\" style=\"fill: #1f77b4; stroke: #1f77b4\"/>\n     <use xlink:href=\"#m52e6331ca8\" x=\"135.759556\" y=\"74.672636\" style=\"fill: #1f77b4; stroke: #1f77b4\"/>\n     <use xlink:href=\"#m52e6331ca8\" x=\"158.517202\" y=\"89.287838\" style=\"fill: #1f77b4; stroke: #1f77b4\"/>\n     <use xlink:href=\"#m52e6331ca8\" x=\"109.428367\" y=\"73.825068\" style=\"fill: #1f77b4; stroke: #1f77b4\"/>\n     <use xlink:href=\"#m52e6331ca8\" x=\"126.686288\" y=\"68.80404\" style=\"fill: #1f77b4; stroke: #1f77b4\"/>\n     <use xlink:href=\"#m52e6331ca8\" x=\"116.729021\" y=\"59.832251\" style=\"fill: #1f77b4; stroke: #1f77b4\"/>\n     <use xlink:href=\"#m52e6331ca8\" x=\"152.186601\" y=\"92.19682\" style=\"fill: #1f77b4; stroke: #1f77b4\"/>\n     <use xlink:href=\"#m52e6331ca8\" x=\"183.289796\" y=\"119.957593\" style=\"fill: #1f77b4; stroke: #1f77b4\"/>\n     <use xlink:href=\"#m52e6331ca8\" x=\"101.106799\" y=\"60.635543\" style=\"fill: #1f77b4; stroke: #1f77b4\"/>\n     <use xlink:href=\"#m52e6331ca8\" x=\"116.304949\" y=\"55.128198\" style=\"fill: #1f77b4; stroke: #1f77b4\"/>\n     <use xlink:href=\"#m52e6331ca8\" x=\"158.805207\" y=\"101.138295\" style=\"fill: #1f77b4; stroke: #1f77b4\"/>\n     <use xlink:href=\"#m52e6331ca8\" x=\"114.902884\" y=\"81.90793\" style=\"fill: #1f77b4; stroke: #1f77b4\"/>\n     <use xlink:href=\"#m52e6331ca8\" x=\"105.672999\" y=\"70.1412\" style=\"fill: #1f77b4; stroke: #1f77b4\"/>\n     <use xlink:href=\"#m52e6331ca8\" x=\"88.702893\" y=\"49.190112\" style=\"fill: #1f77b4; stroke: #1f77b4\"/>\n     <use xlink:href=\"#m52e6331ca8\" x=\"118.986131\" y=\"81.266927\" style=\"fill: #1f77b4; stroke: #1f77b4\"/>\n     <use xlink:href=\"#m52e6331ca8\" x=\"98.854328\" y=\"51.388135\" style=\"fill: #1f77b4; stroke: #1f77b4\"/>\n     <use xlink:href=\"#m52e6331ca8\" x=\"108.070689\" y=\"79.81543\" style=\"fill: #1f77b4; stroke: #1f77b4\"/>\n     <use xlink:href=\"#m52e6331ca8\" x=\"181.366325\" y=\"119.415476\" style=\"fill: #1f77b4; stroke: #1f77b4\"/>\n     <use xlink:href=\"#m52e6331ca8\" x=\"125.457161\" y=\"70.495731\" style=\"fill: #1f77b4; stroke: #1f77b4\"/>\n     <use xlink:href=\"#m52e6331ca8\" x=\"147.096375\" y=\"90.405088\" style=\"fill: #1f77b4; stroke: #1f77b4\"/>\n     <use xlink:href=\"#m52e6331ca8\" x=\"189.271392\" y=\"124.091749\" style=\"fill: #1f77b4; stroke: #1f77b4\"/>\n     <use xlink:href=\"#m52e6331ca8\" x=\"141.721692\" y=\"61.08901\" style=\"fill: #1f77b4; stroke: #1f77b4\"/>\n     <use xlink:href=\"#m52e6331ca8\" x=\"133.990005\" y=\"72.180478\" style=\"fill: #1f77b4; stroke: #1f77b4\"/>\n     <use xlink:href=\"#m52e6331ca8\" x=\"126.74022\" y=\"68.772396\" style=\"fill: #1f77b4; stroke: #1f77b4\"/>\n     <use xlink:href=\"#m52e6331ca8\" x=\"175.37739\" y=\"91.75397\" style=\"fill: #1f77b4; stroke: #1f77b4\"/>\n     <use xlink:href=\"#m52e6331ca8\" x=\"130.860359\" y=\"71.50137\" style=\"fill: #1f77b4; stroke: #1f77b4\"/>\n     <use xlink:href=\"#m52e6331ca8\" x=\"96.833213\" y=\"73.216128\" style=\"fill: #1f77b4; stroke: #1f77b4\"/>\n     <use xlink:href=\"#m52e6331ca8\" x=\"141.307184\" y=\"82.65337\" style=\"fill: #1f77b4; stroke: #1f77b4\"/>\n     <use xlink:href=\"#m52e6331ca8\" x=\"181.034225\" y=\"109.796227\" style=\"fill: #1f77b4; stroke: #1f77b4\"/>\n     <use xlink:href=\"#m52e6331ca8\" x=\"77.851569\" y=\"67.16916\" style=\"fill: #1f77b4; stroke: #1f77b4\"/>\n     <use xlink:href=\"#m52e6331ca8\" x=\"148.865036\" y=\"84.331624\" style=\"fill: #1f77b4; stroke: #1f77b4\"/>\n     <use xlink:href=\"#m52e6331ca8\" x=\"152.096119\" y=\"98.200473\" style=\"fill: #1f77b4; stroke: #1f77b4\"/>\n     <use xlink:href=\"#m52e6331ca8\" x=\"116.463745\" y=\"67.204052\" style=\"fill: #1f77b4; stroke: #1f77b4\"/>\n     <use xlink:href=\"#m52e6331ca8\" x=\"118.108179\" y=\"83.705837\" style=\"fill: #1f77b4; stroke: #1f77b4\"/>\n     <use xlink:href=\"#m52e6331ca8\" x=\"130.483841\" y=\"73.058771\" style=\"fill: #1f77b4; stroke: #1f77b4\"/>\n     <use xlink:href=\"#m52e6331ca8\" x=\"93.348931\" y=\"60.736388\" style=\"fill: #1f77b4; stroke: #1f77b4\"/>\n     <use xlink:href=\"#m52e6331ca8\" x=\"161.027748\" y=\"91.217628\" style=\"fill: #1f77b4; stroke: #1f77b4\"/>\n     <use xlink:href=\"#m52e6331ca8\" x=\"131.925065\" y=\"69.210594\" style=\"fill: #1f77b4; stroke: #1f77b4\"/>\n     <use xlink:href=\"#m52e6331ca8\" x=\"146.402907\" y=\"79.775039\" style=\"fill: #1f77b4; stroke: #1f77b4\"/>\n     <use xlink:href=\"#m52e6331ca8\" x=\"117.526758\" y=\"49.476411\" style=\"fill: #1f77b4; stroke: #1f77b4\"/>\n     <use xlink:href=\"#m52e6331ca8\" x=\"92.794388\" y=\"40.649587\" style=\"fill: #1f77b4; stroke: #1f77b4\"/>\n     <use xlink:href=\"#m52e6331ca8\" x=\"126.817592\" y=\"80.338724\" style=\"fill: #1f77b4; stroke: #1f77b4\"/>\n     <use xlink:href=\"#m52e6331ca8\" x=\"161.273221\" y=\"92.862619\" style=\"fill: #1f77b4; stroke: #1f77b4\"/>\n     <use xlink:href=\"#m52e6331ca8\" x=\"132.344057\" y=\"69.912945\" style=\"fill: #1f77b4; stroke: #1f77b4\"/>\n     <use xlink:href=\"#m52e6331ca8\" x=\"139.135498\" y=\"83.860866\" style=\"fill: #1f77b4; stroke: #1f77b4\"/>\n     <use xlink:href=\"#m52e6331ca8\" x=\"136.878536\" y=\"93.274714\" style=\"fill: #1f77b4; stroke: #1f77b4\"/>\n     <use xlink:href=\"#m52e6331ca8\" x=\"145.801105\" y=\"86.994829\" style=\"fill: #1f77b4; stroke: #1f77b4\"/>\n     <use xlink:href=\"#m52e6331ca8\" x=\"124.851641\" y=\"80.066221\" style=\"fill: #1f77b4; stroke: #1f77b4\"/>\n     <use xlink:href=\"#m52e6331ca8\" x=\"160.349447\" y=\"85.968785\" style=\"fill: #1f77b4; stroke: #1f77b4\"/>\n     <use xlink:href=\"#m52e6331ca8\" x=\"136.747163\" y=\"78.014043\" style=\"fill: #1f77b4; stroke: #1f77b4\"/>\n     <use xlink:href=\"#m52e6331ca8\" x=\"96.461944\" y=\"63.095703\" style=\"fill: #1f77b4; stroke: #1f77b4\"/>\n     <use xlink:href=\"#m52e6331ca8\" x=\"132.472982\" y=\"88.483347\" style=\"fill: #1f77b4; stroke: #1f77b4\"/>\n     <use xlink:href=\"#m52e6331ca8\" x=\"152.433334\" y=\"88.111149\" style=\"fill: #1f77b4; stroke: #1f77b4\"/>\n     <use xlink:href=\"#m52e6331ca8\" x=\"147.9577\" y=\"91.716753\" style=\"fill: #1f77b4; stroke: #1f77b4\"/>\n     <use xlink:href=\"#m52e6331ca8\" x=\"140.062948\" y=\"94.589172\" style=\"fill: #1f77b4; stroke: #1f77b4\"/>\n     <use xlink:href=\"#m52e6331ca8\" x=\"161.182022\" y=\"99.69068\" style=\"fill: #1f77b4; stroke: #1f77b4\"/>\n     <use xlink:href=\"#m52e6331ca8\" x=\"128.445565\" y=\"72.091753\" style=\"fill: #1f77b4; stroke: #1f77b4\"/>\n     <use xlink:href=\"#m52e6331ca8\" x=\"125.775068\" y=\"71.272033\" style=\"fill: #1f77b4; stroke: #1f77b4\"/>\n     <use xlink:href=\"#m52e6331ca8\" x=\"137.736534\" y=\"64.918054\" style=\"fill: #1f77b4; stroke: #1f77b4\"/>\n     <use xlink:href=\"#m52e6331ca8\" x=\"72.205026\" y=\"42.454955\" style=\"fill: #1f77b4; stroke: #1f77b4\"/>\n     <use xlink:href=\"#m52e6331ca8\" x=\"142.350014\" y=\"88.440841\" style=\"fill: #1f77b4; stroke: #1f77b4\"/>\n     <use xlink:href=\"#m52e6331ca8\" x=\"147.257251\" y=\"83.065149\" style=\"fill: #1f77b4; stroke: #1f77b4\"/>\n     <use xlink:href=\"#m52e6331ca8\" x=\"104.876125\" y=\"63.017917\" style=\"fill: #1f77b4; stroke: #1f77b4\"/>\n     <use xlink:href=\"#m52e6331ca8\" x=\"135.816302\" y=\"93.605708\" style=\"fill: #1f77b4; stroke: #1f77b4\"/>\n     <use xlink:href=\"#m52e6331ca8\" x=\"156.553944\" y=\"85.721041\" style=\"fill: #1f77b4; stroke: #1f77b4\"/>\n     <use xlink:href=\"#m52e6331ca8\" x=\"135.179539\" y=\"66.484748\" style=\"fill: #1f77b4; stroke: #1f77b4\"/>\n     <use xlink:href=\"#m52e6331ca8\" x=\"100.902715\" y=\"50.55647\" style=\"fill: #1f77b4; stroke: #1f77b4\"/>\n     <use xlink:href=\"#m52e6331ca8\" x=\"156.570175\" y=\"113.09869\" style=\"fill: #1f77b4; stroke: #1f77b4\"/>\n     <use xlink:href=\"#m52e6331ca8\" x=\"127.54415\" y=\"73.124497\" style=\"fill: #1f77b4; stroke: #1f77b4\"/>\n     <use xlink:href=\"#m52e6331ca8\" x=\"116.801918\" y=\"82.172707\" style=\"fill: #1f77b4; stroke: #1f77b4\"/>\n     <use xlink:href=\"#m52e6331ca8\" x=\"125.788113\" y=\"69.106212\" style=\"fill: #1f77b4; stroke: #1f77b4\"/>\n     <use xlink:href=\"#m52e6331ca8\" x=\"134.138524\" y=\"87.96962\" style=\"fill: #1f77b4; stroke: #1f77b4\"/>\n     <use xlink:href=\"#m52e6331ca8\" x=\"197.759763\" y=\"122.015248\" style=\"fill: #1f77b4; stroke: #1f77b4\"/>\n     <use xlink:href=\"#m52e6331ca8\" x=\"174.729129\" y=\"91.802387\" style=\"fill: #1f77b4; stroke: #1f77b4\"/>\n     <use xlink:href=\"#m52e6331ca8\" x=\"213.397724\" y=\"130.479347\" style=\"fill: #1f77b4; stroke: #1f77b4\"/>\n     <use xlink:href=\"#m52e6331ca8\" x=\"117.853393\" y=\"61.52635\" style=\"fill: #1f77b4; stroke: #1f77b4\"/>\n     <use xlink:href=\"#m52e6331ca8\" x=\"115.553733\" y=\"64.905657\" style=\"fill: #1f77b4; stroke: #1f77b4\"/>\n     <use xlink:href=\"#m52e6331ca8\" x=\"112.970217\" y=\"60.109995\" style=\"fill: #1f77b4; stroke: #1f77b4\"/>\n     <use xlink:href=\"#m52e6331ca8\" x=\"157.849753\" y=\"92.325109\" style=\"fill: #1f77b4; stroke: #1f77b4\"/>\n     <use xlink:href=\"#m52e6331ca8\" x=\"95.576361\" y=\"58.794523\" style=\"fill: #1f77b4; stroke: #1f77b4\"/>\n     <use xlink:href=\"#m52e6331ca8\" x=\"169.781137\" y=\"73.412956\" style=\"fill: #1f77b4; stroke: #1f77b4\"/>\n     <use xlink:href=\"#m52e6331ca8\" x=\"164.796154\" y=\"98.878063\" style=\"fill: #1f77b4; stroke: #1f77b4\"/>\n     <use xlink:href=\"#m52e6331ca8\" x=\"161.008893\" y=\"90.772257\" style=\"fill: #1f77b4; stroke: #1f77b4\"/>\n     <use xlink:href=\"#m52e6331ca8\" x=\"81.553433\" y=\"49.642774\" style=\"fill: #1f77b4; stroke: #1f77b4\"/>\n     <use xlink:href=\"#m52e6331ca8\" x=\"131.950547\" y=\"85.122365\" style=\"fill: #1f77b4; stroke: #1f77b4\"/>\n     <use xlink:href=\"#m52e6331ca8\" x=\"67.7323\" y=\"35.029088\" style=\"fill: #1f77b4; stroke: #1f77b4\"/>\n     <use xlink:href=\"#m52e6331ca8\" x=\"94.060071\" y=\"64.834746\" style=\"fill: #1f77b4; stroke: #1f77b4\"/>\n     <use xlink:href=\"#m52e6331ca8\" x=\"125.447364\" y=\"98.937565\" style=\"fill: #1f77b4; stroke: #1f77b4\"/>\n     <use xlink:href=\"#m52e6331ca8\" x=\"185.051277\" y=\"120.501898\" style=\"fill: #1f77b4; stroke: #1f77b4\"/>\n     <use xlink:href=\"#m52e6331ca8\" x=\"176.116019\" y=\"86.858444\" style=\"fill: #1f77b4; stroke: #1f77b4\"/>\n     <use xlink:href=\"#m52e6331ca8\" x=\"126.905972\" y=\"99.825458\" style=\"fill: #1f77b4; stroke: #1f77b4\"/>\n     <use xlink:href=\"#m52e6331ca8\" x=\"140.851196\" y=\"56.688911\" style=\"fill: #1f77b4; stroke: #1f77b4\"/>\n     <use xlink:href=\"#m52e6331ca8\" x=\"139.496562\" y=\"88.459881\" style=\"fill: #1f77b4; stroke: #1f77b4\"/>\n     <use xlink:href=\"#m52e6331ca8\" x=\"133.080021\" y=\"98.377437\" style=\"fill: #1f77b4; stroke: #1f77b4\"/>\n     <use xlink:href=\"#m52e6331ca8\" x=\"131.096183\" y=\"89.509302\" style=\"fill: #1f77b4; stroke: #1f77b4\"/>\n     <use xlink:href=\"#m52e6331ca8\" x=\"151.325132\" y=\"112.060367\" style=\"fill: #1f77b4; stroke: #1f77b4\"/>\n     <use xlink:href=\"#m52e6331ca8\" x=\"108.654065\" y=\"55.773714\" style=\"fill: #1f77b4; stroke: #1f77b4\"/>\n     <use xlink:href=\"#m52e6331ca8\" x=\"129.7556\" y=\"90.905059\" style=\"fill: #1f77b4; stroke: #1f77b4\"/>\n     <use xlink:href=\"#m52e6331ca8\" x=\"141.239084\" y=\"97.40231\" style=\"fill: #1f77b4; stroke: #1f77b4\"/>\n     <use xlink:href=\"#m52e6331ca8\" x=\"147.923681\" y=\"83.134302\" style=\"fill: #1f77b4; stroke: #1f77b4\"/>\n     <use xlink:href=\"#m52e6331ca8\" x=\"134.700115\" y=\"84.297194\" style=\"fill: #1f77b4; stroke: #1f77b4\"/>\n     <use xlink:href=\"#m52e6331ca8\" x=\"170.116106\" y=\"96.523049\" style=\"fill: #1f77b4; stroke: #1f77b4\"/>\n     <use xlink:href=\"#m52e6331ca8\" x=\"128.572898\" y=\"92.550609\" style=\"fill: #1f77b4; stroke: #1f77b4\"/>\n     <use xlink:href=\"#m52e6331ca8\" x=\"76.35224\" y=\"38.278218\" style=\"fill: #1f77b4; stroke: #1f77b4\"/>\n     <use xlink:href=\"#m52e6331ca8\" x=\"79.470531\" y=\"34.173097\" style=\"fill: #1f77b4; stroke: #1f77b4\"/>\n     <use xlink:href=\"#m52e6331ca8\" x=\"130.619896\" y=\"91.057671\" style=\"fill: #1f77b4; stroke: #1f77b4\"/>\n     <use xlink:href=\"#m52e6331ca8\" x=\"93.840417\" y=\"63.317736\" style=\"fill: #1f77b4; stroke: #1f77b4\"/>\n     <use xlink:href=\"#m52e6331ca8\" x=\"137.04371\" y=\"78.003141\" style=\"fill: #1f77b4; stroke: #1f77b4\"/>\n     <use xlink:href=\"#m52e6331ca8\" x=\"128.293999\" y=\"84.050201\" style=\"fill: #1f77b4; stroke: #1f77b4\"/>\n     <use xlink:href=\"#m52e6331ca8\" x=\"147.690559\" y=\"80.041215\" style=\"fill: #1f77b4; stroke: #1f77b4\"/>\n     <use xlink:href=\"#m52e6331ca8\" x=\"158.827462\" y=\"102.572273\" style=\"fill: #1f77b4; stroke: #1f77b4\"/>\n     <use xlink:href=\"#m52e6331ca8\" x=\"188.815371\" y=\"130.515333\" style=\"fill: #1f77b4; stroke: #1f77b4\"/>\n     <use xlink:href=\"#m52e6331ca8\" x=\"144.893214\" y=\"83.912109\" style=\"fill: #1f77b4; stroke: #1f77b4\"/>\n     <use xlink:href=\"#m52e6331ca8\" x=\"145.674526\" y=\"93.246993\" style=\"fill: #1f77b4; stroke: #1f77b4\"/>\n     <use xlink:href=\"#m52e6331ca8\" x=\"102.922662\" y=\"44.64937\" style=\"fill: #1f77b4; stroke: #1f77b4\"/>\n     <use xlink:href=\"#m52e6331ca8\" x=\"172.479133\" y=\"111.048675\" style=\"fill: #1f77b4; stroke: #1f77b4\"/>\n     <use xlink:href=\"#m52e6331ca8\" x=\"109.705982\" y=\"58.551385\" style=\"fill: #1f77b4; stroke: #1f77b4\"/>\n     <use xlink:href=\"#m52e6331ca8\" x=\"133.586541\" y=\"78.854251\" style=\"fill: #1f77b4; stroke: #1f77b4\"/>\n     <use xlink:href=\"#m52e6331ca8\" x=\"160.839401\" y=\"92.50008\" style=\"fill: #1f77b4; stroke: #1f77b4\"/>\n     <use xlink:href=\"#m52e6331ca8\" x=\"146.626395\" y=\"81.39822\" style=\"fill: #1f77b4; stroke: #1f77b4\"/>\n     <use xlink:href=\"#m52e6331ca8\" x=\"140.666997\" y=\"72.088213\" style=\"fill: #1f77b4; stroke: #1f77b4\"/>\n     <use xlink:href=\"#m52e6331ca8\" x=\"194.071854\" y=\"117.135356\" style=\"fill: #1f77b4; stroke: #1f77b4\"/>\n     <use xlink:href=\"#m52e6331ca8\" x=\"129.478851\" y=\"98.708971\" style=\"fill: #1f77b4; stroke: #1f77b4\"/>\n     <use xlink:href=\"#m52e6331ca8\" x=\"88.745078\" y=\"58.653285\" style=\"fill: #1f77b4; stroke: #1f77b4\"/>\n     <use xlink:href=\"#m52e6331ca8\" x=\"120.302485\" y=\"80.591629\" style=\"fill: #1f77b4; stroke: #1f77b4\"/>\n     <use xlink:href=\"#m52e6331ca8\" x=\"94.413863\" y=\"74.389228\" style=\"fill: #1f77b4; stroke: #1f77b4\"/>\n     <use xlink:href=\"#m52e6331ca8\" x=\"149.698471\" y=\"98.19108\" style=\"fill: #1f77b4; stroke: #1f77b4\"/>\n     <use xlink:href=\"#m52e6331ca8\" x=\"133.127351\" y=\"91.071407\" style=\"fill: #1f77b4; stroke: #1f77b4\"/>\n     <use xlink:href=\"#m52e6331ca8\" x=\"128.16333\" y=\"67.396754\" style=\"fill: #1f77b4; stroke: #1f77b4\"/>\n     <use xlink:href=\"#m52e6331ca8\" x=\"158.426339\" y=\"83.667126\" style=\"fill: #1f77b4; stroke: #1f77b4\"/>\n     <use xlink:href=\"#m52e6331ca8\" x=\"151.364796\" y=\"116.552621\" style=\"fill: #1f77b4; stroke: #1f77b4\"/>\n     <use xlink:href=\"#m52e6331ca8\" x=\"126.008741\" y=\"78.812068\" style=\"fill: #1f77b4; stroke: #1f77b4\"/>\n     <use xlink:href=\"#m52e6331ca8\" x=\"193.479136\" y=\"126.057473\" style=\"fill: #1f77b4; stroke: #1f77b4\"/>\n     <use xlink:href=\"#m52e6331ca8\" x=\"134.715258\" y=\"82.249456\" style=\"fill: #1f77b4; stroke: #1f77b4\"/>\n     <use xlink:href=\"#m52e6331ca8\" x=\"143.558931\" y=\"91.793066\" style=\"fill: #1f77b4; stroke: #1f77b4\"/>\n     <use xlink:href=\"#m52e6331ca8\" x=\"127.462908\" y=\"82.010199\" style=\"fill: #1f77b4; stroke: #1f77b4\"/>\n     <use xlink:href=\"#m52e6331ca8\" x=\"133.239008\" y=\"68.538447\" style=\"fill: #1f77b4; stroke: #1f77b4\"/>\n     <use xlink:href=\"#m52e6331ca8\" x=\"129.627899\" y=\"88.241933\" style=\"fill: #1f77b4; stroke: #1f77b4\"/>\n     <use xlink:href=\"#m52e6331ca8\" x=\"116.794863\" y=\"51.479903\" style=\"fill: #1f77b4; stroke: #1f77b4\"/>\n     <use xlink:href=\"#m52e6331ca8\" x=\"116.543132\" y=\"70.414426\" style=\"fill: #1f77b4; stroke: #1f77b4\"/>\n     <use xlink:href=\"#m52e6331ca8\" x=\"107.239673\" y=\"66.377555\" style=\"fill: #1f77b4; stroke: #1f77b4\"/>\n     <use xlink:href=\"#m52e6331ca8\" x=\"191.529159\" y=\"124.704957\" style=\"fill: #1f77b4; stroke: #1f77b4\"/>\n     <use xlink:href=\"#m52e6331ca8\" x=\"156.82241\" y=\"100.153831\" style=\"fill: #1f77b4; stroke: #1f77b4\"/>\n     <use xlink:href=\"#m52e6331ca8\" x=\"133.541929\" y=\"95.350199\" style=\"fill: #1f77b4; stroke: #1f77b4\"/>\n     <use xlink:href=\"#m52e6331ca8\" x=\"128.045549\" y=\"81.593912\" style=\"fill: #1f77b4; stroke: #1f77b4\"/>\n     <use xlink:href=\"#m52e6331ca8\" x=\"89.550554\" y=\"53.366615\" style=\"fill: #1f77b4; stroke: #1f77b4\"/>\n     <use xlink:href=\"#m52e6331ca8\" x=\"115.635059\" y=\"72.824183\" style=\"fill: #1f77b4; stroke: #1f77b4\"/>\n     <use xlink:href=\"#m52e6331ca8\" x=\"140.792947\" y=\"90.203001\" style=\"fill: #1f77b4; stroke: #1f77b4\"/>\n     <use xlink:href=\"#m52e6331ca8\" x=\"171.425653\" y=\"110.670626\" style=\"fill: #1f77b4; stroke: #1f77b4\"/>\n     <use xlink:href=\"#m52e6331ca8\" x=\"180.086265\" y=\"97.910897\" style=\"fill: #1f77b4; stroke: #1f77b4\"/>\n     <use xlink:href=\"#m52e6331ca8\" x=\"127.060188\" y=\"61.302703\" style=\"fill: #1f77b4; stroke: #1f77b4\"/>\n     <use xlink:href=\"#m52e6331ca8\" x=\"164.432407\" y=\"103.839626\" style=\"fill: #1f77b4; stroke: #1f77b4\"/>\n     <use xlink:href=\"#m52e6331ca8\" x=\"96.835267\" y=\"51.414991\" style=\"fill: #1f77b4; stroke: #1f77b4\"/>\n     <use xlink:href=\"#m52e6331ca8\" x=\"103.203609\" y=\"52.347464\" style=\"fill: #1f77b4; stroke: #1f77b4\"/>\n     <use xlink:href=\"#m52e6331ca8\" x=\"163.691155\" y=\"93.207042\" style=\"fill: #1f77b4; stroke: #1f77b4\"/>\n     <use xlink:href=\"#m52e6331ca8\" x=\"161.229835\" y=\"102.893\" style=\"fill: #1f77b4; stroke: #1f77b4\"/>\n     <use xlink:href=\"#m52e6331ca8\" x=\"162.62332\" y=\"117.634955\" style=\"fill: #1f77b4; stroke: #1f77b4\"/>\n     <use xlink:href=\"#m52e6331ca8\" x=\"128.927716\" y=\"78.252496\" style=\"fill: #1f77b4; stroke: #1f77b4\"/>\n     <use xlink:href=\"#m52e6331ca8\" x=\"137.703262\" y=\"78.33095\" style=\"fill: #1f77b4; stroke: #1f77b4\"/>\n     <use xlink:href=\"#m52e6331ca8\" x=\"89.061709\" y=\"61.936526\" style=\"fill: #1f77b4; stroke: #1f77b4\"/>\n     <use xlink:href=\"#m52e6331ca8\" x=\"132.876763\" y=\"53.786609\" style=\"fill: #1f77b4; stroke: #1f77b4\"/>\n     <use xlink:href=\"#m52e6331ca8\" x=\"141.686638\" y=\"75.010875\" style=\"fill: #1f77b4; stroke: #1f77b4\"/>\n     <use xlink:href=\"#m52e6331ca8\" x=\"135.968076\" y=\"65.679595\" style=\"fill: #1f77b4; stroke: #1f77b4\"/>\n     <use xlink:href=\"#m52e6331ca8\" x=\"180.511893\" y=\"112.99446\" style=\"fill: #1f77b4; stroke: #1f77b4\"/>\n     <use xlink:href=\"#m52e6331ca8\" x=\"160.81265\" y=\"82.922914\" style=\"fill: #1f77b4; stroke: #1f77b4\"/>\n     <use xlink:href=\"#m52e6331ca8\" x=\"133.459646\" y=\"74.947472\" style=\"fill: #1f77b4; stroke: #1f77b4\"/>\n     <use xlink:href=\"#m52e6331ca8\" x=\"109.840626\" y=\"94.109472\" style=\"fill: #1f77b4; stroke: #1f77b4\"/>\n     <use xlink:href=\"#m52e6331ca8\" x=\"80.102884\" y=\"31.566411\" style=\"fill: #1f77b4; stroke: #1f77b4\"/>\n     <use xlink:href=\"#m52e6331ca8\" x=\"176.397573\" y=\"99.559164\" style=\"fill: #1f77b4; stroke: #1f77b4\"/>\n     <use xlink:href=\"#m52e6331ca8\" x=\"123.418149\" y=\"69.343933\" style=\"fill: #1f77b4; stroke: #1f77b4\"/>\n     <use xlink:href=\"#m52e6331ca8\" x=\"126.471559\" y=\"79.424755\" style=\"fill: #1f77b4; stroke: #1f77b4\"/>\n     <use xlink:href=\"#m52e6331ca8\" x=\"73.805816\" y=\"40.286971\" style=\"fill: #1f77b4; stroke: #1f77b4\"/>\n     <use xlink:href=\"#m52e6331ca8\" x=\"94.146447\" y=\"60.419378\" style=\"fill: #1f77b4; stroke: #1f77b4\"/>\n     <use xlink:href=\"#m52e6331ca8\" x=\"111.905245\" y=\"74.143372\" style=\"fill: #1f77b4; stroke: #1f77b4\"/>\n     <use xlink:href=\"#m52e6331ca8\" x=\"159.366045\" y=\"95.687813\" style=\"fill: #1f77b4; stroke: #1f77b4\"/>\n     <use xlink:href=\"#m52e6331ca8\" x=\"127.06853\" y=\"84.724952\" style=\"fill: #1f77b4; stroke: #1f77b4\"/>\n     <use xlink:href=\"#m52e6331ca8\" x=\"152.436282\" y=\"103.075393\" style=\"fill: #1f77b4; stroke: #1f77b4\"/>\n     <use xlink:href=\"#m52e6331ca8\" x=\"139.958947\" y=\"79.556916\" style=\"fill: #1f77b4; stroke: #1f77b4\"/>\n     <use xlink:href=\"#m52e6331ca8\" x=\"75.131028\" y=\"37.826575\" style=\"fill: #1f77b4; stroke: #1f77b4\"/>\n     <use xlink:href=\"#m52e6331ca8\" x=\"158.171011\" y=\"71.279891\" style=\"fill: #1f77b4; stroke: #1f77b4\"/>\n     <use xlink:href=\"#m52e6331ca8\" x=\"114.182434\" y=\"59.415484\" style=\"fill: #1f77b4; stroke: #1f77b4\"/>\n     <use xlink:href=\"#m52e6331ca8\" x=\"154.041986\" y=\"90.946628\" style=\"fill: #1f77b4; stroke: #1f77b4\"/>\n     <use xlink:href=\"#m52e6331ca8\" x=\"143.317812\" y=\"95.09171\" style=\"fill: #1f77b4; stroke: #1f77b4\"/>\n     <use xlink:href=\"#m52e6331ca8\" x=\"107.451271\" y=\"75.74346\" style=\"fill: #1f77b4; stroke: #1f77b4\"/>\n     <use xlink:href=\"#m52e6331ca8\" x=\"186.623689\" y=\"115.992736\" style=\"fill: #1f77b4; stroke: #1f77b4\"/>\n     <use xlink:href=\"#m52e6331ca8\" x=\"157.312629\" y=\"106.026044\" style=\"fill: #1f77b4; stroke: #1f77b4\"/>\n     <use xlink:href=\"#m52e6331ca8\" x=\"76.694998\" y=\"40.387769\" style=\"fill: #1f77b4; stroke: #1f77b4\"/>\n     <use xlink:href=\"#m52e6331ca8\" x=\"148.100208\" y=\"98.858331\" style=\"fill: #1f77b4; stroke: #1f77b4\"/>\n     <use xlink:href=\"#m52e6331ca8\" x=\"113.74931\" y=\"84.373088\" style=\"fill: #1f77b4; stroke: #1f77b4\"/>\n     <use xlink:href=\"#m52e6331ca8\" x=\"104.369454\" y=\"63.216209\" style=\"fill: #1f77b4; stroke: #1f77b4\"/>\n     <use xlink:href=\"#m52e6331ca8\" x=\"184.739548\" y=\"126.762988\" style=\"fill: #1f77b4; stroke: #1f77b4\"/>\n     <use xlink:href=\"#m52e6331ca8\" x=\"140.792772\" y=\"91.97775\" style=\"fill: #1f77b4; stroke: #1f77b4\"/>\n     <use xlink:href=\"#m52e6331ca8\" x=\"125.000839\" y=\"71.022908\" style=\"fill: #1f77b4; stroke: #1f77b4\"/>\n     <use xlink:href=\"#m52e6331ca8\" x=\"154.322651\" y=\"100.719849\" style=\"fill: #1f77b4; stroke: #1f77b4\"/>\n     <use xlink:href=\"#m52e6331ca8\" x=\"100.996503\" y=\"60.048628\" style=\"fill: #1f77b4; stroke: #1f77b4\"/>\n     <use xlink:href=\"#m52e6331ca8\" x=\"122.584486\" y=\"76.069941\" style=\"fill: #1f77b4; stroke: #1f77b4\"/>\n     <use xlink:href=\"#m52e6331ca8\" x=\"131.034079\" y=\"73.247146\" style=\"fill: #1f77b4; stroke: #1f77b4\"/>\n     <use xlink:href=\"#m52e6331ca8\" x=\"90.855567\" y=\"47.824709\" style=\"fill: #1f77b4; stroke: #1f77b4\"/>\n     <use xlink:href=\"#m52e6331ca8\" x=\"143.918281\" y=\"80.332222\" style=\"fill: #1f77b4; stroke: #1f77b4\"/>\n     <use xlink:href=\"#m52e6331ca8\" x=\"133.219041\" y=\"73.186518\" style=\"fill: #1f77b4; stroke: #1f77b4\"/>\n     <use xlink:href=\"#m52e6331ca8\" x=\"106.420941\" y=\"78.72776\" style=\"fill: #1f77b4; stroke: #1f77b4\"/>\n     <use xlink:href=\"#m52e6331ca8\" x=\"138.107495\" y=\"87.834486\" style=\"fill: #1f77b4; stroke: #1f77b4\"/>\n     <use xlink:href=\"#m52e6331ca8\" x=\"107.324742\" y=\"45.208759\" style=\"fill: #1f77b4; stroke: #1f77b4\"/>\n     <use xlink:href=\"#m52e6331ca8\" x=\"126.430559\" y=\"70.764443\" style=\"fill: #1f77b4; stroke: #1f77b4\"/>\n     <use xlink:href=\"#m52e6331ca8\" x=\"172.66114\" y=\"102.473979\" style=\"fill: #1f77b4; stroke: #1f77b4\"/>\n     <use xlink:href=\"#m52e6331ca8\" x=\"134.841403\" y=\"51.351406\" style=\"fill: #1f77b4; stroke: #1f77b4\"/>\n     <use xlink:href=\"#m52e6331ca8\" x=\"99.261503\" y=\"41.210336\" style=\"fill: #1f77b4; stroke: #1f77b4\"/>\n     <use xlink:href=\"#m52e6331ca8\" x=\"121.459538\" y=\"80.724703\" style=\"fill: #1f77b4; stroke: #1f77b4\"/>\n     <use xlink:href=\"#m52e6331ca8\" x=\"163.08214\" y=\"95.138617\" style=\"fill: #1f77b4; stroke: #1f77b4\"/>\n     <use xlink:href=\"#m52e6331ca8\" x=\"185.969009\" y=\"110.156896\" style=\"fill: #1f77b4; stroke: #1f77b4\"/>\n     <use xlink:href=\"#m52e6331ca8\" x=\"67.004258\" y=\"58.060199\" style=\"fill: #1f77b4; stroke: #1f77b4\"/>\n     <use xlink:href=\"#m52e6331ca8\" x=\"135.354235\" y=\"57.741105\" style=\"fill: #1f77b4; stroke: #1f77b4\"/>\n     <use xlink:href=\"#m52e6331ca8\" x=\"161.862659\" y=\"96.895211\" style=\"fill: #1f77b4; stroke: #1f77b4\"/>\n     <use xlink:href=\"#m52e6331ca8\" x=\"141.510824\" y=\"70.025813\" style=\"fill: #1f77b4; stroke: #1f77b4\"/>\n     <use xlink:href=\"#m52e6331ca8\" x=\"169.420533\" y=\"81.486854\" style=\"fill: #1f77b4; stroke: #1f77b4\"/>\n     <use xlink:href=\"#m52e6331ca8\" x=\"109.473027\" y=\"69.670146\" style=\"fill: #1f77b4; stroke: #1f77b4\"/>\n     <use xlink:href=\"#m52e6331ca8\" x=\"94.630726\" y=\"48.155251\" style=\"fill: #1f77b4; stroke: #1f77b4\"/>\n     <use xlink:href=\"#m52e6331ca8\" x=\"144.814886\" y=\"89.49563\" style=\"fill: #1f77b4; stroke: #1f77b4\"/>\n     <use xlink:href=\"#m52e6331ca8\" x=\"56.241427\" y=\"25.424087\" style=\"fill: #1f77b4; stroke: #1f77b4\"/>\n     <use xlink:href=\"#m52e6331ca8\" x=\"105.141036\" y=\"74.098753\" style=\"fill: #1f77b4; stroke: #1f77b4\"/>\n     <use xlink:href=\"#m52e6331ca8\" x=\"104.659834\" y=\"70.318331\" style=\"fill: #1f77b4; stroke: #1f77b4\"/>\n     <use xlink:href=\"#m52e6331ca8\" x=\"172.349067\" y=\"108.505289\" style=\"fill: #1f77b4; stroke: #1f77b4\"/>\n     <use xlink:href=\"#m52e6331ca8\" x=\"113.836393\" y=\"57.777737\" style=\"fill: #1f77b4; stroke: #1f77b4\"/>\n     <use xlink:href=\"#m52e6331ca8\" x=\"153.609634\" y=\"101.379708\" style=\"fill: #1f77b4; stroke: #1f77b4\"/>\n     <use xlink:href=\"#m52e6331ca8\" x=\"76.069496\" y=\"52.024523\" style=\"fill: #1f77b4; stroke: #1f77b4\"/>\n     <use xlink:href=\"#m52e6331ca8\" x=\"176.466748\" y=\"110.404029\" style=\"fill: #1f77b4; stroke: #1f77b4\"/>\n     <use xlink:href=\"#m52e6331ca8\" x=\"179.798134\" y=\"117.040722\" style=\"fill: #1f77b4; stroke: #1f77b4\"/>\n     <use xlink:href=\"#m52e6331ca8\" x=\"125.607959\" y=\"79.502446\" style=\"fill: #1f77b4; stroke: #1f77b4\"/>\n     <use xlink:href=\"#m52e6331ca8\" x=\"196.260747\" y=\"99.061964\" style=\"fill: #1f77b4; stroke: #1f77b4\"/>\n     <use xlink:href=\"#m52e6331ca8\" x=\"131.119859\" y=\"77.160808\" style=\"fill: #1f77b4; stroke: #1f77b4\"/>\n     <use xlink:href=\"#m52e6331ca8\" x=\"114.869878\" y=\"83.122428\" style=\"fill: #1f77b4; stroke: #1f77b4\"/>\n     <use xlink:href=\"#m52e6331ca8\" x=\"125.701206\" y=\"74.480465\" style=\"fill: #1f77b4; stroke: #1f77b4\"/>\n     <use xlink:href=\"#m52e6331ca8\" x=\"141.003198\" y=\"83.143155\" style=\"fill: #1f77b4; stroke: #1f77b4\"/>\n     <use xlink:href=\"#m52e6331ca8\" x=\"186.60978\" y=\"110.203078\" style=\"fill: #1f77b4; stroke: #1f77b4\"/>\n     <use xlink:href=\"#m52e6331ca8\" x=\"128.009809\" y=\"72.185698\" style=\"fill: #1f77b4; stroke: #1f77b4\"/>\n     <use xlink:href=\"#m52e6331ca8\" x=\"161.498759\" y=\"86.598807\" style=\"fill: #1f77b4; stroke: #1f77b4\"/>\n     <use xlink:href=\"#m52e6331ca8\" x=\"87.261113\" y=\"56.558332\" style=\"fill: #1f77b4; stroke: #1f77b4\"/>\n     <use xlink:href=\"#m52e6331ca8\" x=\"159.679711\" y=\"111.942816\" style=\"fill: #1f77b4; stroke: #1f77b4\"/>\n     <use xlink:href=\"#m52e6331ca8\" x=\"168.313852\" y=\"94.426081\" style=\"fill: #1f77b4; stroke: #1f77b4\"/>\n     <use xlink:href=\"#m52e6331ca8\" x=\"144.159315\" y=\"70.853568\" style=\"fill: #1f77b4; stroke: #1f77b4\"/>\n     <use xlink:href=\"#m52e6331ca8\" x=\"150.049968\" y=\"74.446558\" style=\"fill: #1f77b4; stroke: #1f77b4\"/>\n     <use xlink:href=\"#m52e6331ca8\" x=\"122.353023\" y=\"80.788612\" style=\"fill: #1f77b4; stroke: #1f77b4\"/>\n     <use xlink:href=\"#m52e6331ca8\" x=\"145.714932\" y=\"78.727789\" style=\"fill: #1f77b4; stroke: #1f77b4\"/>\n     <use xlink:href=\"#m52e6331ca8\" x=\"132.109027\" y=\"71.2752\" style=\"fill: #1f77b4; stroke: #1f77b4\"/>\n     <use xlink:href=\"#m52e6331ca8\" x=\"119.324989\" y=\"55.213539\" style=\"fill: #1f77b4; stroke: #1f77b4\"/>\n     <use xlink:href=\"#m52e6331ca8\" x=\"124.689213\" y=\"96.713957\" style=\"fill: #1f77b4; stroke: #1f77b4\"/>\n     <use xlink:href=\"#m52e6331ca8\" x=\"109.95213\" y=\"76.44509\" style=\"fill: #1f77b4; stroke: #1f77b4\"/>\n     <use xlink:href=\"#m52e6331ca8\" x=\"92.304072\" y=\"63.078472\" style=\"fill: #1f77b4; stroke: #1f77b4\"/>\n     <use xlink:href=\"#m52e6331ca8\" x=\"161.642565\" y=\"78.04001\" style=\"fill: #1f77b4; stroke: #1f77b4\"/>\n     <use xlink:href=\"#m52e6331ca8\" x=\"94.449527\" y=\"75.940902\" style=\"fill: #1f77b4; stroke: #1f77b4\"/>\n     <use xlink:href=\"#m52e6331ca8\" x=\"108.32387\" y=\"72.197809\" style=\"fill: #1f77b4; stroke: #1f77b4\"/>\n     <use xlink:href=\"#m52e6331ca8\" x=\"116.535167\" y=\"61.103659\" style=\"fill: #1f77b4; stroke: #1f77b4\"/>\n     <use xlink:href=\"#m52e6331ca8\" x=\"114.109937\" y=\"75.069324\" style=\"fill: #1f77b4; stroke: #1f77b4\"/>\n     <use xlink:href=\"#m52e6331ca8\" x=\"103.22076\" y=\"62.500101\" style=\"fill: #1f77b4; stroke: #1f77b4\"/>\n     <use xlink:href=\"#m52e6331ca8\" x=\"123.71871\" y=\"75.109854\" style=\"fill: #1f77b4; stroke: #1f77b4\"/>\n     <use xlink:href=\"#m52e6331ca8\" x=\"122.662638\" y=\"77.29177\" style=\"fill: #1f77b4; stroke: #1f77b4\"/>\n     <use xlink:href=\"#m52e6331ca8\" x=\"182.54013\" y=\"96.066744\" style=\"fill: #1f77b4; stroke: #1f77b4\"/>\n     <use xlink:href=\"#m52e6331ca8\" x=\"106.767492\" y=\"54.757927\" style=\"fill: #1f77b4; stroke: #1f77b4\"/>\n     <use xlink:href=\"#m52e6331ca8\" x=\"166.299054\" y=\"97.36147\" style=\"fill: #1f77b4; stroke: #1f77b4\"/>\n     <use xlink:href=\"#m52e6331ca8\" x=\"138.162588\" y=\"94.304414\" style=\"fill: #1f77b4; stroke: #1f77b4\"/>\n     <use xlink:href=\"#m52e6331ca8\" x=\"134.464093\" y=\"97.61433\" style=\"fill: #1f77b4; stroke: #1f77b4\"/>\n     <use xlink:href=\"#m52e6331ca8\" x=\"143.663379\" y=\"74.795163\" style=\"fill: #1f77b4; stroke: #1f77b4\"/>\n     <use xlink:href=\"#m52e6331ca8\" x=\"162.067091\" y=\"113.638273\" style=\"fill: #1f77b4; stroke: #1f77b4\"/>\n     <use xlink:href=\"#m52e6331ca8\" x=\"175.750983\" y=\"110.661693\" style=\"fill: #1f77b4; stroke: #1f77b4\"/>\n     <use xlink:href=\"#m52e6331ca8\" x=\"112.648859\" y=\"63.817094\" style=\"fill: #1f77b4; stroke: #1f77b4\"/>\n     <use xlink:href=\"#m52e6331ca8\" x=\"108.973913\" y=\"70.907785\" style=\"fill: #1f77b4; stroke: #1f77b4\"/>\n     <use xlink:href=\"#m52e6331ca8\" x=\"97.008951\" y=\"76.530982\" style=\"fill: #1f77b4; stroke: #1f77b4\"/>\n     <use xlink:href=\"#m52e6331ca8\" x=\"175.284901\" y=\"94.705356\" style=\"fill: #1f77b4; stroke: #1f77b4\"/>\n     <use xlink:href=\"#m52e6331ca8\" x=\"104.933568\" y=\"86.611076\" style=\"fill: #1f77b4; stroke: #1f77b4\"/>\n     <use xlink:href=\"#m52e6331ca8\" x=\"154.844909\" y=\"108.407516\" style=\"fill: #1f77b4; stroke: #1f77b4\"/>\n     <use xlink:href=\"#m52e6331ca8\" x=\"152.499136\" y=\"101.715505\" style=\"fill: #1f77b4; stroke: #1f77b4\"/>\n     <use xlink:href=\"#m52e6331ca8\" x=\"160.332207\" y=\"111.195927\" style=\"fill: #1f77b4; stroke: #1f77b4\"/>\n     <use xlink:href=\"#m52e6331ca8\" x=\"91.50413\" y=\"41.946123\" style=\"fill: #1f77b4; stroke: #1f77b4\"/>\n     <use xlink:href=\"#m52e6331ca8\" x=\"134.617398\" y=\"92.645596\" style=\"fill: #1f77b4; stroke: #1f77b4\"/>\n     <use xlink:href=\"#m52e6331ca8\" x=\"145.647226\" y=\"89.598184\" style=\"fill: #1f77b4; stroke: #1f77b4\"/>\n     <use xlink:href=\"#m52e6331ca8\" x=\"123.078311\" y=\"74.892884\" style=\"fill: #1f77b4; stroke: #1f77b4\"/>\n     <use xlink:href=\"#m52e6331ca8\" x=\"103.754897\" y=\"43.348309\" style=\"fill: #1f77b4; stroke: #1f77b4\"/>\n     <use xlink:href=\"#m52e6331ca8\" x=\"138.625632\" y=\"92.729275\" style=\"fill: #1f77b4; stroke: #1f77b4\"/>\n     <use xlink:href=\"#m52e6331ca8\" x=\"185.551074\" y=\"119.365805\" style=\"fill: #1f77b4; stroke: #1f77b4\"/>\n     <use xlink:href=\"#m52e6331ca8\" x=\"106.587723\" y=\"67.480002\" style=\"fill: #1f77b4; stroke: #1f77b4\"/>\n     <use xlink:href=\"#m52e6331ca8\" x=\"149.4044\" y=\"94.480636\" style=\"fill: #1f77b4; stroke: #1f77b4\"/>\n     <use xlink:href=\"#m52e6331ca8\" x=\"159.172831\" y=\"88.858488\" style=\"fill: #1f77b4; stroke: #1f77b4\"/>\n     <use xlink:href=\"#m52e6331ca8\" x=\"135.32446\" y=\"86.399343\" style=\"fill: #1f77b4; stroke: #1f77b4\"/>\n     <use xlink:href=\"#m52e6331ca8\" x=\"133.069616\" y=\"64.679979\" style=\"fill: #1f77b4; stroke: #1f77b4\"/>\n     <use xlink:href=\"#m52e6331ca8\" x=\"91.28942\" y=\"51.169381\" style=\"fill: #1f77b4; stroke: #1f77b4\"/>\n     <use xlink:href=\"#m52e6331ca8\" x=\"92.894234\" y=\"62.340113\" style=\"fill: #1f77b4; stroke: #1f77b4\"/>\n     <use xlink:href=\"#m52e6331ca8\" x=\"170.101438\" y=\"98.039007\" style=\"fill: #1f77b4; stroke: #1f77b4\"/>\n     <use xlink:href=\"#m52e6331ca8\" x=\"107.9388\" y=\"69.588078\" style=\"fill: #1f77b4; stroke: #1f77b4\"/>\n     <use xlink:href=\"#m52e6331ca8\" x=\"128.027106\" y=\"65.288766\" style=\"fill: #1f77b4; stroke: #1f77b4\"/>\n     <use xlink:href=\"#m52e6331ca8\" x=\"126.367182\" y=\"47.256456\" style=\"fill: #1f77b4; stroke: #1f77b4\"/>\n     <use xlink:href=\"#m52e6331ca8\" x=\"189.622227\" y=\"117.411869\" style=\"fill: #1f77b4; stroke: #1f77b4\"/>\n     <use xlink:href=\"#m52e6331ca8\" x=\"162.375375\" y=\"68.96797\" style=\"fill: #1f77b4; stroke: #1f77b4\"/>\n     <use xlink:href=\"#m52e6331ca8\" x=\"138.874031\" y=\"80.137901\" style=\"fill: #1f77b4; stroke: #1f77b4\"/>\n     <use xlink:href=\"#m52e6331ca8\" x=\"119.386481\" y=\"80.635278\" style=\"fill: #1f77b4; stroke: #1f77b4\"/>\n     <use xlink:href=\"#m52e6331ca8\" x=\"183.154831\" y=\"101.139346\" style=\"fill: #1f77b4; stroke: #1f77b4\"/>\n     <use xlink:href=\"#m52e6331ca8\" x=\"183.96779\" y=\"110.948731\" style=\"fill: #1f77b4; stroke: #1f77b4\"/>\n     <use xlink:href=\"#m52e6331ca8\" x=\"87.847682\" y=\"48.808968\" style=\"fill: #1f77b4; stroke: #1f77b4\"/>\n     <use xlink:href=\"#m52e6331ca8\" x=\"171.89301\" y=\"110.021451\" style=\"fill: #1f77b4; stroke: #1f77b4\"/>\n     <use xlink:href=\"#m52e6331ca8\" x=\"122.322952\" y=\"56.005983\" style=\"fill: #1f77b4; stroke: #1f77b4\"/>\n     <use xlink:href=\"#m52e6331ca8\" x=\"114.255149\" y=\"76.135667\" style=\"fill: #1f77b4; stroke: #1f77b4\"/>\n     <use xlink:href=\"#m52e6331ca8\" x=\"108.704462\" y=\"52.3382\" style=\"fill: #1f77b4; stroke: #1f77b4\"/>\n     <use xlink:href=\"#m52e6331ca8\" x=\"143.749634\" y=\"91.43869\" style=\"fill: #1f77b4; stroke: #1f77b4\"/>\n     <use xlink:href=\"#m52e6331ca8\" x=\"128.926299\" y=\"71.972261\" style=\"fill: #1f77b4; stroke: #1f77b4\"/>\n     <use xlink:href=\"#m52e6331ca8\" x=\"92.336056\" y=\"46.883904\" style=\"fill: #1f77b4; stroke: #1f77b4\"/>\n     <use xlink:href=\"#m52e6331ca8\" x=\"102.502261\" y=\"52.339775\" style=\"fill: #1f77b4; stroke: #1f77b4\"/>\n     <use xlink:href=\"#m52e6331ca8\" x=\"159.40302\" y=\"102.837125\" style=\"fill: #1f77b4; stroke: #1f77b4\"/>\n     <use xlink:href=\"#m52e6331ca8\" x=\"145.378959\" y=\"81.1938\" style=\"fill: #1f77b4; stroke: #1f77b4\"/>\n     <use xlink:href=\"#m52e6331ca8\" x=\"119.779353\" y=\"67.084121\" style=\"fill: #1f77b4; stroke: #1f77b4\"/>\n     <use xlink:href=\"#m52e6331ca8\" x=\"150.876069\" y=\"86.04366\" style=\"fill: #1f77b4; stroke: #1f77b4\"/>\n     <use xlink:href=\"#m52e6331ca8\" x=\"131.295772\" y=\"84.043624\" style=\"fill: #1f77b4; stroke: #1f77b4\"/>\n     <use xlink:href=\"#m52e6331ca8\" x=\"117.352154\" y=\"52.628892\" style=\"fill: #1f77b4; stroke: #1f77b4\"/>\n     <use xlink:href=\"#m52e6331ca8\" x=\"111.40771\" y=\"58.752284\" style=\"fill: #1f77b4; stroke: #1f77b4\"/>\n     <use xlink:href=\"#m52e6331ca8\" x=\"131.46917\" y=\"85.060815\" style=\"fill: #1f77b4; stroke: #1f77b4\"/>\n     <use xlink:href=\"#m52e6331ca8\" x=\"114.341354\" y=\"74.868754\" style=\"fill: #1f77b4; stroke: #1f77b4\"/>\n     <use xlink:href=\"#m52e6331ca8\" x=\"139.722868\" y=\"97.011684\" style=\"fill: #1f77b4; stroke: #1f77b4\"/>\n     <use xlink:href=\"#m52e6331ca8\" x=\"148.271843\" y=\"75.844046\" style=\"fill: #1f77b4; stroke: #1f77b4\"/>\n     <use xlink:href=\"#m52e6331ca8\" x=\"99.633537\" y=\"59.899235\" style=\"fill: #1f77b4; stroke: #1f77b4\"/>\n     <use xlink:href=\"#m52e6331ca8\" x=\"164.632836\" y=\"95.798723\" style=\"fill: #1f77b4; stroke: #1f77b4\"/>\n     <use xlink:href=\"#m52e6331ca8\" x=\"182.11787\" y=\"117.695797\" style=\"fill: #1f77b4; stroke: #1f77b4\"/>\n     <use xlink:href=\"#m52e6331ca8\" x=\"52.345216\" y=\"34.092393\" style=\"fill: #1f77b4; stroke: #1f77b4\"/>\n     <use xlink:href=\"#m52e6331ca8\" x=\"117.66911\" y=\"69.611655\" style=\"fill: #1f77b4; stroke: #1f77b4\"/>\n     <use xlink:href=\"#m52e6331ca8\" x=\"116.295379\" y=\"59.445792\" style=\"fill: #1f77b4; stroke: #1f77b4\"/>\n     <use xlink:href=\"#m52e6331ca8\" x=\"114.432588\" y=\"75.740596\" style=\"fill: #1f77b4; stroke: #1f77b4\"/>\n     <use xlink:href=\"#m52e6331ca8\" x=\"99.591293\" y=\"63.59313\" style=\"fill: #1f77b4; stroke: #1f77b4\"/>\n     <use xlink:href=\"#m52e6331ca8\" x=\"120.763217\" y=\"81.003648\" style=\"fill: #1f77b4; stroke: #1f77b4\"/>\n     <use xlink:href=\"#m52e6331ca8\" x=\"111.6307\" y=\"57.533351\" style=\"fill: #1f77b4; stroke: #1f77b4\"/>\n     <use xlink:href=\"#m52e6331ca8\" x=\"128.286184\" y=\"68.058331\" style=\"fill: #1f77b4; stroke: #1f77b4\"/>\n     <use xlink:href=\"#m52e6331ca8\" x=\"143.095484\" y=\"108.03471\" style=\"fill: #1f77b4; stroke: #1f77b4\"/>\n     <use xlink:href=\"#m52e6331ca8\" x=\"101.778367\" y=\"45.006578\" style=\"fill: #1f77b4; stroke: #1f77b4\"/>\n     <use xlink:href=\"#m52e6331ca8\" x=\"123.836948\" y=\"76.751204\" style=\"fill: #1f77b4; stroke: #1f77b4\"/>\n     <use xlink:href=\"#m52e6331ca8\" x=\"132.158941\" y=\"89.569649\" style=\"fill: #1f77b4; stroke: #1f77b4\"/>\n     <use xlink:href=\"#m52e6331ca8\" x=\"117.142666\" y=\"61.572648\" style=\"fill: #1f77b4; stroke: #1f77b4\"/>\n     <use xlink:href=\"#m52e6331ca8\" x=\"125.957917\" y=\"83.082401\" style=\"fill: #1f77b4; stroke: #1f77b4\"/>\n     <use xlink:href=\"#m52e6331ca8\" x=\"125.041356\" y=\"90.341673\" style=\"fill: #1f77b4; stroke: #1f77b4\"/>\n     <use xlink:href=\"#m52e6331ca8\" x=\"184.24157\" y=\"103.650989\" style=\"fill: #1f77b4; stroke: #1f77b4\"/>\n     <use xlink:href=\"#m52e6331ca8\" x=\"110.27092\" y=\"54.867677\" style=\"fill: #1f77b4; stroke: #1f77b4\"/>\n     <use xlink:href=\"#m52e6331ca8\" x=\"121.860891\" y=\"58.097626\" style=\"fill: #1f77b4; stroke: #1f77b4\"/>\n     <use xlink:href=\"#m52e6331ca8\" x=\"137.053918\" y=\"71.559327\" style=\"fill: #1f77b4; stroke: #1f77b4\"/>\n     <use xlink:href=\"#m52e6331ca8\" x=\"155.181453\" y=\"104.481534\" style=\"fill: #1f77b4; stroke: #1f77b4\"/>\n     <use xlink:href=\"#m52e6331ca8\" x=\"149.962211\" y=\"67.515649\" style=\"fill: #1f77b4; stroke: #1f77b4\"/>\n     <use xlink:href=\"#m52e6331ca8\" x=\"183.341238\" y=\"105.186165\" style=\"fill: #1f77b4; stroke: #1f77b4\"/>\n     <use xlink:href=\"#m52e6331ca8\" x=\"126.578124\" y=\"70.154908\" style=\"fill: #1f77b4; stroke: #1f77b4\"/>\n     <use xlink:href=\"#m52e6331ca8\" x=\"118.589688\" y=\"73.693665\" style=\"fill: #1f77b4; stroke: #1f77b4\"/>\n     <use xlink:href=\"#m52e6331ca8\" x=\"115.395858\" y=\"62.500599\" style=\"fill: #1f77b4; stroke: #1f77b4\"/>\n     <use xlink:href=\"#m52e6331ca8\" x=\"149.481506\" y=\"101.409159\" style=\"fill: #1f77b4; stroke: #1f77b4\"/>\n     <use xlink:href=\"#m52e6331ca8\" x=\"115.097178\" y=\"50.688488\" style=\"fill: #1f77b4; stroke: #1f77b4\"/>\n     <use xlink:href=\"#m52e6331ca8\" x=\"215.364915\" y=\"122.743965\" style=\"fill: #1f77b4; stroke: #1f77b4\"/>\n     <use xlink:href=\"#m52e6331ca8\" x=\"145.340366\" y=\"87.075585\" style=\"fill: #1f77b4; stroke: #1f77b4\"/>\n     <use xlink:href=\"#m52e6331ca8\" x=\"170.44913\" y=\"97.648036\" style=\"fill: #1f77b4; stroke: #1f77b4\"/>\n     <use xlink:href=\"#m52e6331ca8\" x=\"146.683988\" y=\"106.157479\" style=\"fill: #1f77b4; stroke: #1f77b4\"/>\n     <use xlink:href=\"#m52e6331ca8\" x=\"184.432155\" y=\"126.163045\" style=\"fill: #1f77b4; stroke: #1f77b4\"/>\n     <use xlink:href=\"#m52e6331ca8\" x=\"126.597406\" y=\"71.107633\" style=\"fill: #1f77b4; stroke: #1f77b4\"/>\n     <use xlink:href=\"#m52e6331ca8\" x=\"113.227645\" y=\"71.069062\" style=\"fill: #1f77b4; stroke: #1f77b4\"/>\n     <use xlink:href=\"#m52e6331ca8\" x=\"193.310038\" y=\"106.411664\" style=\"fill: #1f77b4; stroke: #1f77b4\"/>\n     <use xlink:href=\"#m52e6331ca8\" x=\"162.052419\" y=\"95.21963\" style=\"fill: #1f77b4; stroke: #1f77b4\"/>\n     <use xlink:href=\"#m52e6331ca8\" x=\"149.152565\" y=\"79.317686\" style=\"fill: #1f77b4; stroke: #1f77b4\"/>\n     <use xlink:href=\"#m52e6331ca8\" x=\"148.445918\" y=\"74.87619\" style=\"fill: #1f77b4; stroke: #1f77b4\"/>\n     <use xlink:href=\"#m52e6331ca8\" x=\"133.65371\" y=\"91.542649\" style=\"fill: #1f77b4; stroke: #1f77b4\"/>\n     <use xlink:href=\"#m52e6331ca8\" x=\"128.929027\" y=\"81.716404\" style=\"fill: #1f77b4; stroke: #1f77b4\"/>\n     <use xlink:href=\"#m52e6331ca8\" x=\"133.400868\" y=\"85.228179\" style=\"fill: #1f77b4; stroke: #1f77b4\"/>\n     <use xlink:href=\"#m52e6331ca8\" x=\"117.32672\" y=\"79.79502\" style=\"fill: #1f77b4; stroke: #1f77b4\"/>\n     <use xlink:href=\"#m52e6331ca8\" x=\"101.282323\" y=\"62.176076\" style=\"fill: #1f77b4; stroke: #1f77b4\"/>\n     <use xlink:href=\"#m52e6331ca8\" x=\"90.021226\" y=\"52.88675\" style=\"fill: #1f77b4; stroke: #1f77b4\"/>\n     <use xlink:href=\"#m52e6331ca8\" x=\"86.222494\" y=\"58.799579\" style=\"fill: #1f77b4; stroke: #1f77b4\"/>\n     <use xlink:href=\"#m52e6331ca8\" x=\"176.802483\" y=\"105.203117\" style=\"fill: #1f77b4; stroke: #1f77b4\"/>\n     <use xlink:href=\"#m52e6331ca8\" x=\"143.433906\" y=\"95.371937\" style=\"fill: #1f77b4; stroke: #1f77b4\"/>\n     <use xlink:href=\"#m52e6331ca8\" x=\"213.322196\" y=\"130.302296\" style=\"fill: #1f77b4; stroke: #1f77b4\"/>\n     <use xlink:href=\"#m52e6331ca8\" x=\"126.30223\" y=\"72.03405\" style=\"fill: #1f77b4; stroke: #1f77b4\"/>\n     <use xlink:href=\"#m52e6331ca8\" x=\"92.246166\" y=\"46.194315\" style=\"fill: #1f77b4; stroke: #1f77b4\"/>\n     <use xlink:href=\"#m52e6331ca8\" x=\"69.00974\" y=\"31.432267\" style=\"fill: #1f77b4; stroke: #1f77b4\"/>\n     <use xlink:href=\"#m52e6331ca8\" x=\"76.711545\" y=\"43.11639\" style=\"fill: #1f77b4; stroke: #1f77b4\"/>\n     <use xlink:href=\"#m52e6331ca8\" x=\"67.003507\" y=\"49.435785\" style=\"fill: #1f77b4; stroke: #1f77b4\"/>\n     <use xlink:href=\"#m52e6331ca8\" x=\"121.852226\" y=\"77.529169\" style=\"fill: #1f77b4; stroke: #1f77b4\"/>\n     <use xlink:href=\"#m52e6331ca8\" x=\"168.045424\" y=\"94.07728\" style=\"fill: #1f77b4; stroke: #1f77b4\"/>\n     <use xlink:href=\"#m52e6331ca8\" x=\"140.146728\" y=\"81.652516\" style=\"fill: #1f77b4; stroke: #1f77b4\"/>\n     <use xlink:href=\"#m52e6331ca8\" x=\"164.269957\" y=\"108.648436\" style=\"fill: #1f77b4; stroke: #1f77b4\"/>\n     <use xlink:href=\"#m52e6331ca8\" x=\"165.880343\" y=\"104.777476\" style=\"fill: #1f77b4; stroke: #1f77b4\"/>\n     <use xlink:href=\"#m52e6331ca8\" x=\"190.162025\" y=\"113.475763\" style=\"fill: #1f77b4; stroke: #1f77b4\"/>\n     <use xlink:href=\"#m52e6331ca8\" x=\"180.559964\" y=\"124.35441\" style=\"fill: #1f77b4; stroke: #1f77b4\"/>\n     <use xlink:href=\"#m52e6331ca8\" x=\"134.13097\" y=\"91.441061\" style=\"fill: #1f77b4; stroke: #1f77b4\"/>\n     <use xlink:href=\"#m52e6331ca8\" x=\"170.409958\" y=\"100.455032\" style=\"fill: #1f77b4; stroke: #1f77b4\"/>\n     <use xlink:href=\"#m52e6331ca8\" x=\"161.821264\" y=\"116.422456\" style=\"fill: #1f77b4; stroke: #1f77b4\"/>\n     <use xlink:href=\"#m52e6331ca8\" x=\"122.085869\" y=\"74.674896\" style=\"fill: #1f77b4; stroke: #1f77b4\"/>\n     <use xlink:href=\"#m52e6331ca8\" x=\"57.749236\" y=\"67.282882\" style=\"fill: #1f77b4; stroke: #1f77b4\"/>\n     <use xlink:href=\"#m52e6331ca8\" x=\"99.612134\" y=\"73.663374\" style=\"fill: #1f77b4; stroke: #1f77b4\"/>\n     <use xlink:href=\"#m52e6331ca8\" x=\"111.547709\" y=\"57.661234\" style=\"fill: #1f77b4; stroke: #1f77b4\"/>\n     <use xlink:href=\"#m52e6331ca8\" x=\"145.978337\" y=\"91.186894\" style=\"fill: #1f77b4; stroke: #1f77b4\"/>\n     <use xlink:href=\"#m52e6331ca8\" x=\"138.962416\" y=\"73.039255\" style=\"fill: #1f77b4; stroke: #1f77b4\"/>\n     <use xlink:href=\"#m52e6331ca8\" x=\"157.788999\" y=\"90.839703\" style=\"fill: #1f77b4; stroke: #1f77b4\"/>\n     <use xlink:href=\"#m52e6331ca8\" x=\"139.266907\" y=\"97.944269\" style=\"fill: #1f77b4; stroke: #1f77b4\"/>\n     <use xlink:href=\"#m52e6331ca8\" x=\"142.598115\" y=\"75.238615\" style=\"fill: #1f77b4; stroke: #1f77b4\"/>\n     <use xlink:href=\"#m52e6331ca8\" x=\"126.904645\" y=\"89.274546\" style=\"fill: #1f77b4; stroke: #1f77b4\"/>\n     <use xlink:href=\"#m52e6331ca8\" x=\"148.299067\" y=\"83.017732\" style=\"fill: #1f77b4; stroke: #1f77b4\"/>\n     <use xlink:href=\"#m52e6331ca8\" x=\"193.726929\" y=\"113.475518\" style=\"fill: #1f77b4; stroke: #1f77b4\"/>\n     <use xlink:href=\"#m52e6331ca8\" x=\"142.831312\" y=\"82.202775\" style=\"fill: #1f77b4; stroke: #1f77b4\"/>\n     <use xlink:href=\"#m52e6331ca8\" x=\"162.575274\" y=\"82.436938\" style=\"fill: #1f77b4; stroke: #1f77b4\"/>\n     <use xlink:href=\"#m52e6331ca8\" x=\"107.088068\" y=\"59.285305\" style=\"fill: #1f77b4; stroke: #1f77b4\"/>\n     <use xlink:href=\"#m52e6331ca8\" x=\"146.883891\" y=\"105.155912\" style=\"fill: #1f77b4; stroke: #1f77b4\"/>\n     <use xlink:href=\"#m52e6331ca8\" x=\"109.933749\" y=\"62.66143\" style=\"fill: #1f77b4; stroke: #1f77b4\"/>\n     <use xlink:href=\"#m52e6331ca8\" x=\"81.504723\" y=\"51.489187\" style=\"fill: #1f77b4; stroke: #1f77b4\"/>\n     <use xlink:href=\"#m52e6331ca8\" x=\"114.169794\" y=\"71.281329\" style=\"fill: #1f77b4; stroke: #1f77b4\"/>\n     <use xlink:href=\"#m52e6331ca8\" x=\"78.480804\" y=\"54.429609\" style=\"fill: #1f77b4; stroke: #1f77b4\"/>\n     <use xlink:href=\"#m52e6331ca8\" x=\"147.684884\" y=\"74.904725\" style=\"fill: #1f77b4; stroke: #1f77b4\"/>\n     <use xlink:href=\"#m52e6331ca8\" x=\"149.322593\" y=\"100.298477\" style=\"fill: #1f77b4; stroke: #1f77b4\"/>\n     <use xlink:href=\"#m52e6331ca8\" x=\"120.016523\" y=\"70.912609\" style=\"fill: #1f77b4; stroke: #1f77b4\"/>\n     <use xlink:href=\"#m52e6331ca8\" x=\"120.093738\" y=\"95.132617\" style=\"fill: #1f77b4; stroke: #1f77b4\"/>\n     <use xlink:href=\"#m52e6331ca8\" x=\"135.145718\" y=\"73.406266\" style=\"fill: #1f77b4; stroke: #1f77b4\"/>\n     <use xlink:href=\"#m52e6331ca8\" x=\"97.063838\" y=\"65.236909\" style=\"fill: #1f77b4; stroke: #1f77b4\"/>\n     <use xlink:href=\"#m52e6331ca8\" x=\"130.513845\" y=\"76.487207\" style=\"fill: #1f77b4; stroke: #1f77b4\"/>\n     <use xlink:href=\"#m52e6331ca8\" x=\"115.861531\" y=\"73.78329\" style=\"fill: #1f77b4; stroke: #1f77b4\"/>\n     <use xlink:href=\"#m52e6331ca8\" x=\"162.395771\" y=\"100.624354\" style=\"fill: #1f77b4; stroke: #1f77b4\"/>\n     <use xlink:href=\"#m52e6331ca8\" x=\"142.435369\" y=\"85.558525\" style=\"fill: #1f77b4; stroke: #1f77b4\"/>\n     <use xlink:href=\"#m52e6331ca8\" x=\"93.48133\" y=\"76.09797\" style=\"fill: #1f77b4; stroke: #1f77b4\"/>\n     <use xlink:href=\"#m52e6331ca8\" x=\"117.073374\" y=\"63.648869\" style=\"fill: #1f77b4; stroke: #1f77b4\"/>\n     <use xlink:href=\"#m52e6331ca8\" x=\"125.396383\" y=\"71.913283\" style=\"fill: #1f77b4; stroke: #1f77b4\"/>\n     <use xlink:href=\"#m52e6331ca8\" x=\"129.157071\" y=\"78.067368\" style=\"fill: #1f77b4; stroke: #1f77b4\"/>\n     <use xlink:href=\"#m52e6331ca8\" x=\"162.677606\" y=\"82.338325\" style=\"fill: #1f77b4; stroke: #1f77b4\"/>\n     <use xlink:href=\"#m52e6331ca8\" x=\"121.145174\" y=\"70.181791\" style=\"fill: #1f77b4; stroke: #1f77b4\"/>\n     <use xlink:href=\"#m52e6331ca8\" x=\"150.980413\" y=\"99.244887\" style=\"fill: #1f77b4; stroke: #1f77b4\"/>\n     <use xlink:href=\"#m52e6331ca8\" x=\"116.483418\" y=\"78.245384\" style=\"fill: #1f77b4; stroke: #1f77b4\"/>\n     <use xlink:href=\"#m52e6331ca8\" x=\"139.694182\" y=\"88.849807\" style=\"fill: #1f77b4; stroke: #1f77b4\"/>\n     <use xlink:href=\"#m52e6331ca8\" x=\"164.54244\" y=\"83.124539\" style=\"fill: #1f77b4; stroke: #1f77b4\"/>\n     <use xlink:href=\"#m52e6331ca8\" x=\"180.283828\" y=\"104.350745\" style=\"fill: #1f77b4; stroke: #1f77b4\"/>\n     <use xlink:href=\"#m52e6331ca8\" x=\"177.442583\" y=\"96.608361\" style=\"fill: #1f77b4; stroke: #1f77b4\"/>\n     <use xlink:href=\"#m52e6331ca8\" x=\"110.798777\" y=\"51.092723\" style=\"fill: #1f77b4; stroke: #1f77b4\"/>\n     <use xlink:href=\"#m52e6331ca8\" x=\"138.286791\" y=\"67.899316\" style=\"fill: #1f77b4; stroke: #1f77b4\"/>\n     <use xlink:href=\"#m52e6331ca8\" x=\"113.938658\" y=\"62.853338\" style=\"fill: #1f77b4; stroke: #1f77b4\"/>\n     <use xlink:href=\"#m52e6331ca8\" x=\"96.939955\" y=\"56.022044\" style=\"fill: #1f77b4; stroke: #1f77b4\"/>\n     <use xlink:href=\"#m52e6331ca8\" x=\"126.298415\" y=\"79.33994\" style=\"fill: #1f77b4; stroke: #1f77b4\"/>\n     <use xlink:href=\"#m52e6331ca8\" x=\"129.397808\" y=\"84.800052\" style=\"fill: #1f77b4; stroke: #1f77b4\"/>\n     <use xlink:href=\"#m52e6331ca8\" x=\"142.321827\" y=\"98.80869\" style=\"fill: #1f77b4; stroke: #1f77b4\"/>\n     <use xlink:href=\"#m52e6331ca8\" x=\"146.406783\" y=\"94.020729\" style=\"fill: #1f77b4; stroke: #1f77b4\"/>\n     <use xlink:href=\"#m52e6331ca8\" x=\"116.175511\" y=\"67.977629\" style=\"fill: #1f77b4; stroke: #1f77b4\"/>\n     <use xlink:href=\"#m52e6331ca8\" x=\"175.882321\" y=\"99.863171\" style=\"fill: #1f77b4; stroke: #1f77b4\"/>\n     <use xlink:href=\"#m52e6331ca8\" x=\"156.002826\" y=\"97.428175\" style=\"fill: #1f77b4; stroke: #1f77b4\"/>\n     <use xlink:href=\"#m52e6331ca8\" x=\"154.70298\" y=\"91.732569\" style=\"fill: #1f77b4; stroke: #1f77b4\"/>\n     <use xlink:href=\"#m52e6331ca8\" x=\"126.087769\" y=\"64.679336\" style=\"fill: #1f77b4; stroke: #1f77b4\"/>\n     <use xlink:href=\"#m52e6331ca8\" x=\"136.270958\" y=\"81.125673\" style=\"fill: #1f77b4; stroke: #1f77b4\"/>\n     <use xlink:href=\"#m52e6331ca8\" x=\"165.302992\" y=\"105.320295\" style=\"fill: #1f77b4; stroke: #1f77b4\"/>\n     <use xlink:href=\"#m52e6331ca8\" x=\"163.13506\" y=\"94.702146\" style=\"fill: #1f77b4; stroke: #1f77b4\"/>\n     <use xlink:href=\"#m52e6331ca8\" x=\"115.965564\" y=\"61.64582\" style=\"fill: #1f77b4; stroke: #1f77b4\"/>\n     <use xlink:href=\"#m52e6331ca8\" x=\"111.331952\" y=\"91.72747\" style=\"fill: #1f77b4; stroke: #1f77b4\"/>\n     <use xlink:href=\"#m52e6331ca8\" x=\"139.258533\" y=\"81.552167\" style=\"fill: #1f77b4; stroke: #1f77b4\"/>\n     <use xlink:href=\"#m52e6331ca8\" x=\"103.195315\" y=\"55.991141\" style=\"fill: #1f77b4; stroke: #1f77b4\"/>\n     <use xlink:href=\"#m52e6331ca8\" x=\"120.929823\" y=\"54.15667\" style=\"fill: #1f77b4; stroke: #1f77b4\"/>\n     <use xlink:href=\"#m52e6331ca8\" x=\"133.613144\" y=\"82.091642\" style=\"fill: #1f77b4; stroke: #1f77b4\"/>\n     <use xlink:href=\"#m52e6331ca8\" x=\"191.935761\" y=\"116.381932\" style=\"fill: #1f77b4; stroke: #1f77b4\"/>\n     <use xlink:href=\"#m52e6331ca8\" x=\"127.726978\" y=\"80.302196\" style=\"fill: #1f77b4; stroke: #1f77b4\"/>\n     <use xlink:href=\"#m52e6331ca8\" x=\"141.645037\" y=\"82.072817\" style=\"fill: #1f77b4; stroke: #1f77b4\"/>\n     <use xlink:href=\"#m52e6331ca8\" x=\"140.993511\" y=\"85.389075\" style=\"fill: #1f77b4; stroke: #1f77b4\"/>\n     <use xlink:href=\"#m52e6331ca8\" x=\"125.99256\" y=\"82.076418\" style=\"fill: #1f77b4; stroke: #1f77b4\"/>\n     <use xlink:href=\"#m52e6331ca8\" x=\"106.997701\" y=\"79.507973\" style=\"fill: #1f77b4; stroke: #1f77b4\"/>\n     <use xlink:href=\"#m52e6331ca8\" x=\"151.065519\" y=\"98.377705\" style=\"fill: #1f77b4; stroke: #1f77b4\"/>\n     <use xlink:href=\"#m52e6331ca8\" x=\"159.742597\" y=\"110.824303\" style=\"fill: #1f77b4; stroke: #1f77b4\"/>\n     <use xlink:href=\"#m52e6331ca8\" x=\"150.605947\" y=\"85.563962\" style=\"fill: #1f77b4; stroke: #1f77b4\"/>\n     <use xlink:href=\"#m52e6331ca8\" x=\"132.683756\" y=\"86.745408\" style=\"fill: #1f77b4; stroke: #1f77b4\"/>\n     <use xlink:href=\"#m52e6331ca8\" x=\"147.555346\" y=\"100.878126\" style=\"fill: #1f77b4; stroke: #1f77b4\"/>\n     <use xlink:href=\"#m52e6331ca8\" x=\"121.06955\" y=\"66.043917\" style=\"fill: #1f77b4; stroke: #1f77b4\"/>\n     <use xlink:href=\"#m52e6331ca8\" x=\"184.71924\" y=\"114.446293\" style=\"fill: #1f77b4; stroke: #1f77b4\"/>\n     <use xlink:href=\"#m52e6331ca8\" x=\"139.596092\" y=\"103.928504\" style=\"fill: #1f77b4; stroke: #1f77b4\"/>\n     <use xlink:href=\"#m52e6331ca8\" x=\"87.796637\" y=\"50.732473\" style=\"fill: #1f77b4; stroke: #1f77b4\"/>\n     <use xlink:href=\"#m52e6331ca8\" x=\"101.684965\" y=\"62.25788\" style=\"fill: #1f77b4; stroke: #1f77b4\"/>\n     <use xlink:href=\"#m52e6331ca8\" x=\"144.336388\" y=\"90.9908\" style=\"fill: #1f77b4; stroke: #1f77b4\"/>\n     <use xlink:href=\"#m52e6331ca8\" x=\"125.627465\" y=\"91.786738\" style=\"fill: #1f77b4; stroke: #1f77b4\"/>\n     <use xlink:href=\"#m52e6331ca8\" x=\"94.357891\" y=\"68.492736\" style=\"fill: #1f77b4; stroke: #1f77b4\"/>\n     <use xlink:href=\"#m52e6331ca8\" x=\"94.207011\" y=\"56.486408\" style=\"fill: #1f77b4; stroke: #1f77b4\"/>\n     <use xlink:href=\"#m52e6331ca8\" x=\"170.295367\" y=\"97.691639\" style=\"fill: #1f77b4; stroke: #1f77b4\"/>\n     <use xlink:href=\"#m52e6331ca8\" x=\"201.863616\" y=\"134.527484\" style=\"fill: #1f77b4; stroke: #1f77b4\"/>\n     <use xlink:href=\"#m52e6331ca8\" x=\"156.6105\" y=\"94.806902\" style=\"fill: #1f77b4; stroke: #1f77b4\"/>\n     <use xlink:href=\"#m52e6331ca8\" x=\"117.046493\" y=\"58.671779\" style=\"fill: #1f77b4; stroke: #1f77b4\"/>\n     <use xlink:href=\"#m52e6331ca8\" x=\"80.484881\" y=\"43.667178\" style=\"fill: #1f77b4; stroke: #1f77b4\"/>\n     <use xlink:href=\"#m52e6331ca8\" x=\"102.881951\" y=\"71.20875\" style=\"fill: #1f77b4; stroke: #1f77b4\"/>\n     <use xlink:href=\"#m52e6331ca8\" x=\"106.005224\" y=\"48.800992\" style=\"fill: #1f77b4; stroke: #1f77b4\"/>\n     <use xlink:href=\"#m52e6331ca8\" x=\"123.435315\" y=\"98.963613\" style=\"fill: #1f77b4; stroke: #1f77b4\"/>\n     <use xlink:href=\"#m52e6331ca8\" x=\"104.162565\" y=\"75.245782\" style=\"fill: #1f77b4; stroke: #1f77b4\"/>\n     <use xlink:href=\"#m52e6331ca8\" x=\"132.302876\" y=\"58.765585\" style=\"fill: #1f77b4; stroke: #1f77b4\"/>\n     <use xlink:href=\"#m52e6331ca8\" x=\"112.205437\" y=\"54.307874\" style=\"fill: #1f77b4; stroke: #1f77b4\"/>\n     <use xlink:href=\"#m52e6331ca8\" x=\"158.159562\" y=\"96.549792\" style=\"fill: #1f77b4; stroke: #1f77b4\"/>\n     <use xlink:href=\"#m52e6331ca8\" x=\"100.249909\" y=\"51.553338\" style=\"fill: #1f77b4; stroke: #1f77b4\"/>\n     <use xlink:href=\"#m52e6331ca8\" x=\"153.5892\" y=\"87.719403\" style=\"fill: #1f77b4; stroke: #1f77b4\"/>\n     <use xlink:href=\"#m52e6331ca8\" x=\"175.939293\" y=\"104.543022\" style=\"fill: #1f77b4; stroke: #1f77b4\"/>\n     <use xlink:href=\"#m52e6331ca8\" x=\"125.520609\" y=\"65.04121\" style=\"fill: #1f77b4; stroke: #1f77b4\"/>\n     <use xlink:href=\"#m52e6331ca8\" x=\"189.951398\" y=\"127.868429\" style=\"fill: #1f77b4; stroke: #1f77b4\"/>\n     <use xlink:href=\"#m52e6331ca8\" x=\"132.81554\" y=\"96.286543\" style=\"fill: #1f77b4; stroke: #1f77b4\"/>\n     <use xlink:href=\"#m52e6331ca8\" x=\"168.15348\" y=\"94.382286\" style=\"fill: #1f77b4; stroke: #1f77b4\"/>\n     <use xlink:href=\"#m52e6331ca8\" x=\"108.145432\" y=\"71.075754\" style=\"fill: #1f77b4; stroke: #1f77b4\"/>\n     <use xlink:href=\"#m52e6331ca8\" x=\"122.27719\" y=\"87.56317\" style=\"fill: #1f77b4; stroke: #1f77b4\"/>\n     <use xlink:href=\"#m52e6331ca8\" x=\"155.424904\" y=\"91.529503\" style=\"fill: #1f77b4; stroke: #1f77b4\"/>\n     <use xlink:href=\"#m52e6331ca8\" x=\"107.725428\" y=\"70.110187\" style=\"fill: #1f77b4; stroke: #1f77b4\"/>\n     <use xlink:href=\"#m52e6331ca8\" x=\"126.766524\" y=\"70.556547\" style=\"fill: #1f77b4; stroke: #1f77b4\"/>\n     <use xlink:href=\"#m52e6331ca8\" x=\"117.205149\" y=\"68.232696\" style=\"fill: #1f77b4; stroke: #1f77b4\"/>\n     <use xlink:href=\"#m52e6331ca8\" x=\"162.90369\" y=\"92.822761\" style=\"fill: #1f77b4; stroke: #1f77b4\"/>\n     <use xlink:href=\"#m52e6331ca8\" x=\"109.729092\" y=\"53.729454\" style=\"fill: #1f77b4; stroke: #1f77b4\"/>\n     <use xlink:href=\"#m52e6331ca8\" x=\"152.80925\" y=\"99.170442\" style=\"fill: #1f77b4; stroke: #1f77b4\"/>\n     <use xlink:href=\"#m52e6331ca8\" x=\"85.267728\" y=\"51.902009\" style=\"fill: #1f77b4; stroke: #1f77b4\"/>\n     <use xlink:href=\"#m52e6331ca8\" x=\"172.389369\" y=\"103.66093\" style=\"fill: #1f77b4; stroke: #1f77b4\"/>\n     <use xlink:href=\"#m52e6331ca8\" x=\"180.215022\" y=\"120.588747\" style=\"fill: #1f77b4; stroke: #1f77b4\"/>\n     <use xlink:href=\"#m52e6331ca8\" x=\"106.93545\" y=\"52.89715\" style=\"fill: #1f77b4; stroke: #1f77b4\"/>\n     <use xlink:href=\"#m52e6331ca8\" x=\"172.08144\" y=\"100.827156\" style=\"fill: #1f77b4; stroke: #1f77b4\"/>\n     <use xlink:href=\"#m52e6331ca8\" x=\"125.456115\" y=\"78.302005\" style=\"fill: #1f77b4; stroke: #1f77b4\"/>\n     <use xlink:href=\"#m52e6331ca8\" x=\"97.016958\" y=\"75.971773\" style=\"fill: #1f77b4; stroke: #1f77b4\"/>\n     <use xlink:href=\"#m52e6331ca8\" x=\"152.653616\" y=\"88.211003\" style=\"fill: #1f77b4; stroke: #1f77b4\"/>\n     <use xlink:href=\"#m52e6331ca8\" x=\"112.280935\" y=\"67.632805\" style=\"fill: #1f77b4; stroke: #1f77b4\"/>\n     <use xlink:href=\"#m52e6331ca8\" x=\"85.46342\" y=\"55.483733\" style=\"fill: #1f77b4; stroke: #1f77b4\"/>\n     <use xlink:href=\"#m52e6331ca8\" x=\"111.587251\" y=\"62.11965\" style=\"fill: #1f77b4; stroke: #1f77b4\"/>\n     <use xlink:href=\"#m52e6331ca8\" x=\"109.427136\" y=\"90.514616\" style=\"fill: #1f77b4; stroke: #1f77b4\"/>\n     <use xlink:href=\"#m52e6331ca8\" x=\"149.554744\" y=\"73.447138\" style=\"fill: #1f77b4; stroke: #1f77b4\"/>\n     <use xlink:href=\"#m52e6331ca8\" x=\"99.215789\" y=\"44.556408\" style=\"fill: #1f77b4; stroke: #1f77b4\"/>\n     <use xlink:href=\"#m52e6331ca8\" x=\"97.675062\" y=\"49.440222\" style=\"fill: #1f77b4; stroke: #1f77b4\"/>\n     <use xlink:href=\"#m52e6331ca8\" x=\"113.825692\" y=\"72.592988\" style=\"fill: #1f77b4; stroke: #1f77b4\"/>\n     <use xlink:href=\"#m52e6331ca8\" x=\"141.382506\" y=\"92.172742\" style=\"fill: #1f77b4; stroke: #1f77b4\"/>\n     <use xlink:href=\"#m52e6331ca8\" x=\"115.299787\" y=\"62.827096\" style=\"fill: #1f77b4; stroke: #1f77b4\"/>\n     <use xlink:href=\"#m52e6331ca8\" x=\"125.415464\" y=\"69.495225\" style=\"fill: #1f77b4; stroke: #1f77b4\"/>\n     <use xlink:href=\"#m52e6331ca8\" x=\"136.837122\" y=\"86.725288\" style=\"fill: #1f77b4; stroke: #1f77b4\"/>\n     <use xlink:href=\"#m52e6331ca8\" x=\"119.907244\" y=\"74.80176\" style=\"fill: #1f77b4; stroke: #1f77b4\"/>\n     <use xlink:href=\"#m52e6331ca8\" x=\"136.666543\" y=\"72.542157\" style=\"fill: #1f77b4; stroke: #1f77b4\"/>\n     <use xlink:href=\"#m52e6331ca8\" x=\"67.69731\" y=\"31.416421\" style=\"fill: #1f77b4; stroke: #1f77b4\"/>\n     <use xlink:href=\"#m52e6331ca8\" x=\"184.153088\" y=\"109.137648\" style=\"fill: #1f77b4; stroke: #1f77b4\"/>\n     <use xlink:href=\"#m52e6331ca8\" x=\"134.546512\" y=\"82.569387\" style=\"fill: #1f77b4; stroke: #1f77b4\"/>\n     <use xlink:href=\"#m52e6331ca8\" x=\"131.401609\" y=\"77.438232\" style=\"fill: #1f77b4; stroke: #1f77b4\"/>\n     <use xlink:href=\"#m52e6331ca8\" x=\"121.990072\" y=\"92.28366\" style=\"fill: #1f77b4; stroke: #1f77b4\"/>\n     <use xlink:href=\"#m52e6331ca8\" x=\"119.039862\" y=\"84.788603\" style=\"fill: #1f77b4; stroke: #1f77b4\"/>\n     <use xlink:href=\"#m52e6331ca8\" x=\"151.009128\" y=\"97.153924\" style=\"fill: #1f77b4; stroke: #1f77b4\"/>\n     <use xlink:href=\"#m52e6331ca8\" x=\"137.971853\" y=\"84.438737\" style=\"fill: #1f77b4; stroke: #1f77b4\"/>\n     <use xlink:href=\"#m52e6331ca8\" x=\"146.998782\" y=\"77.703487\" style=\"fill: #1f77b4; stroke: #1f77b4\"/>\n     <use xlink:href=\"#m52e6331ca8\" x=\"176.813098\" y=\"107.2295\" style=\"fill: #1f77b4; stroke: #1f77b4\"/>\n     <use xlink:href=\"#m52e6331ca8\" x=\"133.568826\" y=\"69.875952\" style=\"fill: #1f77b4; stroke: #1f77b4\"/>\n     <use xlink:href=\"#m52e6331ca8\" x=\"122.314346\" y=\"67.627613\" style=\"fill: #1f77b4; stroke: #1f77b4\"/>\n     <use xlink:href=\"#m52e6331ca8\" x=\"85.896904\" y=\"62.527053\" style=\"fill: #1f77b4; stroke: #1f77b4\"/>\n     <use xlink:href=\"#m52e6331ca8\" x=\"165.486523\" y=\"106.447629\" style=\"fill: #1f77b4; stroke: #1f77b4\"/>\n     <use xlink:href=\"#m52e6331ca8\" x=\"162.880454\" y=\"96.676657\" style=\"fill: #1f77b4; stroke: #1f77b4\"/>\n     <use xlink:href=\"#m52e6331ca8\" x=\"170.124811\" y=\"118.032288\" style=\"fill: #1f77b4; stroke: #1f77b4\"/>\n     <use xlink:href=\"#m52e6331ca8\" x=\"115.707263\" y=\"67.364844\" style=\"fill: #1f77b4; stroke: #1f77b4\"/>\n     <use xlink:href=\"#m52e6331ca8\" x=\"111.029223\" y=\"69.601826\" style=\"fill: #1f77b4; stroke: #1f77b4\"/>\n     <use xlink:href=\"#m52e6331ca8\" x=\"141.647803\" y=\"95.028582\" style=\"fill: #1f77b4; stroke: #1f77b4\"/>\n     <use xlink:href=\"#m52e6331ca8\" x=\"172.307257\" y=\"111.161404\" style=\"fill: #1f77b4; stroke: #1f77b4\"/>\n     <use xlink:href=\"#m52e6331ca8\" x=\"154.241038\" y=\"94.029192\" style=\"fill: #1f77b4; stroke: #1f77b4\"/>\n     <use xlink:href=\"#m52e6331ca8\" x=\"141.996022\" y=\"99.164299\" style=\"fill: #1f77b4; stroke: #1f77b4\"/>\n     <use xlink:href=\"#m52e6331ca8\" x=\"158.408282\" y=\"103.203499\" style=\"fill: #1f77b4; stroke: #1f77b4\"/>\n     <use xlink:href=\"#m52e6331ca8\" x=\"132.964416\" y=\"82.317637\" style=\"fill: #1f77b4; stroke: #1f77b4\"/>\n     <use xlink:href=\"#m52e6331ca8\" x=\"147.889638\" y=\"109.037578\" style=\"fill: #1f77b4; stroke: #1f77b4\"/>\n     <use xlink:href=\"#m52e6331ca8\" x=\"176.131087\" y=\"92.470412\" style=\"fill: #1f77b4; stroke: #1f77b4\"/>\n     <use xlink:href=\"#m52e6331ca8\" x=\"93.959288\" y=\"46.420042\" style=\"fill: #1f77b4; stroke: #1f77b4\"/>\n     <use xlink:href=\"#m52e6331ca8\" x=\"80.652827\" y=\"45.860916\" style=\"fill: #1f77b4; stroke: #1f77b4\"/>\n     <use xlink:href=\"#m52e6331ca8\" x=\"135.833681\" y=\"69.741752\" style=\"fill: #1f77b4; stroke: #1f77b4\"/>\n     <use xlink:href=\"#m52e6331ca8\" x=\"115.440717\" y=\"75.283365\" style=\"fill: #1f77b4; stroke: #1f77b4\"/>\n     <use xlink:href=\"#m52e6331ca8\" x=\"194.349475\" y=\"121.080014\" style=\"fill: #1f77b4; stroke: #1f77b4\"/>\n     <use xlink:href=\"#m52e6331ca8\" x=\"112.235333\" y=\"59.413549\" style=\"fill: #1f77b4; stroke: #1f77b4\"/>\n     <use xlink:href=\"#m52e6331ca8\" x=\"203.432983\" y=\"127.156309\" style=\"fill: #1f77b4; stroke: #1f77b4\"/>\n     <use xlink:href=\"#m52e6331ca8\" x=\"136.142739\" y=\"89.321507\" style=\"fill: #1f77b4; stroke: #1f77b4\"/>\n     <use xlink:href=\"#m52e6331ca8\" x=\"152.552369\" y=\"103.167378\" style=\"fill: #1f77b4; stroke: #1f77b4\"/>\n     <use xlink:href=\"#m52e6331ca8\" x=\"92.807792\" y=\"53.509676\" style=\"fill: #1f77b4; stroke: #1f77b4\"/>\n     <use xlink:href=\"#m52e6331ca8\" x=\"154.310361\" y=\"84.752415\" style=\"fill: #1f77b4; stroke: #1f77b4\"/>\n     <use xlink:href=\"#m52e6331ca8\" x=\"134.078737\" y=\"86.156096\" style=\"fill: #1f77b4; stroke: #1f77b4\"/>\n     <use xlink:href=\"#m52e6331ca8\" x=\"123.267541\" y=\"71.64266\" style=\"fill: #1f77b4; stroke: #1f77b4\"/>\n     <use xlink:href=\"#m52e6331ca8\" x=\"113.740387\" y=\"73.678562\" style=\"fill: #1f77b4; stroke: #1f77b4\"/>\n     <use xlink:href=\"#m52e6331ca8\" x=\"108.101592\" y=\"48.622453\" style=\"fill: #1f77b4; stroke: #1f77b4\"/>\n     <use xlink:href=\"#m52e6331ca8\" x=\"171.05442\" y=\"87.255115\" style=\"fill: #1f77b4; stroke: #1f77b4\"/>\n     <use xlink:href=\"#m52e6331ca8\" x=\"181.307519\" y=\"99.595335\" style=\"fill: #1f77b4; stroke: #1f77b4\"/>\n     <use xlink:href=\"#m52e6331ca8\" x=\"119.520524\" y=\"68.699322\" style=\"fill: #1f77b4; stroke: #1f77b4\"/>\n     <use xlink:href=\"#m52e6331ca8\" x=\"118.431982\" y=\"89.667263\" style=\"fill: #1f77b4; stroke: #1f77b4\"/>\n     <use xlink:href=\"#m52e6331ca8\" x=\"74.681759\" y=\"57.511142\" style=\"fill: #1f77b4; stroke: #1f77b4\"/>\n     <use xlink:href=\"#m52e6331ca8\" x=\"119.482505\" y=\"74.462678\" style=\"fill: #1f77b4; stroke: #1f77b4\"/>\n     <use xlink:href=\"#m52e6331ca8\" x=\"147.917827\" y=\"88.937804\" style=\"fill: #1f77b4; stroke: #1f77b4\"/>\n     <use xlink:href=\"#m52e6331ca8\" x=\"143.284328\" y=\"93.256178\" style=\"fill: #1f77b4; stroke: #1f77b4\"/>\n     <use xlink:href=\"#m52e6331ca8\" x=\"169.58055\" y=\"121.311448\" style=\"fill: #1f77b4; stroke: #1f77b4\"/>\n     <use xlink:href=\"#m52e6331ca8\" x=\"41.16347\" y=\"35.52984\" style=\"fill: #1f77b4; stroke: #1f77b4\"/>\n     <use xlink:href=\"#m52e6331ca8\" x=\"136.494344\" y=\"85.159202\" style=\"fill: #1f77b4; stroke: #1f77b4\"/>\n     <use xlink:href=\"#m52e6331ca8\" x=\"134.135905\" y=\"83.8201\" style=\"fill: #1f77b4; stroke: #1f77b4\"/>\n     <use xlink:href=\"#m52e6331ca8\" x=\"139.972661\" y=\"94.334862\" style=\"fill: #1f77b4; stroke: #1f77b4\"/>\n     <use xlink:href=\"#m52e6331ca8\" x=\"92.59601\" y=\"68.248722\" style=\"fill: #1f77b4; stroke: #1f77b4\"/>\n     <use xlink:href=\"#m52e6331ca8\" x=\"99.617823\" y=\"75.57209\" style=\"fill: #1f77b4; stroke: #1f77b4\"/>\n     <use xlink:href=\"#m52e6331ca8\" x=\"128.786535\" y=\"50.270381\" style=\"fill: #1f77b4; stroke: #1f77b4\"/>\n     <use xlink:href=\"#m52e6331ca8\" x=\"138.214681\" y=\"82.03019\" style=\"fill: #1f77b4; stroke: #1f77b4\"/>\n     <use xlink:href=\"#m52e6331ca8\" x=\"199.801386\" y=\"115.462135\" style=\"fill: #1f77b4; stroke: #1f77b4\"/>\n     <use xlink:href=\"#m52e6331ca8\" x=\"155.857593\" y=\"101.865041\" style=\"fill: #1f77b4; stroke: #1f77b4\"/>\n     <use xlink:href=\"#m52e6331ca8\" x=\"184.094637\" y=\"98.900505\" style=\"fill: #1f77b4; stroke: #1f77b4\"/>\n     <use xlink:href=\"#m52e6331ca8\" x=\"96.822762\" y=\"50.871005\" style=\"fill: #1f77b4; stroke: #1f77b4\"/>\n     <use xlink:href=\"#m52e6331ca8\" x=\"98.941009\" y=\"61.326999\" style=\"fill: #1f77b4; stroke: #1f77b4\"/>\n     <use xlink:href=\"#m52e6331ca8\" x=\"101.757757\" y=\"55.712478\" style=\"fill: #1f77b4; stroke: #1f77b4\"/>\n     <use xlink:href=\"#m52e6331ca8\" x=\"133.664306\" y=\"81.247843\" style=\"fill: #1f77b4; stroke: #1f77b4\"/>\n     <use xlink:href=\"#m52e6331ca8\" x=\"128.554869\" y=\"76.389369\" style=\"fill: #1f77b4; stroke: #1f77b4\"/>\n     <use xlink:href=\"#m52e6331ca8\" x=\"101.003674\" y=\"41.800346\" style=\"fill: #1f77b4; stroke: #1f77b4\"/>\n     <use xlink:href=\"#m52e6331ca8\" x=\"91.339071\" y=\"70.734054\" style=\"fill: #1f77b4; stroke: #1f77b4\"/>\n     <use xlink:href=\"#m52e6331ca8\" x=\"188.920466\" y=\"111.033439\" style=\"fill: #1f77b4; stroke: #1f77b4\"/>\n     <use xlink:href=\"#m52e6331ca8\" x=\"101.146631\" y=\"60.631062\" style=\"fill: #1f77b4; stroke: #1f77b4\"/>\n     <use xlink:href=\"#m52e6331ca8\" x=\"182.498212\" y=\"104.362344\" style=\"fill: #1f77b4; stroke: #1f77b4\"/>\n     <use xlink:href=\"#m52e6331ca8\" x=\"110.618034\" y=\"46.998456\" style=\"fill: #1f77b4; stroke: #1f77b4\"/>\n     <use xlink:href=\"#m52e6331ca8\" x=\"145.319939\" y=\"78.390999\" style=\"fill: #1f77b4; stroke: #1f77b4\"/>\n     <use xlink:href=\"#m52e6331ca8\" x=\"127.920523\" y=\"75.529702\" style=\"fill: #1f77b4; stroke: #1f77b4\"/>\n     <use xlink:href=\"#m52e6331ca8\" x=\"159.726736\" y=\"84.993705\" style=\"fill: #1f77b4; stroke: #1f77b4\"/>\n     <use xlink:href=\"#m52e6331ca8\" x=\"166.445632\" y=\"86.479979\" style=\"fill: #1f77b4; stroke: #1f77b4\"/>\n     <use xlink:href=\"#m52e6331ca8\" x=\"164.773504\" y=\"94.67055\" style=\"fill: #1f77b4; stroke: #1f77b4\"/>\n     <use xlink:href=\"#m52e6331ca8\" x=\"150.914535\" y=\"83.837468\" style=\"fill: #1f77b4; stroke: #1f77b4\"/>\n     <use xlink:href=\"#m52e6331ca8\" x=\"175.572948\" y=\"92.226342\" style=\"fill: #1f77b4; stroke: #1f77b4\"/>\n     <use xlink:href=\"#m52e6331ca8\" x=\"151.481787\" y=\"83.560856\" style=\"fill: #1f77b4; stroke: #1f77b4\"/>\n     <use xlink:href=\"#m52e6331ca8\" x=\"163.210219\" y=\"90.496183\" style=\"fill: #1f77b4; stroke: #1f77b4\"/>\n     <use xlink:href=\"#m52e6331ca8\" x=\"153.486912\" y=\"97.395768\" style=\"fill: #1f77b4; stroke: #1f77b4\"/>\n     <use xlink:href=\"#m52e6331ca8\" x=\"101.870315\" y=\"65.882717\" style=\"fill: #1f77b4; stroke: #1f77b4\"/>\n     <use xlink:href=\"#m52e6331ca8\" x=\"134.477741\" y=\"71.382217\" style=\"fill: #1f77b4; stroke: #1f77b4\"/>\n     <use xlink:href=\"#m52e6331ca8\" x=\"123.498699\" y=\"79.861656\" style=\"fill: #1f77b4; stroke: #1f77b4\"/>\n     <use xlink:href=\"#m52e6331ca8\" x=\"127.890252\" y=\"82.012934\" style=\"fill: #1f77b4; stroke: #1f77b4\"/>\n     <use xlink:href=\"#m52e6331ca8\" x=\"104.729749\" y=\"66.84542\" style=\"fill: #1f77b4; stroke: #1f77b4\"/>\n     <use xlink:href=\"#m52e6331ca8\" x=\"146.117993\" y=\"90.031891\" style=\"fill: #1f77b4; stroke: #1f77b4\"/>\n     <use xlink:href=\"#m52e6331ca8\" x=\"61.066895\" y=\"13.5\" style=\"fill: #1f77b4; stroke: #1f77b4\"/>\n     <use xlink:href=\"#m52e6331ca8\" x=\"73.109611\" y=\"34.244923\" style=\"fill: #1f77b4; stroke: #1f77b4\"/>\n     <use xlink:href=\"#m52e6331ca8\" x=\"121.74477\" y=\"65.487146\" style=\"fill: #1f77b4; stroke: #1f77b4\"/>\n     <use xlink:href=\"#m52e6331ca8\" x=\"106.588496\" y=\"69.415269\" style=\"fill: #1f77b4; stroke: #1f77b4\"/>\n     <use xlink:href=\"#m52e6331ca8\" x=\"167.77654\" y=\"97.251228\" style=\"fill: #1f77b4; stroke: #1f77b4\"/>\n     <use xlink:href=\"#m52e6331ca8\" x=\"135.183488\" y=\"74.02927\" style=\"fill: #1f77b4; stroke: #1f77b4\"/>\n     <use xlink:href=\"#m52e6331ca8\" x=\"170.711957\" y=\"90.201374\" style=\"fill: #1f77b4; stroke: #1f77b4\"/>\n     <use xlink:href=\"#m52e6331ca8\" x=\"79.266208\" y=\"45.799066\" style=\"fill: #1f77b4; stroke: #1f77b4\"/>\n     <use xlink:href=\"#m52e6331ca8\" x=\"133.25587\" y=\"85.498913\" style=\"fill: #1f77b4; stroke: #1f77b4\"/>\n     <use xlink:href=\"#m52e6331ca8\" x=\"125.976698\" y=\"79.600336\" style=\"fill: #1f77b4; stroke: #1f77b4\"/>\n     <use xlink:href=\"#m52e6331ca8\" x=\"87.944005\" y=\"48.987282\" style=\"fill: #1f77b4; stroke: #1f77b4\"/>\n     <use xlink:href=\"#m52e6331ca8\" x=\"133.906808\" y=\"69.262163\" style=\"fill: #1f77b4; stroke: #1f77b4\"/>\n     <use xlink:href=\"#m52e6331ca8\" x=\"193.26247\" y=\"113.943123\" style=\"fill: #1f77b4; stroke: #1f77b4\"/>\n     <use xlink:href=\"#m52e6331ca8\" x=\"103.466325\" y=\"50.613863\" style=\"fill: #1f77b4; stroke: #1f77b4\"/>\n     <use xlink:href=\"#m52e6331ca8\" x=\"116.045069\" y=\"68.85606\" style=\"fill: #1f77b4; stroke: #1f77b4\"/>\n     <use xlink:href=\"#m52e6331ca8\" x=\"124.476322\" y=\"105.8508\" style=\"fill: #1f77b4; stroke: #1f77b4\"/>\n     <use xlink:href=\"#m52e6331ca8\" x=\"108.159372\" y=\"42.934156\" style=\"fill: #1f77b4; stroke: #1f77b4\"/>\n     <use xlink:href=\"#m52e6331ca8\" x=\"137.017726\" y=\"87.523485\" style=\"fill: #1f77b4; stroke: #1f77b4\"/>\n     <use xlink:href=\"#m52e6331ca8\" x=\"185.400402\" y=\"94.098167\" style=\"fill: #1f77b4; stroke: #1f77b4\"/>\n     <use xlink:href=\"#m52e6331ca8\" x=\"167.581656\" y=\"100.87577\" style=\"fill: #1f77b4; stroke: #1f77b4\"/>\n     <use xlink:href=\"#m52e6331ca8\" x=\"102.296646\" y=\"64.852225\" style=\"fill: #1f77b4; stroke: #1f77b4\"/>\n     <use xlink:href=\"#m52e6331ca8\" x=\"111.045483\" y=\"69.096017\" style=\"fill: #1f77b4; stroke: #1f77b4\"/>\n     <use xlink:href=\"#m52e6331ca8\" x=\"155.638217\" y=\"80.396441\" style=\"fill: #1f77b4; stroke: #1f77b4\"/>\n     <use xlink:href=\"#m52e6331ca8\" x=\"185.387184\" y=\"103.884374\" style=\"fill: #1f77b4; stroke: #1f77b4\"/>\n     <use xlink:href=\"#m52e6331ca8\" x=\"126.571039\" y=\"82.345738\" style=\"fill: #1f77b4; stroke: #1f77b4\"/>\n     <use xlink:href=\"#m52e6331ca8\" x=\"137.944759\" y=\"75.27817\" style=\"fill: #1f77b4; stroke: #1f77b4\"/>\n     <use xlink:href=\"#m52e6331ca8\" x=\"101.365633\" y=\"54.932614\" style=\"fill: #1f77b4; stroke: #1f77b4\"/>\n     <use xlink:href=\"#m52e6331ca8\" x=\"160.486786\" y=\"83.705156\" style=\"fill: #1f77b4; stroke: #1f77b4\"/>\n     <use xlink:href=\"#m52e6331ca8\" x=\"133.763802\" y=\"84.948345\" style=\"fill: #1f77b4; stroke: #1f77b4\"/>\n     <use xlink:href=\"#m52e6331ca8\" x=\"171.217537\" y=\"107.63466\" style=\"fill: #1f77b4; stroke: #1f77b4\"/>\n     <use xlink:href=\"#m52e6331ca8\" x=\"173.536564\" y=\"112.292694\" style=\"fill: #1f77b4; stroke: #1f77b4\"/>\n     <use xlink:href=\"#m52e6331ca8\" x=\"146.591649\" y=\"84.931721\" style=\"fill: #1f77b4; stroke: #1f77b4\"/>\n     <use xlink:href=\"#m52e6331ca8\" x=\"129.14985\" y=\"86.027033\" style=\"fill: #1f77b4; stroke: #1f77b4\"/>\n     <use xlink:href=\"#m52e6331ca8\" x=\"176.070059\" y=\"90.708751\" style=\"fill: #1f77b4; stroke: #1f77b4\"/>\n     <use xlink:href=\"#m52e6331ca8\" x=\"102.423752\" y=\"59.124461\" style=\"fill: #1f77b4; stroke: #1f77b4\"/>\n     <use xlink:href=\"#m52e6331ca8\" x=\"144.628287\" y=\"73.338673\" style=\"fill: #1f77b4; stroke: #1f77b4\"/>\n     <use xlink:href=\"#m52e6331ca8\" x=\"101.429183\" y=\"35.954905\" style=\"fill: #1f77b4; stroke: #1f77b4\"/>\n     <use xlink:href=\"#m52e6331ca8\" x=\"85.87247\" y=\"38.584552\" style=\"fill: #1f77b4; stroke: #1f77b4\"/>\n     <use xlink:href=\"#m52e6331ca8\" x=\"158.352911\" y=\"106.837584\" style=\"fill: #1f77b4; stroke: #1f77b4\"/>\n     <use xlink:href=\"#m52e6331ca8\" x=\"136.932058\" y=\"81.018852\" style=\"fill: #1f77b4; stroke: #1f77b4\"/>\n     <use xlink:href=\"#m52e6331ca8\" x=\"122.45702\" y=\"104.901043\" style=\"fill: #1f77b4; stroke: #1f77b4\"/>\n     <use xlink:href=\"#m52e6331ca8\" x=\"153.845832\" y=\"98.557552\" style=\"fill: #1f77b4; stroke: #1f77b4\"/>\n     <use xlink:href=\"#m52e6331ca8\" x=\"137.072751\" y=\"94.490752\" style=\"fill: #1f77b4; stroke: #1f77b4\"/>\n     <use xlink:href=\"#m52e6331ca8\" x=\"130.131141\" y=\"82.289604\" style=\"fill: #1f77b4; stroke: #1f77b4\"/>\n     <use xlink:href=\"#m52e6331ca8\" x=\"167.146964\" y=\"110.145118\" style=\"fill: #1f77b4; stroke: #1f77b4\"/>\n     <use xlink:href=\"#m52e6331ca8\" x=\"166.459001\" y=\"96.98142\" style=\"fill: #1f77b4; stroke: #1f77b4\"/>\n     <use xlink:href=\"#m52e6331ca8\" x=\"128.946163\" y=\"83.66482\" style=\"fill: #1f77b4; stroke: #1f77b4\"/>\n     <use xlink:href=\"#m52e6331ca8\" x=\"152.055658\" y=\"103.47892\" style=\"fill: #1f77b4; stroke: #1f77b4\"/>\n     <use xlink:href=\"#m52e6331ca8\" x=\"78.653775\" y=\"66.841695\" style=\"fill: #1f77b4; stroke: #1f77b4\"/>\n     <use xlink:href=\"#m52e6331ca8\" x=\"144.16676\" y=\"85.376415\" style=\"fill: #1f77b4; stroke: #1f77b4\"/>\n     <use xlink:href=\"#m52e6331ca8\" x=\"156.809489\" y=\"100.083852\" style=\"fill: #1f77b4; stroke: #1f77b4\"/>\n     <use xlink:href=\"#m52e6331ca8\" x=\"189.61112\" y=\"112.639956\" style=\"fill: #1f77b4; stroke: #1f77b4\"/>\n     <use xlink:href=\"#m52e6331ca8\" x=\"148.63306\" y=\"78.670505\" style=\"fill: #1f77b4; stroke: #1f77b4\"/>\n     <use xlink:href=\"#m52e6331ca8\" x=\"133.296706\" y=\"91.988454\" style=\"fill: #1f77b4; stroke: #1f77b4\"/>\n     <use xlink:href=\"#m52e6331ca8\" x=\"134.375194\" y=\"74.41017\" style=\"fill: #1f77b4; stroke: #1f77b4\"/>\n     <use xlink:href=\"#m52e6331ca8\" x=\"161.952503\" y=\"93.48017\" style=\"fill: #1f77b4; stroke: #1f77b4\"/>\n     <use xlink:href=\"#m52e6331ca8\" x=\"159.970644\" y=\"98.038615\" style=\"fill: #1f77b4; stroke: #1f77b4\"/>\n     <use xlink:href=\"#m52e6331ca8\" x=\"104.396816\" y=\"66.924696\" style=\"fill: #1f77b4; stroke: #1f77b4\"/>\n     <use xlink:href=\"#m52e6331ca8\" x=\"124.903118\" y=\"53.847454\" style=\"fill: #1f77b4; stroke: #1f77b4\"/>\n     <use xlink:href=\"#m52e6331ca8\" x=\"215.214379\" y=\"138.842148\" style=\"fill: #1f77b4; stroke: #1f77b4\"/>\n     <use xlink:href=\"#m52e6331ca8\" x=\"149.263818\" y=\"100.386572\" style=\"fill: #1f77b4; stroke: #1f77b4\"/>\n     <use xlink:href=\"#m52e6331ca8\" x=\"191.600269\" y=\"104.011709\" style=\"fill: #1f77b4; stroke: #1f77b4\"/>\n     <use xlink:href=\"#m52e6331ca8\" x=\"153.016818\" y=\"109.816085\" style=\"fill: #1f77b4; stroke: #1f77b4\"/>\n     <use xlink:href=\"#m52e6331ca8\" x=\"148.341106\" y=\"81.641825\" style=\"fill: #1f77b4; stroke: #1f77b4\"/>\n     <use xlink:href=\"#m52e6331ca8\" x=\"117.957507\" y=\"69.231192\" style=\"fill: #1f77b4; stroke: #1f77b4\"/>\n     <use xlink:href=\"#m52e6331ca8\" x=\"83.44608\" y=\"53.561779\" style=\"fill: #1f77b4; stroke: #1f77b4\"/>\n     <use xlink:href=\"#m52e6331ca8\" x=\"144.100308\" y=\"86.839238\" style=\"fill: #1f77b4; stroke: #1f77b4\"/>\n     <use xlink:href=\"#m52e6331ca8\" x=\"150.201857\" y=\"74.0174\" style=\"fill: #1f77b4; stroke: #1f77b4\"/>\n     <use xlink:href=\"#m52e6331ca8\" x=\"107.773066\" y=\"54.088881\" style=\"fill: #1f77b4; stroke: #1f77b4\"/>\n     <use xlink:href=\"#m52e6331ca8\" x=\"137.267826\" y=\"81.507245\" style=\"fill: #1f77b4; stroke: #1f77b4\"/>\n     <use xlink:href=\"#m52e6331ca8\" x=\"117.841706\" y=\"71.764626\" style=\"fill: #1f77b4; stroke: #1f77b4\"/>\n     <use xlink:href=\"#m52e6331ca8\" x=\"120.063165\" y=\"90.19148\" style=\"fill: #1f77b4; stroke: #1f77b4\"/>\n     <use xlink:href=\"#m52e6331ca8\" x=\"146.506968\" y=\"93.406382\" style=\"fill: #1f77b4; stroke: #1f77b4\"/>\n     <use xlink:href=\"#m52e6331ca8\" x=\"151.845227\" y=\"92.677706\" style=\"fill: #1f77b4; stroke: #1f77b4\"/>\n     <use xlink:href=\"#m52e6331ca8\" x=\"167.338867\" y=\"99.050942\" style=\"fill: #1f77b4; stroke: #1f77b4\"/>\n     <use xlink:href=\"#m52e6331ca8\" x=\"163.225972\" y=\"104.176343\" style=\"fill: #1f77b4; stroke: #1f77b4\"/>\n     <use xlink:href=\"#m52e6331ca8\" x=\"129.065203\" y=\"71.338596\" style=\"fill: #1f77b4; stroke: #1f77b4\"/>\n     <use xlink:href=\"#m52e6331ca8\" x=\"116.96081\" y=\"74.242442\" style=\"fill: #1f77b4; stroke: #1f77b4\"/>\n     <use xlink:href=\"#m52e6331ca8\" x=\"154.373354\" y=\"96.99616\" style=\"fill: #1f77b4; stroke: #1f77b4\"/>\n     <use xlink:href=\"#m52e6331ca8\" x=\"180.923331\" y=\"104.865879\" style=\"fill: #1f77b4; stroke: #1f77b4\"/>\n     <use xlink:href=\"#m52e6331ca8\" x=\"124.420531\" y=\"53.218209\" style=\"fill: #1f77b4; stroke: #1f77b4\"/>\n     <use xlink:href=\"#m52e6331ca8\" x=\"135.22761\" y=\"72.501057\" style=\"fill: #1f77b4; stroke: #1f77b4\"/>\n     <use xlink:href=\"#m52e6331ca8\" x=\"148.540545\" y=\"98.57891\" style=\"fill: #1f77b4; stroke: #1f77b4\"/>\n     <use xlink:href=\"#m52e6331ca8\" x=\"96.735256\" y=\"60.126402\" style=\"fill: #1f77b4; stroke: #1f77b4\"/>\n     <use xlink:href=\"#m52e6331ca8\" x=\"151.506314\" y=\"91.129559\" style=\"fill: #1f77b4; stroke: #1f77b4\"/>\n     <use xlink:href=\"#m52e6331ca8\" x=\"127.842741\" y=\"73.532158\" style=\"fill: #1f77b4; stroke: #1f77b4\"/>\n     <use xlink:href=\"#m52e6331ca8\" x=\"123.471645\" y=\"61.848508\" style=\"fill: #1f77b4; stroke: #1f77b4\"/>\n     <use xlink:href=\"#m52e6331ca8\" x=\"124.765881\" y=\"88.42519\" style=\"fill: #1f77b4; stroke: #1f77b4\"/>\n     <use xlink:href=\"#m52e6331ca8\" x=\"96.986772\" y=\"73.970397\" style=\"fill: #1f77b4; stroke: #1f77b4\"/>\n     <use xlink:href=\"#m52e6331ca8\" x=\"58.470493\" y=\"31.623351\" style=\"fill: #1f77b4; stroke: #1f77b4\"/>\n     <use xlink:href=\"#m52e6331ca8\" x=\"141.31877\" y=\"81.98523\" style=\"fill: #1f77b4; stroke: #1f77b4\"/>\n     <use xlink:href=\"#m52e6331ca8\" x=\"147.943443\" y=\"88.629171\" style=\"fill: #1f77b4; stroke: #1f77b4\"/>\n     <use xlink:href=\"#m52e6331ca8\" x=\"141.100395\" y=\"79.009083\" style=\"fill: #1f77b4; stroke: #1f77b4\"/>\n     <use xlink:href=\"#m52e6331ca8\" x=\"99.03952\" y=\"53.312171\" style=\"fill: #1f77b4; stroke: #1f77b4\"/>\n     <use xlink:href=\"#m52e6331ca8\" x=\"138.930805\" y=\"85.959142\" style=\"fill: #1f77b4; stroke: #1f77b4\"/>\n     <use xlink:href=\"#m52e6331ca8\" x=\"104.861762\" y=\"65.703601\" style=\"fill: #1f77b4; stroke: #1f77b4\"/>\n     <use xlink:href=\"#m52e6331ca8\" x=\"151.314085\" y=\"92.059774\" style=\"fill: #1f77b4; stroke: #1f77b4\"/>\n     <use xlink:href=\"#m52e6331ca8\" x=\"136.625768\" y=\"67.377351\" style=\"fill: #1f77b4; stroke: #1f77b4\"/>\n     <use xlink:href=\"#m52e6331ca8\" x=\"160.748545\" y=\"85.468976\" style=\"fill: #1f77b4; stroke: #1f77b4\"/>\n     <use xlink:href=\"#m52e6331ca8\" x=\"115.487028\" y=\"58.210072\" style=\"fill: #1f77b4; stroke: #1f77b4\"/>\n     <use xlink:href=\"#m52e6331ca8\" x=\"186.623373\" y=\"119.214275\" style=\"fill: #1f77b4; stroke: #1f77b4\"/>\n     <use xlink:href=\"#m52e6331ca8\" x=\"187.306336\" y=\"103.68067\" style=\"fill: #1f77b4; stroke: #1f77b4\"/>\n     <use xlink:href=\"#m52e6331ca8\" x=\"97.26723\" y=\"48.799602\" style=\"fill: #1f77b4; stroke: #1f77b4\"/>\n     <use xlink:href=\"#m52e6331ca8\" x=\"158.680176\" y=\"88.399464\" style=\"fill: #1f77b4; stroke: #1f77b4\"/>\n     <use xlink:href=\"#m52e6331ca8\" x=\"125.009891\" y=\"66.04164\" style=\"fill: #1f77b4; stroke: #1f77b4\"/>\n     <use xlink:href=\"#m52e6331ca8\" x=\"152.758277\" y=\"92.250532\" style=\"fill: #1f77b4; stroke: #1f77b4\"/>\n     <use xlink:href=\"#m52e6331ca8\" x=\"117.634589\" y=\"78.106504\" style=\"fill: #1f77b4; stroke: #1f77b4\"/>\n     <use xlink:href=\"#m52e6331ca8\" x=\"151.282041\" y=\"68.88142\" style=\"fill: #1f77b4; stroke: #1f77b4\"/>\n     <use xlink:href=\"#m52e6331ca8\" x=\"167.81856\" y=\"94.304761\" style=\"fill: #1f77b4; stroke: #1f77b4\"/>\n     <use xlink:href=\"#m52e6331ca8\" x=\"142.218528\" y=\"79.423875\" style=\"fill: #1f77b4; stroke: #1f77b4\"/>\n     <use xlink:href=\"#m52e6331ca8\" x=\"137.523032\" y=\"71.982783\" style=\"fill: #1f77b4; stroke: #1f77b4\"/>\n     <use xlink:href=\"#m52e6331ca8\" x=\"99.209998\" y=\"67.813998\" style=\"fill: #1f77b4; stroke: #1f77b4\"/>\n     <use xlink:href=\"#m52e6331ca8\" x=\"113.875611\" y=\"77.207255\" style=\"fill: #1f77b4; stroke: #1f77b4\"/>\n     <use xlink:href=\"#m52e6331ca8\" x=\"100.854297\" y=\"45.800636\" style=\"fill: #1f77b4; stroke: #1f77b4\"/>\n     <use xlink:href=\"#m52e6331ca8\" x=\"158.054451\" y=\"94.406181\" style=\"fill: #1f77b4; stroke: #1f77b4\"/>\n     <use xlink:href=\"#m52e6331ca8\" x=\"92.98949\" y=\"46.787869\" style=\"fill: #1f77b4; stroke: #1f77b4\"/>\n     <use xlink:href=\"#m52e6331ca8\" x=\"143.311523\" y=\"73.18454\" style=\"fill: #1f77b4; stroke: #1f77b4\"/>\n     <use xlink:href=\"#m52e6331ca8\" x=\"96.662418\" y=\"60.99603\" style=\"fill: #1f77b4; stroke: #1f77b4\"/>\n     <use xlink:href=\"#m52e6331ca8\" x=\"154.906455\" y=\"94.066925\" style=\"fill: #1f77b4; stroke: #1f77b4\"/>\n     <use xlink:href=\"#m52e6331ca8\" x=\"175.911478\" y=\"93.428062\" style=\"fill: #1f77b4; stroke: #1f77b4\"/>\n     <use xlink:href=\"#m52e6331ca8\" x=\"119.396861\" y=\"78.568369\" style=\"fill: #1f77b4; stroke: #1f77b4\"/>\n     <use xlink:href=\"#m52e6331ca8\" x=\"148.007171\" y=\"83.189963\" style=\"fill: #1f77b4; stroke: #1f77b4\"/>\n     <use xlink:href=\"#m52e6331ca8\" x=\"151.044525\" y=\"99.432548\" style=\"fill: #1f77b4; stroke: #1f77b4\"/>\n     <use xlink:href=\"#m52e6331ca8\" x=\"162.120973\" y=\"108.95782\" style=\"fill: #1f77b4; stroke: #1f77b4\"/>\n     <use xlink:href=\"#m52e6331ca8\" x=\"83.785702\" y=\"52.090518\" style=\"fill: #1f77b4; stroke: #1f77b4\"/>\n     <use xlink:href=\"#m52e6331ca8\" x=\"186.573926\" y=\"116.110547\" style=\"fill: #1f77b4; stroke: #1f77b4\"/>\n     <use xlink:href=\"#m52e6331ca8\" x=\"129.049138\" y=\"57.384419\" style=\"fill: #1f77b4; stroke: #1f77b4\"/>\n     <use xlink:href=\"#m52e6331ca8\" x=\"150.165775\" y=\"79.346914\" style=\"fill: #1f77b4; stroke: #1f77b4\"/>\n     <use xlink:href=\"#m52e6331ca8\" x=\"125.147224\" y=\"71.217436\" style=\"fill: #1f77b4; stroke: #1f77b4\"/>\n     <use xlink:href=\"#m52e6331ca8\" x=\"115.412312\" y=\"76.438012\" style=\"fill: #1f77b4; stroke: #1f77b4\"/>\n     <use xlink:href=\"#m52e6331ca8\" x=\"143.135213\" y=\"87.910158\" style=\"fill: #1f77b4; stroke: #1f77b4\"/>\n     <use xlink:href=\"#m52e6331ca8\" x=\"91.110142\" y=\"52.200902\" style=\"fill: #1f77b4; stroke: #1f77b4\"/>\n     <use xlink:href=\"#m52e6331ca8\" x=\"136.788834\" y=\"73.721901\" style=\"fill: #1f77b4; stroke: #1f77b4\"/>\n     <use xlink:href=\"#m52e6331ca8\" x=\"149.725066\" y=\"86.422793\" style=\"fill: #1f77b4; stroke: #1f77b4\"/>\n     <use xlink:href=\"#m52e6331ca8\" x=\"92.10403\" y=\"36.418426\" style=\"fill: #1f77b4; stroke: #1f77b4\"/>\n     <use xlink:href=\"#m52e6331ca8\" x=\"113.465284\" y=\"74.602909\" style=\"fill: #1f77b4; stroke: #1f77b4\"/>\n     <use xlink:href=\"#m52e6331ca8\" x=\"132.963677\" y=\"93.63452\" style=\"fill: #1f77b4; stroke: #1f77b4\"/>\n     <use xlink:href=\"#m52e6331ca8\" x=\"55.279814\" y=\"20.484595\" style=\"fill: #1f77b4; stroke: #1f77b4\"/>\n     <use xlink:href=\"#m52e6331ca8\" x=\"142.135075\" y=\"77.927\" style=\"fill: #1f77b4; stroke: #1f77b4\"/>\n     <use xlink:href=\"#m52e6331ca8\" x=\"117.700115\" y=\"75.367836\" style=\"fill: #1f77b4; stroke: #1f77b4\"/>\n     <use xlink:href=\"#m52e6331ca8\" x=\"148.156861\" y=\"91.686796\" style=\"fill: #1f77b4; stroke: #1f77b4\"/>\n     <use xlink:href=\"#m52e6331ca8\" x=\"83.274197\" y=\"41.513042\" style=\"fill: #1f77b4; stroke: #1f77b4\"/>\n     <use xlink:href=\"#m52e6331ca8\" x=\"175.734686\" y=\"110.071238\" style=\"fill: #1f77b4; stroke: #1f77b4\"/>\n     <use xlink:href=\"#m52e6331ca8\" x=\"161.830907\" y=\"91.036443\" style=\"fill: #1f77b4; stroke: #1f77b4\"/>\n     <use xlink:href=\"#m52e6331ca8\" x=\"172.778723\" y=\"101.166715\" style=\"fill: #1f77b4; stroke: #1f77b4\"/>\n     <use xlink:href=\"#m52e6331ca8\" x=\"150.772487\" y=\"108.410411\" style=\"fill: #1f77b4; stroke: #1f77b4\"/>\n     <use xlink:href=\"#m52e6331ca8\" x=\"104.066393\" y=\"57.487011\" style=\"fill: #1f77b4; stroke: #1f77b4\"/>\n     <use xlink:href=\"#m52e6331ca8\" x=\"181.268337\" y=\"98.583161\" style=\"fill: #1f77b4; stroke: #1f77b4\"/>\n     <use xlink:href=\"#m52e6331ca8\" x=\"158.040738\" y=\"95.806257\" style=\"fill: #1f77b4; stroke: #1f77b4\"/>\n     <use xlink:href=\"#m52e6331ca8\" x=\"184.159349\" y=\"96.657371\" style=\"fill: #1f77b4; stroke: #1f77b4\"/>\n     <use xlink:href=\"#m52e6331ca8\" x=\"143.648441\" y=\"85.237418\" style=\"fill: #1f77b4; stroke: #1f77b4\"/>\n     <use xlink:href=\"#m52e6331ca8\" x=\"149.102099\" y=\"118.257087\" style=\"fill: #1f77b4; stroke: #1f77b4\"/>\n     <use xlink:href=\"#m52e6331ca8\" x=\"131.234987\" y=\"81.445111\" style=\"fill: #1f77b4; stroke: #1f77b4\"/>\n     <use xlink:href=\"#m52e6331ca8\" x=\"131.097868\" y=\"79.764229\" style=\"fill: #1f77b4; stroke: #1f77b4\"/>\n     <use xlink:href=\"#m52e6331ca8\" x=\"166.000841\" y=\"93.573256\" style=\"fill: #1f77b4; stroke: #1f77b4\"/>\n     <use xlink:href=\"#m52e6331ca8\" x=\"147.353703\" y=\"113.351162\" style=\"fill: #1f77b4; stroke: #1f77b4\"/>\n     <use xlink:href=\"#m52e6331ca8\" x=\"37.81946\" y=\"22.612099\" style=\"fill: #1f77b4; stroke: #1f77b4\"/>\n     <use xlink:href=\"#m52e6331ca8\" x=\"140.95892\" y=\"79.729062\" style=\"fill: #1f77b4; stroke: #1f77b4\"/>\n     <use xlink:href=\"#m52e6331ca8\" x=\"111.551809\" y=\"86.97414\" style=\"fill: #1f77b4; stroke: #1f77b4\"/>\n     <use xlink:href=\"#m52e6331ca8\" x=\"113.484758\" y=\"78.118798\" style=\"fill: #1f77b4; stroke: #1f77b4\"/>\n     <use xlink:href=\"#m52e6331ca8\" x=\"154.087258\" y=\"98.368524\" style=\"fill: #1f77b4; stroke: #1f77b4\"/>\n     <use xlink:href=\"#m52e6331ca8\" x=\"134.908879\" y=\"72.441862\" style=\"fill: #1f77b4; stroke: #1f77b4\"/>\n     <use xlink:href=\"#m52e6331ca8\" x=\"108.498895\" y=\"47.70804\" style=\"fill: #1f77b4; stroke: #1f77b4\"/>\n     <use xlink:href=\"#m52e6331ca8\" x=\"117.792233\" y=\"82.816406\" style=\"fill: #1f77b4; stroke: #1f77b4\"/>\n     <use xlink:href=\"#m52e6331ca8\" x=\"115.770315\" y=\"77.031905\" style=\"fill: #1f77b4; stroke: #1f77b4\"/>\n     <use xlink:href=\"#m52e6331ca8\" x=\"154.388399\" y=\"97.938713\" style=\"fill: #1f77b4; stroke: #1f77b4\"/>\n     <use xlink:href=\"#m52e6331ca8\" x=\"117.888094\" y=\"79.867331\" style=\"fill: #1f77b4; stroke: #1f77b4\"/>\n     <use xlink:href=\"#m52e6331ca8\" x=\"96.918334\" y=\"57.340073\" style=\"fill: #1f77b4; stroke: #1f77b4\"/>\n     <use xlink:href=\"#m52e6331ca8\" x=\"168.714274\" y=\"93.664098\" style=\"fill: #1f77b4; stroke: #1f77b4\"/>\n     <use xlink:href=\"#m52e6331ca8\" x=\"101.947637\" y=\"60.638978\" style=\"fill: #1f77b4; stroke: #1f77b4\"/>\n     <use xlink:href=\"#m52e6331ca8\" x=\"102.079639\" y=\"73.101622\" style=\"fill: #1f77b4; stroke: #1f77b4\"/>\n     <use xlink:href=\"#m52e6331ca8\" x=\"161.625214\" y=\"105.038338\" style=\"fill: #1f77b4; stroke: #1f77b4\"/>\n     <use xlink:href=\"#m52e6331ca8\" x=\"133.077528\" y=\"89.946366\" style=\"fill: #1f77b4; stroke: #1f77b4\"/>\n     <use xlink:href=\"#m52e6331ca8\" x=\"151.156835\" y=\"109.978793\" style=\"fill: #1f77b4; stroke: #1f77b4\"/>\n     <use xlink:href=\"#m52e6331ca8\" x=\"210.78592\" y=\"127.777546\" style=\"fill: #1f77b4; stroke: #1f77b4\"/>\n     <use xlink:href=\"#m52e6331ca8\" x=\"129.836563\" y=\"72.999413\" style=\"fill: #1f77b4; stroke: #1f77b4\"/>\n     <use xlink:href=\"#m52e6331ca8\" x=\"128.516962\" y=\"78.878121\" style=\"fill: #1f77b4; stroke: #1f77b4\"/>\n     <use xlink:href=\"#m52e6331ca8\" x=\"83.939075\" y=\"69.349777\" style=\"fill: #1f77b4; stroke: #1f77b4\"/>\n     <use xlink:href=\"#m52e6331ca8\" x=\"108.862001\" y=\"51.454885\" style=\"fill: #1f77b4; stroke: #1f77b4\"/>\n     <use xlink:href=\"#m52e6331ca8\" x=\"118.59542\" y=\"85.8625\" style=\"fill: #1f77b4; stroke: #1f77b4\"/>\n     <use xlink:href=\"#m52e6331ca8\" x=\"117.879323\" y=\"63.158831\" style=\"fill: #1f77b4; stroke: #1f77b4\"/>\n     <use xlink:href=\"#m52e6331ca8\" x=\"101.026102\" y=\"50.224529\" style=\"fill: #1f77b4; stroke: #1f77b4\"/>\n     <use xlink:href=\"#m52e6331ca8\" x=\"113.838804\" y=\"59.784921\" style=\"fill: #1f77b4; stroke: #1f77b4\"/>\n     <use xlink:href=\"#m52e6331ca8\" x=\"112.098042\" y=\"59.406732\" style=\"fill: #1f77b4; stroke: #1f77b4\"/>\n     <use xlink:href=\"#m52e6331ca8\" x=\"153.882011\" y=\"78.059013\" style=\"fill: #1f77b4; stroke: #1f77b4\"/>\n     <use xlink:href=\"#m52e6331ca8\" x=\"152.009252\" y=\"110.961164\" style=\"fill: #1f77b4; stroke: #1f77b4\"/>\n     <use xlink:href=\"#m52e6331ca8\" x=\"119.932667\" y=\"82.975308\" style=\"fill: #1f77b4; stroke: #1f77b4\"/>\n     <use xlink:href=\"#m52e6331ca8\" x=\"118.174563\" y=\"79.894326\" style=\"fill: #1f77b4; stroke: #1f77b4\"/>\n     <use xlink:href=\"#m52e6331ca8\" x=\"172.566787\" y=\"92.941861\" style=\"fill: #1f77b4; stroke: #1f77b4\"/>\n     <use xlink:href=\"#m52e6331ca8\" x=\"117.296084\" y=\"93.562891\" style=\"fill: #1f77b4; stroke: #1f77b4\"/>\n     <use xlink:href=\"#m52e6331ca8\" x=\"118.791581\" y=\"78.393553\" style=\"fill: #1f77b4; stroke: #1f77b4\"/>\n     <use xlink:href=\"#m52e6331ca8\" x=\"120.479019\" y=\"78.168024\" style=\"fill: #1f77b4; stroke: #1f77b4\"/>\n     <use xlink:href=\"#m52e6331ca8\" x=\"115.809301\" y=\"79.236701\" style=\"fill: #1f77b4; stroke: #1f77b4\"/>\n     <use xlink:href=\"#m52e6331ca8\" x=\"148.090423\" y=\"85.926769\" style=\"fill: #1f77b4; stroke: #1f77b4\"/>\n     <use xlink:href=\"#m52e6331ca8\" x=\"163.090104\" y=\"115.899754\" style=\"fill: #1f77b4; stroke: #1f77b4\"/>\n     <use xlink:href=\"#m52e6331ca8\" x=\"97.377074\" y=\"50.448227\" style=\"fill: #1f77b4; stroke: #1f77b4\"/>\n     <use xlink:href=\"#m52e6331ca8\" x=\"141.478565\" y=\"89.160488\" style=\"fill: #1f77b4; stroke: #1f77b4\"/>\n     <use xlink:href=\"#m52e6331ca8\" x=\"98.424198\" y=\"77.844423\" style=\"fill: #1f77b4; stroke: #1f77b4\"/>\n     <use xlink:href=\"#m52e6331ca8\" x=\"124.962081\" y=\"90.176998\" style=\"fill: #1f77b4; stroke: #1f77b4\"/>\n     <use xlink:href=\"#m52e6331ca8\" x=\"133.755432\" y=\"80.312394\" style=\"fill: #1f77b4; stroke: #1f77b4\"/>\n     <use xlink:href=\"#m52e6331ca8\" x=\"143.272805\" y=\"88.737968\" style=\"fill: #1f77b4; stroke: #1f77b4\"/>\n     <use xlink:href=\"#m52e6331ca8\" x=\"120.54481\" y=\"63.831378\" style=\"fill: #1f77b4; stroke: #1f77b4\"/>\n     <use xlink:href=\"#m52e6331ca8\" x=\"179.234825\" y=\"116.360794\" style=\"fill: #1f77b4; stroke: #1f77b4\"/>\n     <use xlink:href=\"#m52e6331ca8\" x=\"129.166499\" y=\"64.823109\" style=\"fill: #1f77b4; stroke: #1f77b4\"/>\n     <use xlink:href=\"#m52e6331ca8\" x=\"127.382888\" y=\"78.421219\" style=\"fill: #1f77b4; stroke: #1f77b4\"/>\n     <use xlink:href=\"#m52e6331ca8\" x=\"112.687755\" y=\"77.669759\" style=\"fill: #1f77b4; stroke: #1f77b4\"/>\n     <use xlink:href=\"#m52e6331ca8\" x=\"151.576706\" y=\"95.272541\" style=\"fill: #1f77b4; stroke: #1f77b4\"/>\n     <use xlink:href=\"#m52e6331ca8\" x=\"210.538148\" y=\"139.5\" style=\"fill: #1f77b4; stroke: #1f77b4\"/>\n     <use xlink:href=\"#m52e6331ca8\" x=\"158.296416\" y=\"84.807284\" style=\"fill: #1f77b4; stroke: #1f77b4\"/>\n     <use xlink:href=\"#m52e6331ca8\" x=\"159.480744\" y=\"102.229096\" style=\"fill: #1f77b4; stroke: #1f77b4\"/>\n     <use xlink:href=\"#m52e6331ca8\" x=\"92.854862\" y=\"55.090259\" style=\"fill: #1f77b4; stroke: #1f77b4\"/>\n     <use xlink:href=\"#m52e6331ca8\" x=\"107.531452\" y=\"69.669848\" style=\"fill: #1f77b4; stroke: #1f77b4\"/>\n     <use xlink:href=\"#m52e6331ca8\" x=\"140.055932\" y=\"92.229276\" style=\"fill: #1f77b4; stroke: #1f77b4\"/>\n     <use xlink:href=\"#m52e6331ca8\" x=\"106.494367\" y=\"69.98236\" style=\"fill: #1f77b4; stroke: #1f77b4\"/>\n     <use xlink:href=\"#m52e6331ca8\" x=\"129.068816\" y=\"98.528821\" style=\"fill: #1f77b4; stroke: #1f77b4\"/>\n     <use xlink:href=\"#m52e6331ca8\" x=\"164.593155\" y=\"100.357702\" style=\"fill: #1f77b4; stroke: #1f77b4\"/>\n     <use xlink:href=\"#m52e6331ca8\" x=\"166.139307\" y=\"104.542197\" style=\"fill: #1f77b4; stroke: #1f77b4\"/>\n     <use xlink:href=\"#m52e6331ca8\" x=\"121.438287\" y=\"68.998822\" style=\"fill: #1f77b4; stroke: #1f77b4\"/>\n     <use xlink:href=\"#m52e6331ca8\" x=\"142.366296\" y=\"80.120647\" style=\"fill: #1f77b4; stroke: #1f77b4\"/>\n     <use xlink:href=\"#m52e6331ca8\" x=\"143.211272\" y=\"84.316967\" style=\"fill: #1f77b4; stroke: #1f77b4\"/>\n     <use xlink:href=\"#m52e6331ca8\" x=\"52.112937\" y=\"40.379788\" style=\"fill: #1f77b4; stroke: #1f77b4\"/>\n     <use xlink:href=\"#m52e6331ca8\" x=\"152.701825\" y=\"90.740351\" style=\"fill: #1f77b4; stroke: #1f77b4\"/>\n     <use xlink:href=\"#m52e6331ca8\" x=\"168.034279\" y=\"110.098963\" style=\"fill: #1f77b4; stroke: #1f77b4\"/>\n     <use xlink:href=\"#m52e6331ca8\" x=\"110.114051\" y=\"61.146881\" style=\"fill: #1f77b4; stroke: #1f77b4\"/>\n     <use xlink:href=\"#m52e6331ca8\" x=\"111.856657\" y=\"76.963302\" style=\"fill: #1f77b4; stroke: #1f77b4\"/>\n     <use xlink:href=\"#m52e6331ca8\" x=\"89.443495\" y=\"39.595447\" style=\"fill: #1f77b4; stroke: #1f77b4\"/>\n     <use xlink:href=\"#m52e6331ca8\" x=\"82.116741\" y=\"43.595114\" style=\"fill: #1f77b4; stroke: #1f77b4\"/>\n     <use xlink:href=\"#m52e6331ca8\" x=\"114.771272\" y=\"73.221092\" style=\"fill: #1f77b4; stroke: #1f77b4\"/>\n     <use xlink:href=\"#m52e6331ca8\" x=\"135.278397\" y=\"78.248824\" style=\"fill: #1f77b4; stroke: #1f77b4\"/>\n     <use xlink:href=\"#m52e6331ca8\" x=\"123.128389\" y=\"71.142385\" style=\"fill: #1f77b4; stroke: #1f77b4\"/>\n     <use xlink:href=\"#m52e6331ca8\" x=\"149.685122\" y=\"107.128777\" style=\"fill: #1f77b4; stroke: #1f77b4\"/>\n     <use xlink:href=\"#m52e6331ca8\" x=\"82.420039\" y=\"32.603968\" style=\"fill: #1f77b4; stroke: #1f77b4\"/>\n     <use xlink:href=\"#m52e6331ca8\" x=\"126.389762\" y=\"97.207335\" style=\"fill: #1f77b4; stroke: #1f77b4\"/>\n     <use xlink:href=\"#m52e6331ca8\" x=\"129.279892\" y=\"81.973807\" style=\"fill: #1f77b4; stroke: #1f77b4\"/>\n     <use xlink:href=\"#m52e6331ca8\" x=\"83.560569\" y=\"63.349534\" style=\"fill: #1f77b4; stroke: #1f77b4\"/>\n     <use xlink:href=\"#m52e6331ca8\" x=\"149.193403\" y=\"86.781725\" style=\"fill: #1f77b4; stroke: #1f77b4\"/>\n     <use xlink:href=\"#m52e6331ca8\" x=\"125.404294\" y=\"100.242224\" style=\"fill: #1f77b4; stroke: #1f77b4\"/>\n     <use xlink:href=\"#m52e6331ca8\" x=\"99.713844\" y=\"61.140491\" style=\"fill: #1f77b4; stroke: #1f77b4\"/>\n     <use xlink:href=\"#m52e6331ca8\" x=\"192.044994\" y=\"108.753509\" style=\"fill: #1f77b4; stroke: #1f77b4\"/>\n     <use xlink:href=\"#m52e6331ca8\" x=\"135.145366\" y=\"78.674694\" style=\"fill: #1f77b4; stroke: #1f77b4\"/>\n     <use xlink:href=\"#m52e6331ca8\" x=\"113.820145\" y=\"76.627492\" style=\"fill: #1f77b4; stroke: #1f77b4\"/>\n     <use xlink:href=\"#m52e6331ca8\" x=\"109.293524\" y=\"82.34611\" style=\"fill: #1f77b4; stroke: #1f77b4\"/>\n     <use xlink:href=\"#m52e6331ca8\" x=\"150.741478\" y=\"82.033608\" style=\"fill: #1f77b4; stroke: #1f77b4\"/>\n     <use xlink:href=\"#m52e6331ca8\" x=\"144.266459\" y=\"90.140354\" style=\"fill: #1f77b4; stroke: #1f77b4\"/>\n     <use xlink:href=\"#m52e6331ca8\" x=\"163.968857\" y=\"80.468674\" style=\"fill: #1f77b4; stroke: #1f77b4\"/>\n     <use xlink:href=\"#m52e6331ca8\" x=\"132.769439\" y=\"83.512294\" style=\"fill: #1f77b4; stroke: #1f77b4\"/>\n     <use xlink:href=\"#m52e6331ca8\" x=\"161.15605\" y=\"106.038043\" style=\"fill: #1f77b4; stroke: #1f77b4\"/>\n     <use xlink:href=\"#m52e6331ca8\" x=\"105.793897\" y=\"59.25487\" style=\"fill: #1f77b4; stroke: #1f77b4\"/>\n     <use xlink:href=\"#m52e6331ca8\" x=\"146.457521\" y=\"82.591114\" style=\"fill: #1f77b4; stroke: #1f77b4\"/>\n     <use xlink:href=\"#m52e6331ca8\" x=\"140.912542\" y=\"79.440455\" style=\"fill: #1f77b4; stroke: #1f77b4\"/>\n     <use xlink:href=\"#m52e6331ca8\" x=\"91.994204\" y=\"48.36655\" style=\"fill: #1f77b4; stroke: #1f77b4\"/>\n     <use xlink:href=\"#m52e6331ca8\" x=\"141.339964\" y=\"96.71163\" style=\"fill: #1f77b4; stroke: #1f77b4\"/>\n     <use xlink:href=\"#m52e6331ca8\" x=\"59.328443\" y=\"33.589851\" style=\"fill: #1f77b4; stroke: #1f77b4\"/>\n     <use xlink:href=\"#m52e6331ca8\" x=\"155.865475\" y=\"85.062382\" style=\"fill: #1f77b4; stroke: #1f77b4\"/>\n     <use xlink:href=\"#m52e6331ca8\" x=\"149.113663\" y=\"75.637913\" style=\"fill: #1f77b4; stroke: #1f77b4\"/>\n     <use xlink:href=\"#m52e6331ca8\" x=\"75.465467\" y=\"56.021264\" style=\"fill: #1f77b4; stroke: #1f77b4\"/>\n     <use xlink:href=\"#m52e6331ca8\" x=\"103.799667\" y=\"70.957118\" style=\"fill: #1f77b4; stroke: #1f77b4\"/>\n     <use xlink:href=\"#m52e6331ca8\" x=\"75.857503\" y=\"44.532175\" style=\"fill: #1f77b4; stroke: #1f77b4\"/>\n     <use xlink:href=\"#m52e6331ca8\" x=\"106.022543\" y=\"59.306383\" style=\"fill: #1f77b4; stroke: #1f77b4\"/>\n     <use xlink:href=\"#m52e6331ca8\" x=\"109.329903\" y=\"85.189552\" style=\"fill: #1f77b4; stroke: #1f77b4\"/>\n     <use xlink:href=\"#m52e6331ca8\" x=\"135.078372\" y=\"81.579684\" style=\"fill: #1f77b4; stroke: #1f77b4\"/>\n     <use xlink:href=\"#m52e6331ca8\" x=\"156.451417\" y=\"99.772785\" style=\"fill: #1f77b4; stroke: #1f77b4\"/>\n     <use xlink:href=\"#m52e6331ca8\" x=\"91.216572\" y=\"54.078495\" style=\"fill: #1f77b4; stroke: #1f77b4\"/>\n     <use xlink:href=\"#m52e6331ca8\" x=\"125.19282\" y=\"62.07567\" style=\"fill: #1f77b4; stroke: #1f77b4\"/>\n     <use xlink:href=\"#m52e6331ca8\" x=\"92.994873\" y=\"71.354286\" style=\"fill: #1f77b4; stroke: #1f77b4\"/>\n     <use xlink:href=\"#m52e6331ca8\" x=\"179.629144\" y=\"116.744266\" style=\"fill: #1f77b4; stroke: #1f77b4\"/>\n     <use xlink:href=\"#m52e6331ca8\" x=\"151.986032\" y=\"94.026385\" style=\"fill: #1f77b4; stroke: #1f77b4\"/>\n     <use xlink:href=\"#m52e6331ca8\" x=\"117.050071\" y=\"73.169494\" style=\"fill: #1f77b4; stroke: #1f77b4\"/>\n     <use xlink:href=\"#m52e6331ca8\" x=\"117.340441\" y=\"62.726942\" style=\"fill: #1f77b4; stroke: #1f77b4\"/>\n     <use xlink:href=\"#m52e6331ca8\" x=\"105.275813\" y=\"61.577453\" style=\"fill: #1f77b4; stroke: #1f77b4\"/>\n     <use xlink:href=\"#m52e6331ca8\" x=\"90.573437\" y=\"63.675269\" style=\"fill: #1f77b4; stroke: #1f77b4\"/>\n     <use xlink:href=\"#m52e6331ca8\" x=\"161.524282\" y=\"113.370747\" style=\"fill: #1f77b4; stroke: #1f77b4\"/>\n     <use xlink:href=\"#m52e6331ca8\" x=\"117.683643\" y=\"59.503439\" style=\"fill: #1f77b4; stroke: #1f77b4\"/>\n     <use xlink:href=\"#m52e6331ca8\" x=\"76.997208\" y=\"55.427286\" style=\"fill: #1f77b4; stroke: #1f77b4\"/>\n     <use xlink:href=\"#m52e6331ca8\" x=\"104.026345\" y=\"76.246305\" style=\"fill: #1f77b4; stroke: #1f77b4\"/>\n     <use xlink:href=\"#m52e6331ca8\" x=\"87.226871\" y=\"77.718773\" style=\"fill: #1f77b4; stroke: #1f77b4\"/>\n     <use xlink:href=\"#m52e6331ca8\" x=\"164.987249\" y=\"97.812315\" style=\"fill: #1f77b4; stroke: #1f77b4\"/>\n     <use xlink:href=\"#m52e6331ca8\" x=\"107.592741\" y=\"50.87864\" style=\"fill: #1f77b4; stroke: #1f77b4\"/>\n     <use xlink:href=\"#m52e6331ca8\" x=\"151.580333\" y=\"106.405021\" style=\"fill: #1f77b4; stroke: #1f77b4\"/>\n     <use xlink:href=\"#m52e6331ca8\" x=\"142.936231\" y=\"84.895335\" style=\"fill: #1f77b4; stroke: #1f77b4\"/>\n     <use xlink:href=\"#m52e6331ca8\" x=\"124.27796\" y=\"59.742828\" style=\"fill: #1f77b4; stroke: #1f77b4\"/>\n     <use xlink:href=\"#m52e6331ca8\" x=\"133.754319\" y=\"78.764221\" style=\"fill: #1f77b4; stroke: #1f77b4\"/>\n     <use xlink:href=\"#m52e6331ca8\" x=\"127.893498\" y=\"80.622794\" style=\"fill: #1f77b4; stroke: #1f77b4\"/>\n     <use xlink:href=\"#m52e6331ca8\" x=\"162.495283\" y=\"97.361186\" style=\"fill: #1f77b4; stroke: #1f77b4\"/>\n     <use xlink:href=\"#m52e6331ca8\" x=\"164.566488\" y=\"101.33416\" style=\"fill: #1f77b4; stroke: #1f77b4\"/>\n    </g>\n   </g>\n   <g id=\"matplotlib.axis_1\">\n    <g id=\"xtick_1\">\n     <g id=\"line2d_1\">\n      <defs>\n       <path id=\"m0bdb909511\" d=\"M 0 0 \nL 0 3.5 \n\" style=\"stroke: #000000; stroke-width: 0.8\"/>\n      </defs>\n      <g>\n       <use xlink:href=\"#m0bdb909511\" x=\"73.225065\" y=\"145.8\" style=\"stroke: #000000; stroke-width: 0.8\"/>\n      </g>\n     </g>\n     <g id=\"text_1\">\n      <!-- −2 -->\n      <g transform=\"translate(65.853972 160.398438) scale(0.1 -0.1)\">\n       <defs>\n        <path id=\"DejaVuSans-2212\" d=\"M 678 2272 \nL 4684 2272 \nL 4684 1741 \nL 678 1741 \nL 678 2272 \nz\n\" transform=\"scale(0.015625)\"/>\n        <path id=\"DejaVuSans-32\" d=\"M 1228 531 \nL 3431 531 \nL 3431 0 \nL 469 0 \nL 469 531 \nQ 828 903 1448 1529 \nQ 2069 2156 2228 2338 \nQ 2531 2678 2651 2914 \nQ 2772 3150 2772 3378 \nQ 2772 3750 2511 3984 \nQ 2250 4219 1831 4219 \nQ 1534 4219 1204 4116 \nQ 875 4013 500 3803 \nL 500 4441 \nQ 881 4594 1212 4672 \nQ 1544 4750 1819 4750 \nQ 2544 4750 2975 4387 \nQ 3406 4025 3406 3419 \nQ 3406 3131 3298 2873 \nQ 3191 2616 2906 2266 \nQ 2828 2175 2409 1742 \nQ 1991 1309 1228 531 \nz\n\" transform=\"scale(0.015625)\"/>\n       </defs>\n       <use xlink:href=\"#DejaVuSans-2212\"/>\n       <use xlink:href=\"#DejaVuSans-32\" x=\"83.789062\"/>\n      </g>\n     </g>\n    </g>\n    <g id=\"xtick_2\">\n     <g id=\"line2d_2\">\n      <g>\n       <use xlink:href=\"#m0bdb909511\" x=\"132.140141\" y=\"145.8\" style=\"stroke: #000000; stroke-width: 0.8\"/>\n      </g>\n     </g>\n     <g id=\"text_2\">\n      <!-- 0 -->\n      <g transform=\"translate(128.958891 160.398438) scale(0.1 -0.1)\">\n       <defs>\n        <path id=\"DejaVuSans-30\" d=\"M 2034 4250 \nQ 1547 4250 1301 3770 \nQ 1056 3291 1056 2328 \nQ 1056 1369 1301 889 \nQ 1547 409 2034 409 \nQ 2525 409 2770 889 \nQ 3016 1369 3016 2328 \nQ 3016 3291 2770 3770 \nQ 2525 4250 2034 4250 \nz\nM 2034 4750 \nQ 2819 4750 3233 4129 \nQ 3647 3509 3647 2328 \nQ 3647 1150 3233 529 \nQ 2819 -91 2034 -91 \nQ 1250 -91 836 529 \nQ 422 1150 422 2328 \nQ 422 3509 836 4129 \nQ 1250 4750 2034 4750 \nz\n\" transform=\"scale(0.015625)\"/>\n       </defs>\n       <use xlink:href=\"#DejaVuSans-30\"/>\n      </g>\n     </g>\n    </g>\n    <g id=\"xtick_3\">\n     <g id=\"line2d_3\">\n      <g>\n       <use xlink:href=\"#m0bdb909511\" x=\"191.055218\" y=\"145.8\" style=\"stroke: #000000; stroke-width: 0.8\"/>\n      </g>\n     </g>\n     <g id=\"text_3\">\n      <!-- 2 -->\n      <g transform=\"translate(187.873968 160.398438) scale(0.1 -0.1)\">\n       <use xlink:href=\"#DejaVuSans-32\"/>\n      </g>\n     </g>\n    </g>\n   </g>\n   <g id=\"matplotlib.axis_2\">\n    <g id=\"ytick_1\">\n     <g id=\"line2d_4\">\n      <defs>\n       <path id=\"m78200fcc92\" d=\"M 0 0 \nL -3.5 0 \n\" style=\"stroke: #000000; stroke-width: 0.8\"/>\n      </defs>\n      <g>\n       <use xlink:href=\"#m78200fcc92\" x=\"28.942188\" y=\"126.497709\" style=\"stroke: #000000; stroke-width: 0.8\"/>\n      </g>\n     </g>\n     <g id=\"text_4\">\n      <!-- −5 -->\n      <g transform=\"translate(7.2 130.296928) scale(0.1 -0.1)\">\n       <defs>\n        <path id=\"DejaVuSans-35\" d=\"M 691 4666 \nL 3169 4666 \nL 3169 4134 \nL 1269 4134 \nL 1269 2991 \nQ 1406 3038 1543 3061 \nQ 1681 3084 1819 3084 \nQ 2600 3084 3056 2656 \nQ 3513 2228 3513 1497 \nQ 3513 744 3044 326 \nQ 2575 -91 1722 -91 \nQ 1428 -91 1123 -41 \nQ 819 9 494 109 \nL 494 744 \nQ 775 591 1075 516 \nQ 1375 441 1709 441 \nQ 2250 441 2565 725 \nQ 2881 1009 2881 1497 \nQ 2881 1984 2565 2268 \nQ 2250 2553 1709 2553 \nQ 1456 2553 1204 2497 \nQ 953 2441 691 2322 \nL 691 4666 \nz\n\" transform=\"scale(0.015625)\"/>\n       </defs>\n       <use xlink:href=\"#DejaVuSans-2212\"/>\n       <use xlink:href=\"#DejaVuSans-35\" x=\"83.789062\"/>\n      </g>\n     </g>\n    </g>\n    <g id=\"ytick_2\">\n     <g id=\"line2d_5\">\n      <g>\n       <use xlink:href=\"#m78200fcc92\" x=\"28.942188\" y=\"100.934327\" style=\"stroke: #000000; stroke-width: 0.8\"/>\n      </g>\n     </g>\n     <g id=\"text_5\">\n      <!-- 0 -->\n      <g transform=\"translate(15.579688 104.733546) scale(0.1 -0.1)\">\n       <use xlink:href=\"#DejaVuSans-30\"/>\n      </g>\n     </g>\n    </g>\n    <g id=\"ytick_3\">\n     <g id=\"line2d_6\">\n      <g>\n       <use xlink:href=\"#m78200fcc92\" x=\"28.942188\" y=\"75.370945\" style=\"stroke: #000000; stroke-width: 0.8\"/>\n      </g>\n     </g>\n     <g id=\"text_6\">\n      <!-- 5 -->\n      <g transform=\"translate(15.579688 79.170163) scale(0.1 -0.1)\">\n       <use xlink:href=\"#DejaVuSans-35\"/>\n      </g>\n     </g>\n    </g>\n    <g id=\"ytick_4\">\n     <g id=\"line2d_7\">\n      <g>\n       <use xlink:href=\"#m78200fcc92\" x=\"28.942188\" y=\"49.807562\" style=\"stroke: #000000; stroke-width: 0.8\"/>\n      </g>\n     </g>\n     <g id=\"text_7\">\n      <!-- 10 -->\n      <g transform=\"translate(9.217188 53.606781) scale(0.1 -0.1)\">\n       <defs>\n        <path id=\"DejaVuSans-31\" d=\"M 794 531 \nL 1825 531 \nL 1825 4091 \nL 703 3866 \nL 703 4441 \nL 1819 4666 \nL 2450 4666 \nL 2450 531 \nL 3481 531 \nL 3481 0 \nL 794 0 \nL 794 531 \nz\n\" transform=\"scale(0.015625)\"/>\n       </defs>\n       <use xlink:href=\"#DejaVuSans-31\"/>\n       <use xlink:href=\"#DejaVuSans-30\" x=\"63.623047\"/>\n      </g>\n     </g>\n    </g>\n    <g id=\"ytick_5\">\n     <g id=\"line2d_8\">\n      <g>\n       <use xlink:href=\"#m78200fcc92\" x=\"28.942188\" y=\"24.24418\" style=\"stroke: #000000; stroke-width: 0.8\"/>\n      </g>\n     </g>\n     <g id=\"text_8\">\n      <!-- 15 -->\n      <g transform=\"translate(9.217188 28.043399) scale(0.1 -0.1)\">\n       <use xlink:href=\"#DejaVuSans-31\"/>\n       <use xlink:href=\"#DejaVuSans-35\" x=\"63.623047\"/>\n      </g>\n     </g>\n    </g>\n   </g>\n   <g id=\"patch_3\">\n    <path d=\"M 28.942188 145.8 \nL 28.942188 7.2 \n\" style=\"fill: none; stroke: #000000; stroke-width: 0.8; stroke-linejoin: miter; stroke-linecap: square\"/>\n   </g>\n   <g id=\"patch_4\">\n    <path d=\"M 224.242188 145.8 \nL 224.242188 7.2 \n\" style=\"fill: none; stroke: #000000; stroke-width: 0.8; stroke-linejoin: miter; stroke-linecap: square\"/>\n   </g>\n   <g id=\"patch_5\">\n    <path d=\"M 28.942188 145.8 \nL 224.242188 145.8 \n\" style=\"fill: none; stroke: #000000; stroke-width: 0.8; stroke-linejoin: miter; stroke-linecap: square\"/>\n   </g>\n   <g id=\"patch_6\">\n    <path d=\"M 28.942188 7.2 \nL 224.242188 7.2 \n\" style=\"fill: none; stroke: #000000; stroke-width: 0.8; stroke-linejoin: miter; stroke-linecap: square\"/>\n   </g>\n  </g>\n </g>\n <defs>\n  <clipPath id=\"pd888d2cede\">\n   <rect x=\"28.942188\" y=\"7.2\" width=\"195.3\" height=\"138.6\"/>\n  </clipPath>\n </defs>\n</svg>\n"
     },
     "metadata": {},
     "output_type": "display_data"
    }
   ],
   "source": [
    "import matplotlib_inline.backend_inline\n",
    "def set_figsize(ipython_format, figsize=(3.5, 2.5)):\n",
    "    matplotlib_inline.backend_inline.set_matplotlib_formats('svg')\n",
    "    plt.rcParams['figure.figsize'] = figsize\n",
    "\n",
    "set_figsize('svg')\n",
    "plt.scatter(features[:, 1].numpy(), labels.numpy(), 1)"
   ],
   "metadata": {
    "collapsed": false
   }
  },
  {
   "cell_type": "code",
   "execution_count": 99,
   "outputs": [],
   "source": [
    "def data_iter(batch_size, features, labels):\n",
    "    num_examples = len(features)\n",
    "    indices = list(range(num_examples))\n",
    "    random.shuffle(indices)\n",
    "    for i in range(0, num_examples, batch_size):\n",
    "        j = torch.LongTensor(indices[i: min(i + batch_size, num_examples)]) # 最后一次可能不足一个batch\n",
    "        yield features.index_select(0, j), labels.index_select(0, j)"
   ],
   "metadata": {
    "collapsed": false
   }
  },
  {
   "cell_type": "code",
   "execution_count": 92,
   "outputs": [],
   "source": [
    "w = torch.tensor(np.random.normal(0, 0.01, (num_inputs, 1)), dtype=torch.float32)\n",
    "b = torch.zeros(1, dtype=torch.float32)"
   ],
   "metadata": {
    "collapsed": false
   }
  },
  {
   "cell_type": "code",
   "execution_count": 93,
   "outputs": [
    {
     "data": {
      "text/plain": "tensor([0.], requires_grad=True)"
     },
     "execution_count": 93,
     "metadata": {},
     "output_type": "execute_result"
    }
   ],
   "source": [
    "w.requires_grad_(requires_grad=True)\n",
    "b.requires_grad_(requires_grad=True)"
   ],
   "metadata": {
    "collapsed": false
   }
  },
  {
   "cell_type": "code",
   "execution_count": 94,
   "outputs": [],
   "source": [
    "def linreg(X, w, b):\n",
    "    return torch.mm(X, w) + b"
   ],
   "metadata": {
    "collapsed": false
   }
  },
  {
   "cell_type": "code",
   "execution_count": 96,
   "outputs": [],
   "source": [
    "def squared_loss(y_hat, y):\n",
    "    return (y_hat - y.view(y_hat.size()))**2/2"
   ],
   "metadata": {
    "collapsed": false
   }
  },
  {
   "cell_type": "code",
   "execution_count": 97,
   "outputs": [],
   "source": [
    "def sgd(params, lr, batch_size):\n",
    "    for param in params:\n",
    "        param.data -= lr * param.grad / batch_size"
   ],
   "metadata": {
    "collapsed": false
   }
  },
  {
   "cell_type": "code",
   "execution_count": 100,
   "outputs": [
    {
     "name": "stdout",
     "output_type": "stream",
     "text": [
      "epoch 1, loss 0.042626\n",
      "epoch 2, loss 0.000161\n",
      "epoch 3, loss 0.000049\n"
     ]
    }
   ],
   "source": [
    "lr = 0.03\n",
    "num_epochs = 3\n",
    "batch_size = 10\n",
    "net = linreg\n",
    "loss = squared_loss\n",
    "\n",
    "for epoch in range(num_epochs):\n",
    "    for X, y in data_iter(batch_size, features, labels):\n",
    "        l = loss(net(X, w, b), y).sum()\n",
    "        l.backward()\n",
    "        sgd([w, b], lr, batch_size)\n",
    "        w.grad.data.zero_()\n",
    "        b.grad.data.zero_()\n",
    "    train_l = loss(net(features, w, b), labels)\n",
    "    print('epoch %d, loss %f' % (epoch + 1, train_l.mean().item()))"
   ],
   "metadata": {
    "collapsed": false
   }
  },
  {
   "cell_type": "code",
   "execution_count": 101,
   "outputs": [
    {
     "name": "stdout",
     "output_type": "stream",
     "text": [
      "[2, -3.4] \n",
      " tensor([[ 1.9997],\n",
      "        [-3.3996]], requires_grad=True)\n",
      "4.2 \n",
      " tensor([4.1990], requires_grad=True)\n"
     ]
    }
   ],
   "source": [
    "print(true_w, '\\n', w)\n",
    "print(true_b, '\\n', b)"
   ],
   "metadata": {
    "collapsed": false
   }
  },
  {
   "cell_type": "code",
   "execution_count": 103,
   "outputs": [],
   "source": [
    "lr = 0.03\n",
    "import torch.utils.data as Data\n",
    "batch_size = 10\n",
    "# 将训练数据的特征和标签组合\n",
    "dataset = Data.TensorDataset(features, labels)\n",
    "# 把 dataset 放入 DataLoader\n",
    "data_iter = Data.DataLoader(\n",
    "dataset=dataset, # torch TensorDataset format\n",
    "batch_size=batch_size, # mini batch size\n",
    "shuffle=True, # 是否打乱数据 (训练集一般需要进行打乱)\n",
    "num_workers=0, # 多线程来读数据，注意在Windows下需要设置为0\n",
    ")"
   ],
   "metadata": {
    "collapsed": false
   }
  },
  {
   "cell_type": "code",
   "execution_count": 120,
   "outputs": [],
   "source": [
    "import torch.nn as nn\n",
    "class LinearNet(nn.Module):\n",
    "    def __init__(self, n_feature):\n",
    "        super(LinearNet, self).__init__()\n",
    "        self.linear = nn.Linear(n_feature, 1)\n",
    "\n",
    "# forward 定义前向传播\n",
    "def forward(self, x):\n",
    "    y = self.linear(x)\n",
    "    return y\n",
    "\n",
    "from collections import OrderedDict\n",
    "net = nn.Sequential(OrderedDict([\n",
    "('linear', nn.Linear(num_inputs, 1))\n",
    "]))"
   ],
   "metadata": {
    "collapsed": false
   }
  },
  {
   "cell_type": "code",
   "execution_count": 121,
   "outputs": [
    {
     "data": {
      "text/plain": "Parameter containing:\ntensor([0.], requires_grad=True)"
     },
     "execution_count": 121,
     "metadata": {},
     "output_type": "execute_result"
    }
   ],
   "source": [
    "from torch.nn import init\n",
    "init.normal_(net[0].weight, mean=0, std=0.01)\n",
    "init.constant_(net[0].bias, val=0) #也可以直接修改bias的data：net[0].bias.data.fill_(0)"
   ],
   "metadata": {
    "collapsed": false
   }
  },
  {
   "cell_type": "code",
   "execution_count": 122,
   "outputs": [],
   "source": [
    "loss = nn.MSELoss()"
   ],
   "metadata": {
    "collapsed": false
   }
  },
  {
   "cell_type": "code",
   "execution_count": 123,
   "outputs": [],
   "source": [
    "import torch.optim as optim\n",
    "optimizer = optim.SGD(net.parameters(), lr=0.03) #梯度下降的学习率指定为0.03\n",
    "# 可以为不同的子网络设置不同学习率\n",
    "# optimizer =optim.SGD([\n",
    "# # 如果不指定学习率，则用默认的最外层学习率\n",
    "# {'params': net.subnet1.parameters()}, # lr=0.03\n",
    "# {'params': net.subnet2.parameters(), 'lr': 0.01}\n",
    "# ], lr=0.03)"
   ],
   "metadata": {
    "collapsed": false
   }
  },
  {
   "cell_type": "code",
   "execution_count": 124,
   "outputs": [
    {
     "name": "stdout",
     "output_type": "stream",
     "text": [
      "epoch 1, loss: 0.000184\n",
      "epoch 2, loss: 0.000080\n",
      "epoch 3, loss: 0.000027\n"
     ]
    }
   ],
   "source": [
    "num_epochs = 3\n",
    "for epoch in range(1, num_epochs + 1):\n",
    "    for X, y in data_iter:\n",
    "        output = net(X)\n",
    "        l = loss(output, y.view(-1, 1))\n",
    "        optimizer.zero_grad() # 梯度清零，等价于net.zero_grad()\n",
    "        l.backward()\n",
    "        optimizer.step()\n",
    "    print('epoch %d, loss: %f' % (epoch, l.item()))"
   ],
   "metadata": {
    "collapsed": false
   }
  }
 ],
 "metadata": {
  "kernelspec": {
   "display_name": "Python 3",
   "language": "python",
   "name": "python3"
  },
  "language_info": {
   "codemirror_mode": {
    "name": "ipython",
    "version": 2
   },
   "file_extension": ".py",
   "mimetype": "text/x-python",
   "name": "python",
   "nbconvert_exporter": "python",
   "pygments_lexer": "ipython2",
   "version": "2.7.6"
  }
 },
 "nbformat": 4,
 "nbformat_minor": 0
}
